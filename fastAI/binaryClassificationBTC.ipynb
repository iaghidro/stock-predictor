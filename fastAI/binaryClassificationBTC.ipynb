{
 "cells": [
  {
   "cell_type": "markdown",
   "metadata": {},
   "source": [
    "# Structured data"
   ]
  },
  {
   "cell_type": "code",
   "execution_count": 60,
   "metadata": {},
   "outputs": [],
   "source": [
    "%matplotlib inline\n",
    "%reload_ext autoreload\n",
    "%autoreload 2"
   ]
  },
  {
   "cell_type": "code",
   "execution_count": 61,
   "metadata": {},
   "outputs": [],
   "source": [
    "from fastai.structured import *\n",
    "from fastai.column_data import *\n",
    "np.set_printoptions(threshold=50, edgeitems=20)\n",
    "\n",
    "PATH='data/stock/'"
   ]
  },
  {
   "cell_type": "markdown",
   "metadata": {
    "collapsed": true,
    "heading_collapsed": true,
    "scrolled": false
   },
   "source": [
    "## Create datasets"
   ]
  },
  {
   "cell_type": "markdown",
   "metadata": {
    "hidden": true
   },
   "source": [
    "You can download the datasets used [here](https://www.kaggle.com/c/titanic/data)."
   ]
  },
  {
   "cell_type": "markdown",
   "metadata": {
    "hidden": true
   },
   "source": [
    "Feature Space:\n",
    "* train: Training set provided by competition\n",
    "* test: testing set"
   ]
  },
  {
   "cell_type": "code",
   "execution_count": 62,
   "metadata": {
    "hidden": true
   },
   "outputs": [],
   "source": [
    "table_names = ['btc-bitstamp-2012-01-01_to_2018-01-08']"
   ]
  },
  {
   "cell_type": "markdown",
   "metadata": {
    "hidden": true
   },
   "source": [
    "We'll be using the popular data manipulation framework `pandas`. Among other things, pandas allows you to manipulate tables/data frames in python as one would in a database.\n",
    "\n",
    "We're going to go ahead and load all of our csv's as dataframes into the list `tables`."
   ]
  },
  {
   "cell_type": "code",
   "execution_count": 63,
   "metadata": {
    "hidden": true
   },
   "outputs": [],
   "source": [
    "tables = [pd.read_csv(f'{PATH}{fname}.csv', low_memory=False) for fname in table_names]"
   ]
  },
  {
   "cell_type": "code",
   "execution_count": 64,
   "metadata": {
    "hidden": true
   },
   "outputs": [],
   "source": [
    "from IPython.display import HTML"
   ]
  },
  {
   "cell_type": "markdown",
   "metadata": {
    "hidden": true
   },
   "source": [
    "We can use `head()` to get a quick look at the contents of each table:\n",
    "* train: Contains Passenger info such as Gender, Age, Ticket, Fare and whether Survived, the prediction variable\n",
    "* test: Same as training table, w/o Survived\n"
   ]
  },
  {
   "cell_type": "code",
   "execution_count": 65,
   "metadata": {
    "hidden": true
   },
   "outputs": [
    {
     "data": {
      "text/html": [
       "<div>\n",
       "<style scoped>\n",
       "    .dataframe tbody tr th:only-of-type {\n",
       "        vertical-align: middle;\n",
       "    }\n",
       "\n",
       "    .dataframe tbody tr th {\n",
       "        vertical-align: top;\n",
       "    }\n",
       "\n",
       "    .dataframe thead th {\n",
       "        text-align: right;\n",
       "    }\n",
       "</style>\n",
       "<table border=\"1\" class=\"dataframe\">\n",
       "  <thead>\n",
       "    <tr style=\"text-align: right;\">\n",
       "      <th></th>\n",
       "      <th>Timestamp</th>\n",
       "      <th>Open</th>\n",
       "      <th>High</th>\n",
       "      <th>Low</th>\n",
       "      <th>Close</th>\n",
       "      <th>Volume_(BTC)</th>\n",
       "      <th>Volume_(Currency)</th>\n",
       "      <th>Weighted_Price</th>\n",
       "    </tr>\n",
       "  </thead>\n",
       "  <tbody>\n",
       "    <tr>\n",
       "      <th>0</th>\n",
       "      <td>1325317920</td>\n",
       "      <td>4.39</td>\n",
       "      <td>4.39</td>\n",
       "      <td>4.39</td>\n",
       "      <td>4.39</td>\n",
       "      <td>0.455581</td>\n",
       "      <td>2.0</td>\n",
       "      <td>4.39</td>\n",
       "    </tr>\n",
       "    <tr>\n",
       "      <th>1</th>\n",
       "      <td>1325317980</td>\n",
       "      <td>4.39</td>\n",
       "      <td>4.39</td>\n",
       "      <td>4.39</td>\n",
       "      <td>4.39</td>\n",
       "      <td>0.455581</td>\n",
       "      <td>2.0</td>\n",
       "      <td>4.39</td>\n",
       "    </tr>\n",
       "    <tr>\n",
       "      <th>2</th>\n",
       "      <td>1325318040</td>\n",
       "      <td>4.39</td>\n",
       "      <td>4.39</td>\n",
       "      <td>4.39</td>\n",
       "      <td>4.39</td>\n",
       "      <td>0.455581</td>\n",
       "      <td>2.0</td>\n",
       "      <td>4.39</td>\n",
       "    </tr>\n",
       "    <tr>\n",
       "      <th>3</th>\n",
       "      <td>1325318100</td>\n",
       "      <td>4.39</td>\n",
       "      <td>4.39</td>\n",
       "      <td>4.39</td>\n",
       "      <td>4.39</td>\n",
       "      <td>0.455581</td>\n",
       "      <td>2.0</td>\n",
       "      <td>4.39</td>\n",
       "    </tr>\n",
       "    <tr>\n",
       "      <th>4</th>\n",
       "      <td>1325318160</td>\n",
       "      <td>4.39</td>\n",
       "      <td>4.39</td>\n",
       "      <td>4.39</td>\n",
       "      <td>4.39</td>\n",
       "      <td>0.455581</td>\n",
       "      <td>2.0</td>\n",
       "      <td>4.39</td>\n",
       "    </tr>\n",
       "  </tbody>\n",
       "</table>\n",
       "</div>"
      ],
      "text/plain": [
       "    Timestamp  Open  High   Low  Close  Volume_(BTC)  Volume_(Currency)  \\\n",
       "0  1325317920  4.39  4.39  4.39   4.39      0.455581                2.0   \n",
       "1  1325317980  4.39  4.39  4.39   4.39      0.455581                2.0   \n",
       "2  1325318040  4.39  4.39  4.39   4.39      0.455581                2.0   \n",
       "3  1325318100  4.39  4.39  4.39   4.39      0.455581                2.0   \n",
       "4  1325318160  4.39  4.39  4.39   4.39      0.455581                2.0   \n",
       "\n",
       "   Weighted_Price  \n",
       "0            4.39  \n",
       "1            4.39  \n",
       "2            4.39  \n",
       "3            4.39  \n",
       "4            4.39  "
      ]
     },
     "metadata": {},
     "output_type": "display_data"
    }
   ],
   "source": [
    "for t in tables: display(t.head())"
   ]
  },
  {
   "cell_type": "markdown",
   "metadata": {
    "hidden": true
   },
   "source": [
    "The following returns summarized aggregate information to each table accross each field."
   ]
  },
  {
   "cell_type": "code",
   "execution_count": 66,
   "metadata": {
    "hidden": true,
    "scrolled": false
   },
   "outputs": [
    {
     "data": {
      "text/html": [
       "<div>\n",
       "<style scoped>\n",
       "    .dataframe tbody tr th:only-of-type {\n",
       "        vertical-align: middle;\n",
       "    }\n",
       "\n",
       "    .dataframe tbody tr th {\n",
       "        vertical-align: top;\n",
       "    }\n",
       "\n",
       "    .dataframe thead th {\n",
       "        text-align: right;\n",
       "    }\n",
       "</style>\n",
       "<table border=\"1\" class=\"dataframe\">\n",
       "  <thead>\n",
       "    <tr style=\"text-align: right;\">\n",
       "      <th></th>\n",
       "      <th>Timestamp</th>\n",
       "      <th>Open</th>\n",
       "      <th>High</th>\n",
       "      <th>Low</th>\n",
       "      <th>Close</th>\n",
       "      <th>Volume_(BTC)</th>\n",
       "      <th>Volume_(Currency)</th>\n",
       "      <th>Weighted_Price</th>\n",
       "    </tr>\n",
       "  </thead>\n",
       "  <tbody>\n",
       "    <tr>\n",
       "      <th>count</th>\n",
       "      <td>3.16106e+06</td>\n",
       "      <td>3.16106e+06</td>\n",
       "      <td>3.16106e+06</td>\n",
       "      <td>3.16106e+06</td>\n",
       "      <td>3.16106e+06</td>\n",
       "      <td>3.16106e+06</td>\n",
       "      <td>3.16106e+06</td>\n",
       "      <td>3.16106e+06</td>\n",
       "    </tr>\n",
       "    <tr>\n",
       "      <th>mean</th>\n",
       "      <td>1.42034e+09</td>\n",
       "      <td>963.8</td>\n",
       "      <td>964.655</td>\n",
       "      <td>962.787</td>\n",
       "      <td>963.793</td>\n",
       "      <td>11.1296</td>\n",
       "      <td>9835.7</td>\n",
       "      <td>963.717</td>\n",
       "    </tr>\n",
       "    <tr>\n",
       "      <th>std</th>\n",
       "      <td>5.49194e+07</td>\n",
       "      <td>2260.8</td>\n",
       "      <td>2263.64</td>\n",
       "      <td>2257.31</td>\n",
       "      <td>2260.79</td>\n",
       "      <td>35.9115</td>\n",
       "      <td>53319.3</td>\n",
       "      <td>2260.51</td>\n",
       "    </tr>\n",
       "    <tr>\n",
       "      <th>min</th>\n",
       "      <td>1.32532e+09</td>\n",
       "      <td>3.8</td>\n",
       "      <td>3.8</td>\n",
       "      <td>1.5</td>\n",
       "      <td>1.5</td>\n",
       "      <td>0</td>\n",
       "      <td>0</td>\n",
       "      <td>3.8</td>\n",
       "    </tr>\n",
       "    <tr>\n",
       "      <th>25%</th>\n",
       "      <td>1.37273e+09</td>\n",
       "      <td>110.99</td>\n",
       "      <td>111</td>\n",
       "      <td>110.92</td>\n",
       "      <td>110.99</td>\n",
       "      <td>0.446709</td>\n",
       "      <td>66.3664</td>\n",
       "      <td>110.982</td>\n",
       "    </tr>\n",
       "    <tr>\n",
       "      <th>50%</th>\n",
       "      <td>1.42015e+09</td>\n",
       "      <td>378.67</td>\n",
       "      <td>378.88</td>\n",
       "      <td>378.39</td>\n",
       "      <td>378.66</td>\n",
       "      <td>2.07566</td>\n",
       "      <td>365.32</td>\n",
       "      <td>378.645</td>\n",
       "    </tr>\n",
       "    <tr>\n",
       "      <th>75%</th>\n",
       "      <td>1.46795e+09</td>\n",
       "      <td>658.39</td>\n",
       "      <td>659</td>\n",
       "      <td>657.86</td>\n",
       "      <td>658.44</td>\n",
       "      <td>8.83241</td>\n",
       "      <td>2660.46</td>\n",
       "      <td>658.42</td>\n",
       "    </tr>\n",
       "    <tr>\n",
       "      <th>max</th>\n",
       "      <td>1.51537e+09</td>\n",
       "      <td>19665.8</td>\n",
       "      <td>19666</td>\n",
       "      <td>19650</td>\n",
       "      <td>19665.8</td>\n",
       "      <td>5853.85</td>\n",
       "      <td>5.14793e+06</td>\n",
       "      <td>19663.3</td>\n",
       "    </tr>\n",
       "    <tr>\n",
       "      <th>counts</th>\n",
       "      <td>3161057</td>\n",
       "      <td>3161057</td>\n",
       "      <td>3161057</td>\n",
       "      <td>3161057</td>\n",
       "      <td>3161057</td>\n",
       "      <td>3161057</td>\n",
       "      <td>3161057</td>\n",
       "      <td>3161057</td>\n",
       "    </tr>\n",
       "    <tr>\n",
       "      <th>uniques</th>\n",
       "      <td>3161057</td>\n",
       "      <td>322563</td>\n",
       "      <td>302500</td>\n",
       "      <td>318358</td>\n",
       "      <td>317580</td>\n",
       "      <td>1576051</td>\n",
       "      <td>1912214</td>\n",
       "      <td>1425521</td>\n",
       "    </tr>\n",
       "    <tr>\n",
       "      <th>missing</th>\n",
       "      <td>0</td>\n",
       "      <td>0</td>\n",
       "      <td>0</td>\n",
       "      <td>0</td>\n",
       "      <td>0</td>\n",
       "      <td>0</td>\n",
       "      <td>0</td>\n",
       "      <td>0</td>\n",
       "    </tr>\n",
       "    <tr>\n",
       "      <th>missing_perc</th>\n",
       "      <td>0%</td>\n",
       "      <td>0%</td>\n",
       "      <td>0%</td>\n",
       "      <td>0%</td>\n",
       "      <td>0%</td>\n",
       "      <td>0%</td>\n",
       "      <td>0%</td>\n",
       "      <td>0%</td>\n",
       "    </tr>\n",
       "    <tr>\n",
       "      <th>types</th>\n",
       "      <td>numeric</td>\n",
       "      <td>numeric</td>\n",
       "      <td>numeric</td>\n",
       "      <td>numeric</td>\n",
       "      <td>numeric</td>\n",
       "      <td>numeric</td>\n",
       "      <td>numeric</td>\n",
       "      <td>numeric</td>\n",
       "    </tr>\n",
       "  </tbody>\n",
       "</table>\n",
       "</div>"
      ],
      "text/plain": [
       "                Timestamp         Open         High          Low        Close  \\\n",
       "count         3.16106e+06  3.16106e+06  3.16106e+06  3.16106e+06  3.16106e+06   \n",
       "mean          1.42034e+09        963.8      964.655      962.787      963.793   \n",
       "std           5.49194e+07       2260.8      2263.64      2257.31      2260.79   \n",
       "min           1.32532e+09          3.8          3.8          1.5          1.5   \n",
       "25%           1.37273e+09       110.99          111       110.92       110.99   \n",
       "50%           1.42015e+09       378.67       378.88       378.39       378.66   \n",
       "75%           1.46795e+09       658.39          659       657.86       658.44   \n",
       "max           1.51537e+09      19665.8        19666        19650      19665.8   \n",
       "counts            3161057      3161057      3161057      3161057      3161057   \n",
       "uniques           3161057       322563       302500       318358       317580   \n",
       "missing                 0            0            0            0            0   \n",
       "missing_perc           0%           0%           0%           0%           0%   \n",
       "types             numeric      numeric      numeric      numeric      numeric   \n",
       "\n",
       "             Volume_(BTC) Volume_(Currency) Weighted_Price  \n",
       "count         3.16106e+06       3.16106e+06    3.16106e+06  \n",
       "mean              11.1296            9835.7        963.717  \n",
       "std               35.9115           53319.3        2260.51  \n",
       "min                     0                 0            3.8  \n",
       "25%              0.446709           66.3664        110.982  \n",
       "50%               2.07566            365.32        378.645  \n",
       "75%               8.83241           2660.46         658.42  \n",
       "max               5853.85       5.14793e+06        19663.3  \n",
       "counts            3161057           3161057        3161057  \n",
       "uniques           1576051           1912214        1425521  \n",
       "missing                 0                 0              0  \n",
       "missing_perc           0%                0%             0%  \n",
       "types             numeric           numeric        numeric  "
      ]
     },
     "metadata": {},
     "output_type": "display_data"
    }
   ],
   "source": [
    "for t in tables: display(DataFrameSummary(t).summary())"
   ]
  },
  {
   "cell_type": "markdown",
   "metadata": {},
   "source": [
    "## Data Cleaning / Feature Engineering"
   ]
  },
  {
   "cell_type": "markdown",
   "metadata": {},
   "source": [
    "As a structured data problem, we necessarily have to go through all the cleaning and feature engineering, even though we're using a neural network."
   ]
  },
  {
   "cell_type": "code",
   "execution_count": 67,
   "metadata": {},
   "outputs": [],
   "source": [
    "train= tables[0]"
   ]
  },
  {
   "cell_type": "code",
   "execution_count": 68,
   "metadata": {},
   "outputs": [
    {
     "data": {
      "text/plain": [
       "3161057"
      ]
     },
     "execution_count": 68,
     "metadata": {},
     "output_type": "execute_result"
    }
   ],
   "source": [
    "len(train)"
   ]
  },
  {
   "cell_type": "markdown",
   "metadata": {},
   "source": [
    "Time modifications"
   ]
  },
  {
   "cell_type": "code",
   "execution_count": 69,
   "metadata": {},
   "outputs": [
    {
     "data": {
      "text/html": [
       "<div>\n",
       "<style scoped>\n",
       "    .dataframe tbody tr th:only-of-type {\n",
       "        vertical-align: middle;\n",
       "    }\n",
       "\n",
       "    .dataframe tbody tr th {\n",
       "        vertical-align: top;\n",
       "    }\n",
       "\n",
       "    .dataframe thead th {\n",
       "        text-align: right;\n",
       "    }\n",
       "</style>\n",
       "<table border=\"1\" class=\"dataframe\">\n",
       "  <thead>\n",
       "    <tr style=\"text-align: right;\">\n",
       "      <th></th>\n",
       "      <th>Timestamp</th>\n",
       "      <th>Open</th>\n",
       "      <th>High</th>\n",
       "      <th>Low</th>\n",
       "      <th>Close</th>\n",
       "      <th>Volume_(BTC)</th>\n",
       "      <th>Volume_(Currency)</th>\n",
       "      <th>Weighted_Price</th>\n",
       "      <th>hour</th>\n",
       "      <th>minute</th>\n",
       "    </tr>\n",
       "  </thead>\n",
       "  <tbody>\n",
       "    <tr>\n",
       "      <th>0</th>\n",
       "      <td>2011-12-31 07:52:00</td>\n",
       "      <td>4.39</td>\n",
       "      <td>4.39</td>\n",
       "      <td>4.39</td>\n",
       "      <td>4.39</td>\n",
       "      <td>0.455581</td>\n",
       "      <td>2.0</td>\n",
       "      <td>4.39</td>\n",
       "      <td>7</td>\n",
       "      <td>52</td>\n",
       "    </tr>\n",
       "    <tr>\n",
       "      <th>1</th>\n",
       "      <td>2011-12-31 07:53:00</td>\n",
       "      <td>4.39</td>\n",
       "      <td>4.39</td>\n",
       "      <td>4.39</td>\n",
       "      <td>4.39</td>\n",
       "      <td>0.455581</td>\n",
       "      <td>2.0</td>\n",
       "      <td>4.39</td>\n",
       "      <td>7</td>\n",
       "      <td>53</td>\n",
       "    </tr>\n",
       "    <tr>\n",
       "      <th>2</th>\n",
       "      <td>2011-12-31 07:54:00</td>\n",
       "      <td>4.39</td>\n",
       "      <td>4.39</td>\n",
       "      <td>4.39</td>\n",
       "      <td>4.39</td>\n",
       "      <td>0.455581</td>\n",
       "      <td>2.0</td>\n",
       "      <td>4.39</td>\n",
       "      <td>7</td>\n",
       "      <td>54</td>\n",
       "    </tr>\n",
       "    <tr>\n",
       "      <th>3</th>\n",
       "      <td>2011-12-31 07:55:00</td>\n",
       "      <td>4.39</td>\n",
       "      <td>4.39</td>\n",
       "      <td>4.39</td>\n",
       "      <td>4.39</td>\n",
       "      <td>0.455581</td>\n",
       "      <td>2.0</td>\n",
       "      <td>4.39</td>\n",
       "      <td>7</td>\n",
       "      <td>55</td>\n",
       "    </tr>\n",
       "    <tr>\n",
       "      <th>4</th>\n",
       "      <td>2011-12-31 07:56:00</td>\n",
       "      <td>4.39</td>\n",
       "      <td>4.39</td>\n",
       "      <td>4.39</td>\n",
       "      <td>4.39</td>\n",
       "      <td>0.455581</td>\n",
       "      <td>2.0</td>\n",
       "      <td>4.39</td>\n",
       "      <td>7</td>\n",
       "      <td>56</td>\n",
       "    </tr>\n",
       "  </tbody>\n",
       "</table>\n",
       "</div>"
      ],
      "text/plain": [
       "            Timestamp  Open  High   Low  Close  Volume_(BTC)  \\\n",
       "0 2011-12-31 07:52:00  4.39  4.39  4.39   4.39      0.455581   \n",
       "1 2011-12-31 07:53:00  4.39  4.39  4.39   4.39      0.455581   \n",
       "2 2011-12-31 07:54:00  4.39  4.39  4.39   4.39      0.455581   \n",
       "3 2011-12-31 07:55:00  4.39  4.39  4.39   4.39      0.455581   \n",
       "4 2011-12-31 07:56:00  4.39  4.39  4.39   4.39      0.455581   \n",
       "\n",
       "   Volume_(Currency)  Weighted_Price  hour  minute  \n",
       "0                2.0            4.39     7      52  \n",
       "1                2.0            4.39     7      53  \n",
       "2                2.0            4.39     7      54  \n",
       "3                2.0            4.39     7      55  \n",
       "4                2.0            4.39     7      56  "
      ]
     },
     "execution_count": 69,
     "metadata": {},
     "output_type": "execute_result"
    }
   ],
   "source": [
    "#convert to date objects\n",
    "train[\"Timestamp\"] = pd.to_datetime(train[\"Timestamp\"], unit='s')\n",
    "train['hour'] = train.Timestamp.dt.hour;\n",
    "train['minute'] = train.Timestamp.dt.minute;\n",
    "train.head()"
   ]
  },
  {
   "cell_type": "code",
   "execution_count": 70,
   "metadata": {},
   "outputs": [],
   "source": [
    "#shift close prices forward\n",
    "train['futureClose'] = train['Close'].shift(-1)"
   ]
  },
  {
   "cell_type": "code",
   "execution_count": 71,
   "metadata": {},
   "outputs": [
    {
     "data": {
      "text/html": [
       "<div>\n",
       "<style scoped>\n",
       "    .dataframe tbody tr th:only-of-type {\n",
       "        vertical-align: middle;\n",
       "    }\n",
       "\n",
       "    .dataframe tbody tr th {\n",
       "        vertical-align: top;\n",
       "    }\n",
       "\n",
       "    .dataframe thead th {\n",
       "        text-align: right;\n",
       "    }\n",
       "</style>\n",
       "<table border=\"1\" class=\"dataframe\">\n",
       "  <thead>\n",
       "    <tr style=\"text-align: right;\">\n",
       "      <th></th>\n",
       "      <th>Timestamp</th>\n",
       "      <th>Open</th>\n",
       "      <th>High</th>\n",
       "      <th>Low</th>\n",
       "      <th>Close</th>\n",
       "      <th>Volume_(BTC)</th>\n",
       "      <th>Volume_(Currency)</th>\n",
       "      <th>Weighted_Price</th>\n",
       "      <th>hour</th>\n",
       "      <th>minute</th>\n",
       "      <th>futureClose</th>\n",
       "      <th>action</th>\n",
       "    </tr>\n",
       "  </thead>\n",
       "  <tbody>\n",
       "    <tr>\n",
       "      <th>0</th>\n",
       "      <td>2011-12-31 07:52:00</td>\n",
       "      <td>4.39</td>\n",
       "      <td>4.39</td>\n",
       "      <td>4.39</td>\n",
       "      <td>4.39</td>\n",
       "      <td>0.455581</td>\n",
       "      <td>2.0</td>\n",
       "      <td>4.39</td>\n",
       "      <td>7</td>\n",
       "      <td>52</td>\n",
       "      <td>4.39</td>\n",
       "      <td>0</td>\n",
       "    </tr>\n",
       "    <tr>\n",
       "      <th>1</th>\n",
       "      <td>2011-12-31 07:53:00</td>\n",
       "      <td>4.39</td>\n",
       "      <td>4.39</td>\n",
       "      <td>4.39</td>\n",
       "      <td>4.39</td>\n",
       "      <td>0.455581</td>\n",
       "      <td>2.0</td>\n",
       "      <td>4.39</td>\n",
       "      <td>7</td>\n",
       "      <td>53</td>\n",
       "      <td>4.39</td>\n",
       "      <td>0</td>\n",
       "    </tr>\n",
       "    <tr>\n",
       "      <th>2</th>\n",
       "      <td>2011-12-31 07:54:00</td>\n",
       "      <td>4.39</td>\n",
       "      <td>4.39</td>\n",
       "      <td>4.39</td>\n",
       "      <td>4.39</td>\n",
       "      <td>0.455581</td>\n",
       "      <td>2.0</td>\n",
       "      <td>4.39</td>\n",
       "      <td>7</td>\n",
       "      <td>54</td>\n",
       "      <td>4.39</td>\n",
       "      <td>0</td>\n",
       "    </tr>\n",
       "    <tr>\n",
       "      <th>3</th>\n",
       "      <td>2011-12-31 07:55:00</td>\n",
       "      <td>4.39</td>\n",
       "      <td>4.39</td>\n",
       "      <td>4.39</td>\n",
       "      <td>4.39</td>\n",
       "      <td>0.455581</td>\n",
       "      <td>2.0</td>\n",
       "      <td>4.39</td>\n",
       "      <td>7</td>\n",
       "      <td>55</td>\n",
       "      <td>4.39</td>\n",
       "      <td>0</td>\n",
       "    </tr>\n",
       "    <tr>\n",
       "      <th>4</th>\n",
       "      <td>2011-12-31 07:56:00</td>\n",
       "      <td>4.39</td>\n",
       "      <td>4.39</td>\n",
       "      <td>4.39</td>\n",
       "      <td>4.39</td>\n",
       "      <td>0.455581</td>\n",
       "      <td>2.0</td>\n",
       "      <td>4.39</td>\n",
       "      <td>7</td>\n",
       "      <td>56</td>\n",
       "      <td>4.39</td>\n",
       "      <td>0</td>\n",
       "    </tr>\n",
       "  </tbody>\n",
       "</table>\n",
       "</div>"
      ],
      "text/plain": [
       "            Timestamp  Open  High   Low  Close  Volume_(BTC)  \\\n",
       "0 2011-12-31 07:52:00  4.39  4.39  4.39   4.39      0.455581   \n",
       "1 2011-12-31 07:53:00  4.39  4.39  4.39   4.39      0.455581   \n",
       "2 2011-12-31 07:54:00  4.39  4.39  4.39   4.39      0.455581   \n",
       "3 2011-12-31 07:55:00  4.39  4.39  4.39   4.39      0.455581   \n",
       "4 2011-12-31 07:56:00  4.39  4.39  4.39   4.39      0.455581   \n",
       "\n",
       "   Volume_(Currency)  Weighted_Price  hour  minute  futureClose  action  \n",
       "0                2.0            4.39     7      52         4.39       0  \n",
       "1                2.0            4.39     7      53         4.39       0  \n",
       "2                2.0            4.39     7      54         4.39       0  \n",
       "3                2.0            4.39     7      55         4.39       0  \n",
       "4                2.0            4.39     7      56         4.39       0  "
      ]
     },
     "execution_count": 71,
     "metadata": {},
     "output_type": "execute_result"
    }
   ],
   "source": [
    "#test\n",
    "# testTrain = train[-5:]\n",
    "# testTrain.apply(getTarget, axis=1)\n",
    "# testTrain['action'] = (testTrain['futureClose'] > testTrain['Close'])\n",
    "# testTrain = train[-5:]\n",
    "# testTrain\n",
    "\n",
    "# SET DEPENDENT VARIABLE ACTION\n",
    "train['action'] = (train['futureClose'] > train['Close'])\n",
    "train.action = train.action.astype(int)\n",
    "train.head()"
   ]
  },
  {
   "cell_type": "markdown",
   "metadata": {},
   "source": [
    "convert the prediction variable to type integer"
   ]
  },
  {
   "cell_type": "code",
   "execution_count": 72,
   "metadata": {},
   "outputs": [],
   "source": [
    "train.action = train.action.astype(int)"
   ]
  },
  {
   "cell_type": "code",
   "execution_count": 73,
   "metadata": {},
   "outputs": [
    {
     "data": {
      "text/html": [
       "<div>\n",
       "<style scoped>\n",
       "    .dataframe tbody tr th:only-of-type {\n",
       "        vertical-align: middle;\n",
       "    }\n",
       "\n",
       "    .dataframe tbody tr th {\n",
       "        vertical-align: top;\n",
       "    }\n",
       "\n",
       "    .dataframe thead th {\n",
       "        text-align: right;\n",
       "    }\n",
       "</style>\n",
       "<table border=\"1\" class=\"dataframe\">\n",
       "  <thead>\n",
       "    <tr style=\"text-align: right;\">\n",
       "      <th></th>\n",
       "      <th>index</th>\n",
       "      <th>Timestamp</th>\n",
       "      <th>Open</th>\n",
       "      <th>High</th>\n",
       "      <th>Low</th>\n",
       "      <th>Close</th>\n",
       "      <th>hour</th>\n",
       "      <th>minute</th>\n",
       "      <th>action</th>\n",
       "      <th>TimestampYear</th>\n",
       "      <th>...</th>\n",
       "      <th>TimestampDayofyear</th>\n",
       "      <th>TimestampIs_month_end</th>\n",
       "      <th>TimestampIs_month_start</th>\n",
       "      <th>TimestampIs_quarter_end</th>\n",
       "      <th>TimestampIs_quarter_start</th>\n",
       "      <th>TimestampIs_year_end</th>\n",
       "      <th>TimestampIs_year_start</th>\n",
       "      <th>TimestampElapsed</th>\n",
       "      <th>VolumeBTC</th>\n",
       "      <th>WeightedPrice</th>\n",
       "    </tr>\n",
       "  </thead>\n",
       "  <tbody>\n",
       "    <tr>\n",
       "      <th>0</th>\n",
       "      <td>0</td>\n",
       "      <td>2011-12-31 07:52:00</td>\n",
       "      <td>4.39</td>\n",
       "      <td>4.39</td>\n",
       "      <td>4.39</td>\n",
       "      <td>4.39</td>\n",
       "      <td>7</td>\n",
       "      <td>52</td>\n",
       "      <td>0</td>\n",
       "      <td>2011</td>\n",
       "      <td>...</td>\n",
       "      <td>365</td>\n",
       "      <td>True</td>\n",
       "      <td>False</td>\n",
       "      <td>True</td>\n",
       "      <td>False</td>\n",
       "      <td>True</td>\n",
       "      <td>False</td>\n",
       "      <td>1325317920</td>\n",
       "      <td>0.455581</td>\n",
       "      <td>4.39</td>\n",
       "    </tr>\n",
       "    <tr>\n",
       "      <th>1</th>\n",
       "      <td>1</td>\n",
       "      <td>2011-12-31 07:53:00</td>\n",
       "      <td>4.39</td>\n",
       "      <td>4.39</td>\n",
       "      <td>4.39</td>\n",
       "      <td>4.39</td>\n",
       "      <td>7</td>\n",
       "      <td>53</td>\n",
       "      <td>0</td>\n",
       "      <td>2011</td>\n",
       "      <td>...</td>\n",
       "      <td>365</td>\n",
       "      <td>True</td>\n",
       "      <td>False</td>\n",
       "      <td>True</td>\n",
       "      <td>False</td>\n",
       "      <td>True</td>\n",
       "      <td>False</td>\n",
       "      <td>1325317980</td>\n",
       "      <td>0.455581</td>\n",
       "      <td>4.39</td>\n",
       "    </tr>\n",
       "    <tr>\n",
       "      <th>2</th>\n",
       "      <td>2</td>\n",
       "      <td>2011-12-31 07:54:00</td>\n",
       "      <td>4.39</td>\n",
       "      <td>4.39</td>\n",
       "      <td>4.39</td>\n",
       "      <td>4.39</td>\n",
       "      <td>7</td>\n",
       "      <td>54</td>\n",
       "      <td>0</td>\n",
       "      <td>2011</td>\n",
       "      <td>...</td>\n",
       "      <td>365</td>\n",
       "      <td>True</td>\n",
       "      <td>False</td>\n",
       "      <td>True</td>\n",
       "      <td>False</td>\n",
       "      <td>True</td>\n",
       "      <td>False</td>\n",
       "      <td>1325318040</td>\n",
       "      <td>0.455581</td>\n",
       "      <td>4.39</td>\n",
       "    </tr>\n",
       "    <tr>\n",
       "      <th>3</th>\n",
       "      <td>3</td>\n",
       "      <td>2011-12-31 07:55:00</td>\n",
       "      <td>4.39</td>\n",
       "      <td>4.39</td>\n",
       "      <td>4.39</td>\n",
       "      <td>4.39</td>\n",
       "      <td>7</td>\n",
       "      <td>55</td>\n",
       "      <td>0</td>\n",
       "      <td>2011</td>\n",
       "      <td>...</td>\n",
       "      <td>365</td>\n",
       "      <td>True</td>\n",
       "      <td>False</td>\n",
       "      <td>True</td>\n",
       "      <td>False</td>\n",
       "      <td>True</td>\n",
       "      <td>False</td>\n",
       "      <td>1325318100</td>\n",
       "      <td>0.455581</td>\n",
       "      <td>4.39</td>\n",
       "    </tr>\n",
       "    <tr>\n",
       "      <th>4</th>\n",
       "      <td>4</td>\n",
       "      <td>2011-12-31 07:56:00</td>\n",
       "      <td>4.39</td>\n",
       "      <td>4.39</td>\n",
       "      <td>4.39</td>\n",
       "      <td>4.39</td>\n",
       "      <td>7</td>\n",
       "      <td>56</td>\n",
       "      <td>0</td>\n",
       "      <td>2011</td>\n",
       "      <td>...</td>\n",
       "      <td>365</td>\n",
       "      <td>True</td>\n",
       "      <td>False</td>\n",
       "      <td>True</td>\n",
       "      <td>False</td>\n",
       "      <td>True</td>\n",
       "      <td>False</td>\n",
       "      <td>1325318160</td>\n",
       "      <td>0.455581</td>\n",
       "      <td>4.39</td>\n",
       "    </tr>\n",
       "  </tbody>\n",
       "</table>\n",
       "<p>5 rows × 24 columns</p>\n",
       "</div>"
      ],
      "text/plain": [
       "   index           Timestamp  Open  High   Low  Close  hour  minute  action  \\\n",
       "0      0 2011-12-31 07:52:00  4.39  4.39  4.39   4.39     7      52       0   \n",
       "1      1 2011-12-31 07:53:00  4.39  4.39  4.39   4.39     7      53       0   \n",
       "2      2 2011-12-31 07:54:00  4.39  4.39  4.39   4.39     7      54       0   \n",
       "3      3 2011-12-31 07:55:00  4.39  4.39  4.39   4.39     7      55       0   \n",
       "4      4 2011-12-31 07:56:00  4.39  4.39  4.39   4.39     7      56       0   \n",
       "\n",
       "   TimestampYear      ...        TimestampDayofyear  TimestampIs_month_end  \\\n",
       "0           2011      ...                       365                   True   \n",
       "1           2011      ...                       365                   True   \n",
       "2           2011      ...                       365                   True   \n",
       "3           2011      ...                       365                   True   \n",
       "4           2011      ...                       365                   True   \n",
       "\n",
       "   TimestampIs_month_start  TimestampIs_quarter_end  \\\n",
       "0                    False                     True   \n",
       "1                    False                     True   \n",
       "2                    False                     True   \n",
       "3                    False                     True   \n",
       "4                    False                     True   \n",
       "\n",
       "   TimestampIs_quarter_start  TimestampIs_year_end  TimestampIs_year_start  \\\n",
       "0                      False                  True                   False   \n",
       "1                      False                  True                   False   \n",
       "2                      False                  True                   False   \n",
       "3                      False                  True                   False   \n",
       "4                      False                  True                   False   \n",
       "\n",
       "   TimestampElapsed  VolumeBTC  WeightedPrice  \n",
       "0        1325317920   0.455581           4.39  \n",
       "1        1325317980   0.455581           4.39  \n",
       "2        1325318040   0.455581           4.39  \n",
       "3        1325318100   0.455581           4.39  \n",
       "4        1325318160   0.455581           4.39  \n",
       "\n",
       "[5 rows x 24 columns]"
      ]
     },
     "execution_count": 73,
     "metadata": {},
     "output_type": "execute_result"
    }
   ],
   "source": [
    "# May need to clean data and handle missing values\n",
    "\n",
    "# add all date time values\n",
    "add_datepart(train, \"Timestamp\", drop=False)\n",
    "\n",
    "# edit columns\n",
    "\n",
    "train[\"VolumeBTC\"] = train[\"Volume_(BTC)\"]\n",
    "train.drop('Volume_(BTC)',1,inplace=True)\n",
    "train[\"VolumeCurrency\"] = train[\"Volume_(Currency)\"]\n",
    "train.drop('Volume_(Currency)',1,inplace=True)\n",
    "train[\"WeightedPrice\"] = train[\"Weighted_Price\"]\n",
    "train.drop('Weighted_Price',1,inplace=True)\n",
    "\n",
    "# delete unused columns\n",
    "train.drop('VolumeCurrency',1,inplace=True)\n",
    "train.drop('futureClose',1,inplace=True)\n",
    "\n",
    "train.reset_index(inplace=True)\n",
    "train.head()"
   ]
  },
  {
   "cell_type": "markdown",
   "metadata": {},
   "source": [
    "remove all 0 values "
   ]
  },
  {
   "cell_type": "code",
   "execution_count": 74,
   "metadata": {},
   "outputs": [],
   "source": [
    "train = train[train.Open!=0]\n",
    "train = train[train.High!=0]\n",
    "train = train[train.Low!=0]\n",
    "train = train[train.Close!=0]\n",
    "train = train[train.WeightedPrice!=0]"
   ]
  },
  {
   "cell_type": "code",
   "execution_count": 75,
   "metadata": {},
   "outputs": [],
   "source": [
    "# trim to a million records for now\n",
    "# TODO: remove this\n",
    "train = train[-100000:]\n",
    "train.reset_index(inplace=True)"
   ]
  },
  {
   "cell_type": "code",
   "execution_count": 76,
   "metadata": {},
   "outputs": [],
   "source": [
    "train.to_feather(f'{PATH}train')"
   ]
  },
  {
   "cell_type": "markdown",
   "metadata": {},
   "source": [
    "We fill in missing values to avoid complications with `NA`'s. `NA` (not available) is how Pandas indicates missing values; many models have problems when missing values are present, so it's always important to think about how to deal with them. In these cases, we are picking an arbitrary *signal value* that doesn't otherwise appear in the data."
   ]
  },
  {
   "cell_type": "markdown",
   "metadata": {
    "collapsed": true,
    "heading_collapsed": true
   },
   "source": [
    "## Create features"
   ]
  },
  {
   "cell_type": "code",
   "execution_count": 77,
   "metadata": {
    "hidden": true
   },
   "outputs": [],
   "source": [
    "train = pd.read_feather(f'{PATH}train')"
   ]
  },
  {
   "cell_type": "code",
   "execution_count": 78,
   "metadata": {
    "hidden": true,
    "scrolled": true
   },
   "outputs": [
    {
     "data": {
      "text/html": [
       "<div>\n",
       "<style scoped>\n",
       "    .dataframe tbody tr th:only-of-type {\n",
       "        vertical-align: middle;\n",
       "    }\n",
       "\n",
       "    .dataframe tbody tr th {\n",
       "        vertical-align: top;\n",
       "    }\n",
       "\n",
       "    .dataframe thead th {\n",
       "        text-align: right;\n",
       "    }\n",
       "</style>\n",
       "<table border=\"1\" class=\"dataframe\">\n",
       "  <thead>\n",
       "    <tr style=\"text-align: right;\">\n",
       "      <th></th>\n",
       "      <th>0</th>\n",
       "      <th>1</th>\n",
       "      <th>2</th>\n",
       "      <th>3</th>\n",
       "      <th>4</th>\n",
       "    </tr>\n",
       "  </thead>\n",
       "  <tbody>\n",
       "    <tr>\n",
       "      <th>level_0</th>\n",
       "      <td>3061057</td>\n",
       "      <td>3061058</td>\n",
       "      <td>3061059</td>\n",
       "      <td>3061060</td>\n",
       "      <td>3061061</td>\n",
       "    </tr>\n",
       "    <tr>\n",
       "      <th>index</th>\n",
       "      <td>3061057</td>\n",
       "      <td>3061058</td>\n",
       "      <td>3061059</td>\n",
       "      <td>3061060</td>\n",
       "      <td>3061061</td>\n",
       "    </tr>\n",
       "    <tr>\n",
       "      <th>Timestamp</th>\n",
       "      <td>2017-10-30 13:21:00</td>\n",
       "      <td>2017-10-30 13:22:00</td>\n",
       "      <td>2017-10-30 13:23:00</td>\n",
       "      <td>2017-10-30 13:24:00</td>\n",
       "      <td>2017-10-30 13:25:00</td>\n",
       "    </tr>\n",
       "    <tr>\n",
       "      <th>Open</th>\n",
       "      <td>6155.01</td>\n",
       "      <td>6167.93</td>\n",
       "      <td>6172.24</td>\n",
       "      <td>6172.56</td>\n",
       "      <td>6172.29</td>\n",
       "    </tr>\n",
       "    <tr>\n",
       "      <th>High</th>\n",
       "      <td>6172.21</td>\n",
       "      <td>6172.31</td>\n",
       "      <td>6175.94</td>\n",
       "      <td>6176.11</td>\n",
       "      <td>6176.14</td>\n",
       "    </tr>\n",
       "    <tr>\n",
       "      <th>Low</th>\n",
       "      <td>6144.66</td>\n",
       "      <td>6167.86</td>\n",
       "      <td>6154.33</td>\n",
       "      <td>6163.76</td>\n",
       "      <td>6164.11</td>\n",
       "    </tr>\n",
       "    <tr>\n",
       "      <th>Close</th>\n",
       "      <td>6168.03</td>\n",
       "      <td>6172.31</td>\n",
       "      <td>6163.76</td>\n",
       "      <td>6172.29</td>\n",
       "      <td>6174.74</td>\n",
       "    </tr>\n",
       "    <tr>\n",
       "      <th>hour</th>\n",
       "      <td>13</td>\n",
       "      <td>13</td>\n",
       "      <td>13</td>\n",
       "      <td>13</td>\n",
       "      <td>13</td>\n",
       "    </tr>\n",
       "    <tr>\n",
       "      <th>minute</th>\n",
       "      <td>21</td>\n",
       "      <td>22</td>\n",
       "      <td>23</td>\n",
       "      <td>24</td>\n",
       "      <td>25</td>\n",
       "    </tr>\n",
       "    <tr>\n",
       "      <th>action</th>\n",
       "      <td>1</td>\n",
       "      <td>0</td>\n",
       "      <td>1</td>\n",
       "      <td>1</td>\n",
       "      <td>0</td>\n",
       "    </tr>\n",
       "    <tr>\n",
       "      <th>TimestampYear</th>\n",
       "      <td>2017</td>\n",
       "      <td>2017</td>\n",
       "      <td>2017</td>\n",
       "      <td>2017</td>\n",
       "      <td>2017</td>\n",
       "    </tr>\n",
       "    <tr>\n",
       "      <th>TimestampMonth</th>\n",
       "      <td>10</td>\n",
       "      <td>10</td>\n",
       "      <td>10</td>\n",
       "      <td>10</td>\n",
       "      <td>10</td>\n",
       "    </tr>\n",
       "    <tr>\n",
       "      <th>TimestampWeek</th>\n",
       "      <td>44</td>\n",
       "      <td>44</td>\n",
       "      <td>44</td>\n",
       "      <td>44</td>\n",
       "      <td>44</td>\n",
       "    </tr>\n",
       "    <tr>\n",
       "      <th>TimestampDay</th>\n",
       "      <td>30</td>\n",
       "      <td>30</td>\n",
       "      <td>30</td>\n",
       "      <td>30</td>\n",
       "      <td>30</td>\n",
       "    </tr>\n",
       "    <tr>\n",
       "      <th>TimestampDayofweek</th>\n",
       "      <td>0</td>\n",
       "      <td>0</td>\n",
       "      <td>0</td>\n",
       "      <td>0</td>\n",
       "      <td>0</td>\n",
       "    </tr>\n",
       "    <tr>\n",
       "      <th>TimestampDayofyear</th>\n",
       "      <td>303</td>\n",
       "      <td>303</td>\n",
       "      <td>303</td>\n",
       "      <td>303</td>\n",
       "      <td>303</td>\n",
       "    </tr>\n",
       "    <tr>\n",
       "      <th>TimestampIs_month_end</th>\n",
       "      <td>False</td>\n",
       "      <td>False</td>\n",
       "      <td>False</td>\n",
       "      <td>False</td>\n",
       "      <td>False</td>\n",
       "    </tr>\n",
       "    <tr>\n",
       "      <th>TimestampIs_month_start</th>\n",
       "      <td>False</td>\n",
       "      <td>False</td>\n",
       "      <td>False</td>\n",
       "      <td>False</td>\n",
       "      <td>False</td>\n",
       "    </tr>\n",
       "    <tr>\n",
       "      <th>TimestampIs_quarter_end</th>\n",
       "      <td>False</td>\n",
       "      <td>False</td>\n",
       "      <td>False</td>\n",
       "      <td>False</td>\n",
       "      <td>False</td>\n",
       "    </tr>\n",
       "    <tr>\n",
       "      <th>TimestampIs_quarter_start</th>\n",
       "      <td>False</td>\n",
       "      <td>False</td>\n",
       "      <td>False</td>\n",
       "      <td>False</td>\n",
       "      <td>False</td>\n",
       "    </tr>\n",
       "    <tr>\n",
       "      <th>TimestampIs_year_end</th>\n",
       "      <td>False</td>\n",
       "      <td>False</td>\n",
       "      <td>False</td>\n",
       "      <td>False</td>\n",
       "      <td>False</td>\n",
       "    </tr>\n",
       "    <tr>\n",
       "      <th>TimestampIs_year_start</th>\n",
       "      <td>False</td>\n",
       "      <td>False</td>\n",
       "      <td>False</td>\n",
       "      <td>False</td>\n",
       "      <td>False</td>\n",
       "    </tr>\n",
       "    <tr>\n",
       "      <th>TimestampElapsed</th>\n",
       "      <td>1509369660</td>\n",
       "      <td>1509369720</td>\n",
       "      <td>1509369780</td>\n",
       "      <td>1509369840</td>\n",
       "      <td>1509369900</td>\n",
       "    </tr>\n",
       "    <tr>\n",
       "      <th>VolumeBTC</th>\n",
       "      <td>5.61991</td>\n",
       "      <td>12.599</td>\n",
       "      <td>12.8659</td>\n",
       "      <td>21.1917</td>\n",
       "      <td>14.4601</td>\n",
       "    </tr>\n",
       "    <tr>\n",
       "      <th>WeightedPrice</th>\n",
       "      <td>6165.08</td>\n",
       "      <td>6170.01</td>\n",
       "      <td>6168.54</td>\n",
       "      <td>6166.86</td>\n",
       "      <td>6174.17</td>\n",
       "    </tr>\n",
       "  </tbody>\n",
       "</table>\n",
       "</div>"
      ],
      "text/plain": [
       "                                             0                    1  \\\n",
       "level_0                                3061057              3061058   \n",
       "index                                  3061057              3061058   \n",
       "Timestamp                  2017-10-30 13:21:00  2017-10-30 13:22:00   \n",
       "Open                                   6155.01              6167.93   \n",
       "High                                   6172.21              6172.31   \n",
       "Low                                    6144.66              6167.86   \n",
       "Close                                  6168.03              6172.31   \n",
       "hour                                        13                   13   \n",
       "minute                                      21                   22   \n",
       "action                                       1                    0   \n",
       "TimestampYear                             2017                 2017   \n",
       "TimestampMonth                              10                   10   \n",
       "TimestampWeek                               44                   44   \n",
       "TimestampDay                                30                   30   \n",
       "TimestampDayofweek                           0                    0   \n",
       "TimestampDayofyear                         303                  303   \n",
       "TimestampIs_month_end                    False                False   \n",
       "TimestampIs_month_start                  False                False   \n",
       "TimestampIs_quarter_end                  False                False   \n",
       "TimestampIs_quarter_start                False                False   \n",
       "TimestampIs_year_end                     False                False   \n",
       "TimestampIs_year_start                   False                False   \n",
       "TimestampElapsed                    1509369660           1509369720   \n",
       "VolumeBTC                              5.61991               12.599   \n",
       "WeightedPrice                          6165.08              6170.01   \n",
       "\n",
       "                                             2                    3  \\\n",
       "level_0                                3061059              3061060   \n",
       "index                                  3061059              3061060   \n",
       "Timestamp                  2017-10-30 13:23:00  2017-10-30 13:24:00   \n",
       "Open                                   6172.24              6172.56   \n",
       "High                                   6175.94              6176.11   \n",
       "Low                                    6154.33              6163.76   \n",
       "Close                                  6163.76              6172.29   \n",
       "hour                                        13                   13   \n",
       "minute                                      23                   24   \n",
       "action                                       1                    1   \n",
       "TimestampYear                             2017                 2017   \n",
       "TimestampMonth                              10                   10   \n",
       "TimestampWeek                               44                   44   \n",
       "TimestampDay                                30                   30   \n",
       "TimestampDayofweek                           0                    0   \n",
       "TimestampDayofyear                         303                  303   \n",
       "TimestampIs_month_end                    False                False   \n",
       "TimestampIs_month_start                  False                False   \n",
       "TimestampIs_quarter_end                  False                False   \n",
       "TimestampIs_quarter_start                False                False   \n",
       "TimestampIs_year_end                     False                False   \n",
       "TimestampIs_year_start                   False                False   \n",
       "TimestampElapsed                    1509369780           1509369840   \n",
       "VolumeBTC                              12.8659              21.1917   \n",
       "WeightedPrice                          6168.54              6166.86   \n",
       "\n",
       "                                             4  \n",
       "level_0                                3061061  \n",
       "index                                  3061061  \n",
       "Timestamp                  2017-10-30 13:25:00  \n",
       "Open                                   6172.29  \n",
       "High                                   6176.14  \n",
       "Low                                    6164.11  \n",
       "Close                                  6174.74  \n",
       "hour                                        13  \n",
       "minute                                      25  \n",
       "action                                       0  \n",
       "TimestampYear                             2017  \n",
       "TimestampMonth                              10  \n",
       "TimestampWeek                               44  \n",
       "TimestampDay                                30  \n",
       "TimestampDayofweek                           0  \n",
       "TimestampDayofyear                         303  \n",
       "TimestampIs_month_end                    False  \n",
       "TimestampIs_month_start                  False  \n",
       "TimestampIs_quarter_end                  False  \n",
       "TimestampIs_quarter_start                False  \n",
       "TimestampIs_year_end                     False  \n",
       "TimestampIs_year_start                   False  \n",
       "TimestampElapsed                    1509369900  \n",
       "VolumeBTC                              14.4601  \n",
       "WeightedPrice                          6174.17  "
      ]
     },
     "execution_count": 78,
     "metadata": {},
     "output_type": "execute_result"
    }
   ],
   "source": [
    "train.head().T.head(40)"
   ]
  },
  {
   "cell_type": "code",
   "execution_count": 79,
   "metadata": {},
   "outputs": [
    {
     "data": {
      "text/html": [
       "<div>\n",
       "<style scoped>\n",
       "    .dataframe tbody tr th:only-of-type {\n",
       "        vertical-align: middle;\n",
       "    }\n",
       "\n",
       "    .dataframe tbody tr th {\n",
       "        vertical-align: top;\n",
       "    }\n",
       "\n",
       "    .dataframe thead th {\n",
       "        text-align: right;\n",
       "    }\n",
       "</style>\n",
       "<table border=\"1\" class=\"dataframe\">\n",
       "  <thead>\n",
       "    <tr style=\"text-align: right;\">\n",
       "      <th></th>\n",
       "      <th>level_0</th>\n",
       "      <th>index</th>\n",
       "      <th>Timestamp</th>\n",
       "      <th>Open</th>\n",
       "      <th>High</th>\n",
       "      <th>Low</th>\n",
       "      <th>Close</th>\n",
       "      <th>hour</th>\n",
       "      <th>minute</th>\n",
       "      <th>action</th>\n",
       "      <th>...</th>\n",
       "      <th>TimestampDayofyear</th>\n",
       "      <th>TimestampIs_month_end</th>\n",
       "      <th>TimestampIs_month_start</th>\n",
       "      <th>TimestampIs_quarter_end</th>\n",
       "      <th>TimestampIs_quarter_start</th>\n",
       "      <th>TimestampIs_year_end</th>\n",
       "      <th>TimestampIs_year_start</th>\n",
       "      <th>TimestampElapsed</th>\n",
       "      <th>VolumeBTC</th>\n",
       "      <th>WeightedPrice</th>\n",
       "    </tr>\n",
       "  </thead>\n",
       "  <tbody>\n",
       "    <tr>\n",
       "      <th>count</th>\n",
       "      <td>100000</td>\n",
       "      <td>100000</td>\n",
       "      <td>NaN</td>\n",
       "      <td>100000</td>\n",
       "      <td>100000</td>\n",
       "      <td>100000</td>\n",
       "      <td>100000</td>\n",
       "      <td>100000</td>\n",
       "      <td>100000</td>\n",
       "      <td>100000</td>\n",
       "      <td>...</td>\n",
       "      <td>100000</td>\n",
       "      <td>NaN</td>\n",
       "      <td>NaN</td>\n",
       "      <td>NaN</td>\n",
       "      <td>NaN</td>\n",
       "      <td>NaN</td>\n",
       "      <td>NaN</td>\n",
       "      <td>100000</td>\n",
       "      <td>100000</td>\n",
       "      <td>100000</td>\n",
       "    </tr>\n",
       "    <tr>\n",
       "      <th>mean</th>\n",
       "      <td>3.11106e+06</td>\n",
       "      <td>3.11106e+06</td>\n",
       "      <td>NaN</td>\n",
       "      <td>11632.6</td>\n",
       "      <td>11647.3</td>\n",
       "      <td>11614.5</td>\n",
       "      <td>11632.5</td>\n",
       "      <td>11.5425</td>\n",
       "      <td>29.5038</td>\n",
       "      <td>0.47874</td>\n",
       "      <td>...</td>\n",
       "      <td>300.981</td>\n",
       "      <td>NaN</td>\n",
       "      <td>NaN</td>\n",
       "      <td>NaN</td>\n",
       "      <td>NaN</td>\n",
       "      <td>NaN</td>\n",
       "      <td>NaN</td>\n",
       "      <td>1.51237e+09</td>\n",
       "      <td>11.5298</td>\n",
       "      <td>11631.1</td>\n",
       "    </tr>\n",
       "    <tr>\n",
       "      <th>std</th>\n",
       "      <td>28867.7</td>\n",
       "      <td>28867.7</td>\n",
       "      <td>NaN</td>\n",
       "      <td>4015.08</td>\n",
       "      <td>4022.37</td>\n",
       "      <td>4005.96</td>\n",
       "      <td>4015.29</td>\n",
       "      <td>6.92491</td>\n",
       "      <td>17.3176</td>\n",
       "      <td>0.49955</td>\n",
       "      <td>...</td>\n",
       "      <td>100.9</td>\n",
       "      <td>NaN</td>\n",
       "      <td>NaN</td>\n",
       "      <td>NaN</td>\n",
       "      <td>NaN</td>\n",
       "      <td>NaN</td>\n",
       "      <td>NaN</td>\n",
       "      <td>1.73206e+06</td>\n",
       "      <td>19.8197</td>\n",
       "      <td>4014.51</td>\n",
       "    </tr>\n",
       "    <tr>\n",
       "      <th>min</th>\n",
       "      <td>3.06106e+06</td>\n",
       "      <td>3.06106e+06</td>\n",
       "      <td>NaN</td>\n",
       "      <td>5561.16</td>\n",
       "      <td>5572</td>\n",
       "      <td>5555.55</td>\n",
       "      <td>5561.16</td>\n",
       "      <td>0</td>\n",
       "      <td>0</td>\n",
       "      <td>0</td>\n",
       "      <td>...</td>\n",
       "      <td>1</td>\n",
       "      <td>NaN</td>\n",
       "      <td>NaN</td>\n",
       "      <td>NaN</td>\n",
       "      <td>NaN</td>\n",
       "      <td>NaN</td>\n",
       "      <td>NaN</td>\n",
       "      <td>1.50937e+09</td>\n",
       "      <td>0.00058886</td>\n",
       "      <td>5560.04</td>\n",
       "    </tr>\n",
       "    <tr>\n",
       "      <th>25%</th>\n",
       "      <td>3.08606e+06</td>\n",
       "      <td>3.08606e+06</td>\n",
       "      <td>NaN</td>\n",
       "      <td>7632.43</td>\n",
       "      <td>7642.7</td>\n",
       "      <td>7623.9</td>\n",
       "      <td>7635.4</td>\n",
       "      <td>6</td>\n",
       "      <td>15</td>\n",
       "      <td>0</td>\n",
       "      <td>...</td>\n",
       "      <td>313</td>\n",
       "      <td>NaN</td>\n",
       "      <td>NaN</td>\n",
       "      <td>NaN</td>\n",
       "      <td>NaN</td>\n",
       "      <td>NaN</td>\n",
       "      <td>NaN</td>\n",
       "      <td>1.51087e+09</td>\n",
       "      <td>1.84263</td>\n",
       "      <td>7633.34</td>\n",
       "    </tr>\n",
       "    <tr>\n",
       "      <th>50%</th>\n",
       "      <td>3.11106e+06</td>\n",
       "      <td>3.11106e+06</td>\n",
       "      <td>NaN</td>\n",
       "      <td>11417</td>\n",
       "      <td>11436.1</td>\n",
       "      <td>11400</td>\n",
       "      <td>11416.5</td>\n",
       "      <td>12</td>\n",
       "      <td>30</td>\n",
       "      <td>0</td>\n",
       "      <td>...</td>\n",
       "      <td>331</td>\n",
       "      <td>NaN</td>\n",
       "      <td>NaN</td>\n",
       "      <td>NaN</td>\n",
       "      <td>NaN</td>\n",
       "      <td>NaN</td>\n",
       "      <td>NaN</td>\n",
       "      <td>1.51237e+09</td>\n",
       "      <td>5.1801</td>\n",
       "      <td>11414.7</td>\n",
       "    </tr>\n",
       "    <tr>\n",
       "      <th>75%</th>\n",
       "      <td>3.13606e+06</td>\n",
       "      <td>3.13606e+06</td>\n",
       "      <td>NaN</td>\n",
       "      <td>15100</td>\n",
       "      <td>15128</td>\n",
       "      <td>15069.9</td>\n",
       "      <td>15100</td>\n",
       "      <td>18</td>\n",
       "      <td>45</td>\n",
       "      <td>1</td>\n",
       "      <td>...</td>\n",
       "      <td>348</td>\n",
       "      <td>NaN</td>\n",
       "      <td>NaN</td>\n",
       "      <td>NaN</td>\n",
       "      <td>NaN</td>\n",
       "      <td>NaN</td>\n",
       "      <td>NaN</td>\n",
       "      <td>1.51387e+09</td>\n",
       "      <td>12.8569</td>\n",
       "      <td>15098</td>\n",
       "    </tr>\n",
       "    <tr>\n",
       "      <th>max</th>\n",
       "      <td>3.16106e+06</td>\n",
       "      <td>3.16106e+06</td>\n",
       "      <td>NaN</td>\n",
       "      <td>19665.8</td>\n",
       "      <td>19666</td>\n",
       "      <td>19650</td>\n",
       "      <td>19665.8</td>\n",
       "      <td>23</td>\n",
       "      <td>59</td>\n",
       "      <td>1</td>\n",
       "      <td>...</td>\n",
       "      <td>365</td>\n",
       "      <td>NaN</td>\n",
       "      <td>NaN</td>\n",
       "      <td>NaN</td>\n",
       "      <td>NaN</td>\n",
       "      <td>NaN</td>\n",
       "      <td>NaN</td>\n",
       "      <td>1.51537e+09</td>\n",
       "      <td>574.994</td>\n",
       "      <td>19663.3</td>\n",
       "    </tr>\n",
       "    <tr>\n",
       "      <th>counts</th>\n",
       "      <td>100000</td>\n",
       "      <td>100000</td>\n",
       "      <td>100000</td>\n",
       "      <td>100000</td>\n",
       "      <td>100000</td>\n",
       "      <td>100000</td>\n",
       "      <td>100000</td>\n",
       "      <td>100000</td>\n",
       "      <td>100000</td>\n",
       "      <td>100000</td>\n",
       "      <td>...</td>\n",
       "      <td>100000</td>\n",
       "      <td>100000</td>\n",
       "      <td>100000</td>\n",
       "      <td>100000</td>\n",
       "      <td>100000</td>\n",
       "      <td>100000</td>\n",
       "      <td>100000</td>\n",
       "      <td>100000</td>\n",
       "      <td>100000</td>\n",
       "      <td>100000</td>\n",
       "    </tr>\n",
       "    <tr>\n",
       "      <th>uniques</th>\n",
       "      <td>100000</td>\n",
       "      <td>100000</td>\n",
       "      <td>100000</td>\n",
       "      <td>72851</td>\n",
       "      <td>63717</td>\n",
       "      <td>70166</td>\n",
       "      <td>70698</td>\n",
       "      <td>24</td>\n",
       "      <td>60</td>\n",
       "      <td>2</td>\n",
       "      <td>...</td>\n",
       "      <td>71</td>\n",
       "      <td>2</td>\n",
       "      <td>2</td>\n",
       "      <td>2</td>\n",
       "      <td>2</td>\n",
       "      <td>2</td>\n",
       "      <td>2</td>\n",
       "      <td>100000</td>\n",
       "      <td>99398</td>\n",
       "      <td>99223</td>\n",
       "    </tr>\n",
       "    <tr>\n",
       "      <th>missing</th>\n",
       "      <td>0</td>\n",
       "      <td>0</td>\n",
       "      <td>0</td>\n",
       "      <td>0</td>\n",
       "      <td>0</td>\n",
       "      <td>0</td>\n",
       "      <td>0</td>\n",
       "      <td>0</td>\n",
       "      <td>0</td>\n",
       "      <td>0</td>\n",
       "      <td>...</td>\n",
       "      <td>0</td>\n",
       "      <td>0</td>\n",
       "      <td>0</td>\n",
       "      <td>0</td>\n",
       "      <td>0</td>\n",
       "      <td>0</td>\n",
       "      <td>0</td>\n",
       "      <td>0</td>\n",
       "      <td>0</td>\n",
       "      <td>0</td>\n",
       "    </tr>\n",
       "    <tr>\n",
       "      <th>missing_perc</th>\n",
       "      <td>0%</td>\n",
       "      <td>0%</td>\n",
       "      <td>0%</td>\n",
       "      <td>0%</td>\n",
       "      <td>0%</td>\n",
       "      <td>0%</td>\n",
       "      <td>0%</td>\n",
       "      <td>0%</td>\n",
       "      <td>0%</td>\n",
       "      <td>0%</td>\n",
       "      <td>...</td>\n",
       "      <td>0%</td>\n",
       "      <td>0%</td>\n",
       "      <td>0%</td>\n",
       "      <td>0%</td>\n",
       "      <td>0%</td>\n",
       "      <td>0%</td>\n",
       "      <td>0%</td>\n",
       "      <td>0%</td>\n",
       "      <td>0%</td>\n",
       "      <td>0%</td>\n",
       "    </tr>\n",
       "    <tr>\n",
       "      <th>types</th>\n",
       "      <td>numeric</td>\n",
       "      <td>numeric</td>\n",
       "      <td>date</td>\n",
       "      <td>numeric</td>\n",
       "      <td>numeric</td>\n",
       "      <td>numeric</td>\n",
       "      <td>numeric</td>\n",
       "      <td>numeric</td>\n",
       "      <td>numeric</td>\n",
       "      <td>bool</td>\n",
       "      <td>...</td>\n",
       "      <td>numeric</td>\n",
       "      <td>bool</td>\n",
       "      <td>bool</td>\n",
       "      <td>bool</td>\n",
       "      <td>bool</td>\n",
       "      <td>bool</td>\n",
       "      <td>bool</td>\n",
       "      <td>numeric</td>\n",
       "      <td>numeric</td>\n",
       "      <td>numeric</td>\n",
       "    </tr>\n",
       "  </tbody>\n",
       "</table>\n",
       "<p>13 rows × 25 columns</p>\n",
       "</div>"
      ],
      "text/plain": [
       "                  level_0        index Timestamp     Open     High      Low  \\\n",
       "count              100000       100000       NaN   100000   100000   100000   \n",
       "mean          3.11106e+06  3.11106e+06       NaN  11632.6  11647.3  11614.5   \n",
       "std               28867.7      28867.7       NaN  4015.08  4022.37  4005.96   \n",
       "min           3.06106e+06  3.06106e+06       NaN  5561.16     5572  5555.55   \n",
       "25%           3.08606e+06  3.08606e+06       NaN  7632.43   7642.7   7623.9   \n",
       "50%           3.11106e+06  3.11106e+06       NaN    11417  11436.1    11400   \n",
       "75%           3.13606e+06  3.13606e+06       NaN    15100    15128  15069.9   \n",
       "max           3.16106e+06  3.16106e+06       NaN  19665.8    19666    19650   \n",
       "counts             100000       100000    100000   100000   100000   100000   \n",
       "uniques            100000       100000    100000    72851    63717    70166   \n",
       "missing                 0            0         0        0        0        0   \n",
       "missing_perc           0%           0%        0%       0%       0%       0%   \n",
       "types             numeric      numeric      date  numeric  numeric  numeric   \n",
       "\n",
       "                Close     hour   minute   action      ...       \\\n",
       "count          100000   100000   100000   100000      ...        \n",
       "mean          11632.5  11.5425  29.5038  0.47874      ...        \n",
       "std           4015.29  6.92491  17.3176  0.49955      ...        \n",
       "min           5561.16        0        0        0      ...        \n",
       "25%            7635.4        6       15        0      ...        \n",
       "50%           11416.5       12       30        0      ...        \n",
       "75%             15100       18       45        1      ...        \n",
       "max           19665.8       23       59        1      ...        \n",
       "counts         100000   100000   100000   100000      ...        \n",
       "uniques         70698       24       60        2      ...        \n",
       "missing             0        0        0        0      ...        \n",
       "missing_perc       0%       0%       0%       0%      ...        \n",
       "types         numeric  numeric  numeric     bool      ...        \n",
       "\n",
       "             TimestampDayofyear TimestampIs_month_end TimestampIs_month_start  \\\n",
       "count                    100000                   NaN                     NaN   \n",
       "mean                    300.981                   NaN                     NaN   \n",
       "std                       100.9                   NaN                     NaN   \n",
       "min                           1                   NaN                     NaN   \n",
       "25%                         313                   NaN                     NaN   \n",
       "50%                         331                   NaN                     NaN   \n",
       "75%                         348                   NaN                     NaN   \n",
       "max                         365                   NaN                     NaN   \n",
       "counts                   100000                100000                  100000   \n",
       "uniques                      71                     2                       2   \n",
       "missing                       0                     0                       0   \n",
       "missing_perc                 0%                    0%                      0%   \n",
       "types                   numeric                  bool                    bool   \n",
       "\n",
       "             TimestampIs_quarter_end TimestampIs_quarter_start  \\\n",
       "count                            NaN                       NaN   \n",
       "mean                             NaN                       NaN   \n",
       "std                              NaN                       NaN   \n",
       "min                              NaN                       NaN   \n",
       "25%                              NaN                       NaN   \n",
       "50%                              NaN                       NaN   \n",
       "75%                              NaN                       NaN   \n",
       "max                              NaN                       NaN   \n",
       "counts                        100000                    100000   \n",
       "uniques                            2                         2   \n",
       "missing                            0                         0   \n",
       "missing_perc                      0%                        0%   \n",
       "types                           bool                      bool   \n",
       "\n",
       "             TimestampIs_year_end TimestampIs_year_start TimestampElapsed  \\\n",
       "count                         NaN                    NaN           100000   \n",
       "mean                          NaN                    NaN      1.51237e+09   \n",
       "std                           NaN                    NaN      1.73206e+06   \n",
       "min                           NaN                    NaN      1.50937e+09   \n",
       "25%                           NaN                    NaN      1.51087e+09   \n",
       "50%                           NaN                    NaN      1.51237e+09   \n",
       "75%                           NaN                    NaN      1.51387e+09   \n",
       "max                           NaN                    NaN      1.51537e+09   \n",
       "counts                     100000                 100000           100000   \n",
       "uniques                         2                      2           100000   \n",
       "missing                         0                      0                0   \n",
       "missing_perc                   0%                     0%               0%   \n",
       "types                        bool                   bool          numeric   \n",
       "\n",
       "               VolumeBTC WeightedPrice  \n",
       "count             100000        100000  \n",
       "mean             11.5298       11631.1  \n",
       "std              19.8197       4014.51  \n",
       "min           0.00058886       5560.04  \n",
       "25%              1.84263       7633.34  \n",
       "50%               5.1801       11414.7  \n",
       "75%              12.8569         15098  \n",
       "max              574.994       19663.3  \n",
       "counts            100000        100000  \n",
       "uniques            99398         99223  \n",
       "missing                0             0  \n",
       "missing_perc          0%            0%  \n",
       "types            numeric       numeric  \n",
       "\n",
       "[13 rows x 25 columns]"
      ]
     },
     "metadata": {},
     "output_type": "display_data"
    }
   ],
   "source": [
    "display(DataFrameSummary(train).summary())"
   ]
  },
  {
   "cell_type": "markdown",
   "metadata": {
    "hidden": true
   },
   "source": [
    "Now that we've engineered all our features, we need to convert to input compatible with a neural network.\n",
    "\n",
    "This includes converting categorical variables into contiguous integers or one-hot encodings, normalizing continuous features to standard normal, etc..."
   ]
  },
  {
   "cell_type": "code",
   "execution_count": 80,
   "metadata": {
    "scrolled": true
   },
   "outputs": [
    {
     "data": {
      "text/html": [
       "<div>\n",
       "<style scoped>\n",
       "    .dataframe tbody tr th:only-of-type {\n",
       "        vertical-align: middle;\n",
       "    }\n",
       "\n",
       "    .dataframe tbody tr th {\n",
       "        vertical-align: top;\n",
       "    }\n",
       "\n",
       "    .dataframe thead th {\n",
       "        text-align: right;\n",
       "    }\n",
       "</style>\n",
       "<table border=\"1\" class=\"dataframe\">\n",
       "  <thead>\n",
       "    <tr style=\"text-align: right;\">\n",
       "      <th></th>\n",
       "      <th>level_0</th>\n",
       "      <th>index</th>\n",
       "      <th>Timestamp</th>\n",
       "      <th>Open</th>\n",
       "      <th>High</th>\n",
       "      <th>Low</th>\n",
       "      <th>Close</th>\n",
       "      <th>hour</th>\n",
       "      <th>minute</th>\n",
       "      <th>action</th>\n",
       "      <th>...</th>\n",
       "      <th>TimestampDayofyear</th>\n",
       "      <th>TimestampIs_month_end</th>\n",
       "      <th>TimestampIs_month_start</th>\n",
       "      <th>TimestampIs_quarter_end</th>\n",
       "      <th>TimestampIs_quarter_start</th>\n",
       "      <th>TimestampIs_year_end</th>\n",
       "      <th>TimestampIs_year_start</th>\n",
       "      <th>TimestampElapsed</th>\n",
       "      <th>VolumeBTC</th>\n",
       "      <th>WeightedPrice</th>\n",
       "    </tr>\n",
       "  </thead>\n",
       "  <tbody>\n",
       "    <tr>\n",
       "      <th>0</th>\n",
       "      <td>3061057</td>\n",
       "      <td>3061057</td>\n",
       "      <td>2017-10-30 13:21:00</td>\n",
       "      <td>6155.01</td>\n",
       "      <td>6172.21</td>\n",
       "      <td>6144.66</td>\n",
       "      <td>6168.03</td>\n",
       "      <td>13</td>\n",
       "      <td>21</td>\n",
       "      <td>1</td>\n",
       "      <td>...</td>\n",
       "      <td>303</td>\n",
       "      <td>False</td>\n",
       "      <td>False</td>\n",
       "      <td>False</td>\n",
       "      <td>False</td>\n",
       "      <td>False</td>\n",
       "      <td>False</td>\n",
       "      <td>1509369660</td>\n",
       "      <td>5.619913</td>\n",
       "      <td>6165.084137</td>\n",
       "    </tr>\n",
       "    <tr>\n",
       "      <th>1</th>\n",
       "      <td>3061058</td>\n",
       "      <td>3061058</td>\n",
       "      <td>2017-10-30 13:22:00</td>\n",
       "      <td>6167.93</td>\n",
       "      <td>6172.31</td>\n",
       "      <td>6167.86</td>\n",
       "      <td>6172.31</td>\n",
       "      <td>13</td>\n",
       "      <td>22</td>\n",
       "      <td>0</td>\n",
       "      <td>...</td>\n",
       "      <td>303</td>\n",
       "      <td>False</td>\n",
       "      <td>False</td>\n",
       "      <td>False</td>\n",
       "      <td>False</td>\n",
       "      <td>False</td>\n",
       "      <td>False</td>\n",
       "      <td>1509369720</td>\n",
       "      <td>12.598996</td>\n",
       "      <td>6170.010354</td>\n",
       "    </tr>\n",
       "    <tr>\n",
       "      <th>2</th>\n",
       "      <td>3061059</td>\n",
       "      <td>3061059</td>\n",
       "      <td>2017-10-30 13:23:00</td>\n",
       "      <td>6172.24</td>\n",
       "      <td>6175.94</td>\n",
       "      <td>6154.33</td>\n",
       "      <td>6163.76</td>\n",
       "      <td>13</td>\n",
       "      <td>23</td>\n",
       "      <td>1</td>\n",
       "      <td>...</td>\n",
       "      <td>303</td>\n",
       "      <td>False</td>\n",
       "      <td>False</td>\n",
       "      <td>False</td>\n",
       "      <td>False</td>\n",
       "      <td>False</td>\n",
       "      <td>False</td>\n",
       "      <td>1509369780</td>\n",
       "      <td>12.865922</td>\n",
       "      <td>6168.538794</td>\n",
       "    </tr>\n",
       "    <tr>\n",
       "      <th>3</th>\n",
       "      <td>3061060</td>\n",
       "      <td>3061060</td>\n",
       "      <td>2017-10-30 13:24:00</td>\n",
       "      <td>6172.56</td>\n",
       "      <td>6176.11</td>\n",
       "      <td>6163.76</td>\n",
       "      <td>6172.29</td>\n",
       "      <td>13</td>\n",
       "      <td>24</td>\n",
       "      <td>1</td>\n",
       "      <td>...</td>\n",
       "      <td>303</td>\n",
       "      <td>False</td>\n",
       "      <td>False</td>\n",
       "      <td>False</td>\n",
       "      <td>False</td>\n",
       "      <td>False</td>\n",
       "      <td>False</td>\n",
       "      <td>1509369840</td>\n",
       "      <td>21.191745</td>\n",
       "      <td>6166.860713</td>\n",
       "    </tr>\n",
       "    <tr>\n",
       "      <th>4</th>\n",
       "      <td>3061061</td>\n",
       "      <td>3061061</td>\n",
       "      <td>2017-10-30 13:25:00</td>\n",
       "      <td>6172.29</td>\n",
       "      <td>6176.14</td>\n",
       "      <td>6164.11</td>\n",
       "      <td>6174.74</td>\n",
       "      <td>13</td>\n",
       "      <td>25</td>\n",
       "      <td>0</td>\n",
       "      <td>...</td>\n",
       "      <td>303</td>\n",
       "      <td>False</td>\n",
       "      <td>False</td>\n",
       "      <td>False</td>\n",
       "      <td>False</td>\n",
       "      <td>False</td>\n",
       "      <td>False</td>\n",
       "      <td>1509369900</td>\n",
       "      <td>14.460127</td>\n",
       "      <td>6174.173676</td>\n",
       "    </tr>\n",
       "  </tbody>\n",
       "</table>\n",
       "<p>5 rows × 25 columns</p>\n",
       "</div>"
      ],
      "text/plain": [
       "   level_0    index           Timestamp     Open     High      Low    Close  \\\n",
       "0  3061057  3061057 2017-10-30 13:21:00  6155.01  6172.21  6144.66  6168.03   \n",
       "1  3061058  3061058 2017-10-30 13:22:00  6167.93  6172.31  6167.86  6172.31   \n",
       "2  3061059  3061059 2017-10-30 13:23:00  6172.24  6175.94  6154.33  6163.76   \n",
       "3  3061060  3061060 2017-10-30 13:24:00  6172.56  6176.11  6163.76  6172.29   \n",
       "4  3061061  3061061 2017-10-30 13:25:00  6172.29  6176.14  6164.11  6174.74   \n",
       "\n",
       "   hour  minute  action      ...        TimestampDayofyear  \\\n",
       "0    13      21       1      ...                       303   \n",
       "1    13      22       0      ...                       303   \n",
       "2    13      23       1      ...                       303   \n",
       "3    13      24       1      ...                       303   \n",
       "4    13      25       0      ...                       303   \n",
       "\n",
       "   TimestampIs_month_end  TimestampIs_month_start  TimestampIs_quarter_end  \\\n",
       "0                  False                    False                    False   \n",
       "1                  False                    False                    False   \n",
       "2                  False                    False                    False   \n",
       "3                  False                    False                    False   \n",
       "4                  False                    False                    False   \n",
       "\n",
       "   TimestampIs_quarter_start  TimestampIs_year_end  TimestampIs_year_start  \\\n",
       "0                      False                 False                   False   \n",
       "1                      False                 False                   False   \n",
       "2                      False                 False                   False   \n",
       "3                      False                 False                   False   \n",
       "4                      False                 False                   False   \n",
       "\n",
       "   TimestampElapsed  VolumeBTC  WeightedPrice  \n",
       "0        1509369660   5.619913    6165.084137  \n",
       "1        1509369720  12.598996    6170.010354  \n",
       "2        1509369780  12.865922    6168.538794  \n",
       "3        1509369840  21.191745    6166.860713  \n",
       "4        1509369900  14.460127    6174.173676  \n",
       "\n",
       "[5 rows x 25 columns]"
      ]
     },
     "execution_count": 80,
     "metadata": {},
     "output_type": "execute_result"
    }
   ],
   "source": [
    "train.head()"
   ]
  },
  {
   "cell_type": "markdown",
   "metadata": {},
   "source": [
    "Identify categorical vs continuous variables.  PassengerId serves as the unique identifier for each row."
   ]
  },
  {
   "cell_type": "code",
   "execution_count": 81,
   "metadata": {
    "hidden": true
   },
   "outputs": [
    {
     "data": {
      "text/plain": [
       "100000"
      ]
     },
     "execution_count": 81,
     "metadata": {},
     "output_type": "execute_result"
    }
   ],
   "source": [
    "cat_vars = ['TimestampYear', 'TimestampMonth', 'TimestampWeek', 'TimestampDay', 'hour','minute', 'TimestampDayofweek', 'TimestampDayofyear', \n",
    "'TimestampIs_month_end', 'TimestampIs_month_start', 'TimestampIs_quarter_end', 'TimestampIs_quarter_start', \n",
    "'TimestampIs_year_end', 'TimestampIs_year_start', 'TimestampElapsed']\n",
    "\n",
    "contin_vars = ['Open', 'Close','High', 'Low', 'VolumeBTC', 'WeightedPrice']\n",
    "\n",
    "index='Timestamp'\n",
    "dep = 'action'\n",
    "n = len(train); n\n",
    "   "
   ]
  },
  {
   "cell_type": "code",
   "execution_count": 82,
   "metadata": {
    "hidden": true
   },
   "outputs": [],
   "source": [
    "train = train[cat_vars+contin_vars+[dep, index]].copy()"
   ]
  },
  {
   "cell_type": "code",
   "execution_count": 83,
   "metadata": {},
   "outputs": [],
   "source": [
    "# test[dep] = 0\n",
    "# test = test[cat_vars+contin_vars+[dep, index]].copy()"
   ]
  },
  {
   "cell_type": "code",
   "execution_count": 84,
   "metadata": {
    "hidden": true
   },
   "outputs": [],
   "source": [
    "for v in cat_vars: train[v] = train[v].astype('category').cat.as_ordered()"
   ]
  },
  {
   "cell_type": "code",
   "execution_count": 85,
   "metadata": {
    "hidden": true
   },
   "outputs": [],
   "source": [
    "# TODO: need to add this back\n",
    "# apply_cats(test, train)"
   ]
  },
  {
   "cell_type": "code",
   "execution_count": 86,
   "metadata": {
    "hidden": true
   },
   "outputs": [],
   "source": [
    "for v in contin_vars:\n",
    "    train[v] = train[v].astype('float32')\n",
    "#     test[v] = test[v].astype('float32')"
   ]
  },
  {
   "cell_type": "code",
   "execution_count": 87,
   "metadata": {
    "hidden": true
   },
   "outputs": [
    {
     "data": {
      "text/plain": [
       "100000"
      ]
     },
     "execution_count": 87,
     "metadata": {},
     "output_type": "execute_result"
    }
   ],
   "source": [
    "samp_size = n\n",
    "train_samp = train.set_index(index)\n",
    "n"
   ]
  },
  {
   "cell_type": "markdown",
   "metadata": {
    "hidden": true
   },
   "source": [
    "We can now process our data..."
   ]
  },
  {
   "cell_type": "code",
   "execution_count": 88,
   "metadata": {
    "hidden": true
   },
   "outputs": [
    {
     "data": {
      "text/html": [
       "<div>\n",
       "<style scoped>\n",
       "    .dataframe tbody tr th:only-of-type {\n",
       "        vertical-align: middle;\n",
       "    }\n",
       "\n",
       "    .dataframe tbody tr th {\n",
       "        vertical-align: top;\n",
       "    }\n",
       "\n",
       "    .dataframe thead th {\n",
       "        text-align: right;\n",
       "    }\n",
       "</style>\n",
       "<table border=\"1\" class=\"dataframe\">\n",
       "  <thead>\n",
       "    <tr style=\"text-align: right;\">\n",
       "      <th></th>\n",
       "      <th>TimestampYear</th>\n",
       "      <th>TimestampMonth</th>\n",
       "      <th>TimestampWeek</th>\n",
       "      <th>TimestampDay</th>\n",
       "      <th>hour</th>\n",
       "      <th>minute</th>\n",
       "      <th>TimestampDayofweek</th>\n",
       "      <th>TimestampDayofyear</th>\n",
       "      <th>TimestampIs_month_end</th>\n",
       "      <th>TimestampIs_month_start</th>\n",
       "      <th>...</th>\n",
       "      <th>TimestampIs_year_end</th>\n",
       "      <th>TimestampIs_year_start</th>\n",
       "      <th>TimestampElapsed</th>\n",
       "      <th>Open</th>\n",
       "      <th>Close</th>\n",
       "      <th>High</th>\n",
       "      <th>Low</th>\n",
       "      <th>VolumeBTC</th>\n",
       "      <th>WeightedPrice</th>\n",
       "      <th>action</th>\n",
       "    </tr>\n",
       "    <tr>\n",
       "      <th>Timestamp</th>\n",
       "      <th></th>\n",
       "      <th></th>\n",
       "      <th></th>\n",
       "      <th></th>\n",
       "      <th></th>\n",
       "      <th></th>\n",
       "      <th></th>\n",
       "      <th></th>\n",
       "      <th></th>\n",
       "      <th></th>\n",
       "      <th></th>\n",
       "      <th></th>\n",
       "      <th></th>\n",
       "      <th></th>\n",
       "      <th></th>\n",
       "      <th></th>\n",
       "      <th></th>\n",
       "      <th></th>\n",
       "      <th></th>\n",
       "      <th></th>\n",
       "      <th></th>\n",
       "    </tr>\n",
       "  </thead>\n",
       "  <tbody>\n",
       "    <tr>\n",
       "      <th>2017-10-30 13:21:00</th>\n",
       "      <td>2017</td>\n",
       "      <td>10</td>\n",
       "      <td>44</td>\n",
       "      <td>30</td>\n",
       "      <td>13</td>\n",
       "      <td>21</td>\n",
       "      <td>0</td>\n",
       "      <td>303</td>\n",
       "      <td>False</td>\n",
       "      <td>False</td>\n",
       "      <td>...</td>\n",
       "      <td>False</td>\n",
       "      <td>False</td>\n",
       "      <td>1509369660</td>\n",
       "      <td>6155.009766</td>\n",
       "      <td>6168.029785</td>\n",
       "      <td>6172.209961</td>\n",
       "      <td>6144.660156</td>\n",
       "      <td>5.619913</td>\n",
       "      <td>6165.083984</td>\n",
       "      <td>1</td>\n",
       "    </tr>\n",
       "    <tr>\n",
       "      <th>2017-10-30 13:22:00</th>\n",
       "      <td>2017</td>\n",
       "      <td>10</td>\n",
       "      <td>44</td>\n",
       "      <td>30</td>\n",
       "      <td>13</td>\n",
       "      <td>22</td>\n",
       "      <td>0</td>\n",
       "      <td>303</td>\n",
       "      <td>False</td>\n",
       "      <td>False</td>\n",
       "      <td>...</td>\n",
       "      <td>False</td>\n",
       "      <td>False</td>\n",
       "      <td>1509369720</td>\n",
       "      <td>6167.930176</td>\n",
       "      <td>6172.310059</td>\n",
       "      <td>6172.310059</td>\n",
       "      <td>6167.859863</td>\n",
       "      <td>12.598995</td>\n",
       "      <td>6170.010254</td>\n",
       "      <td>0</td>\n",
       "    </tr>\n",
       "  </tbody>\n",
       "</table>\n",
       "<p>2 rows × 22 columns</p>\n",
       "</div>"
      ],
      "text/plain": [
       "                    TimestampYear TimestampMonth TimestampWeek TimestampDay  \\\n",
       "Timestamp                                                                     \n",
       "2017-10-30 13:21:00          2017             10            44           30   \n",
       "2017-10-30 13:22:00          2017             10            44           30   \n",
       "\n",
       "                    hour minute TimestampDayofweek TimestampDayofyear  \\\n",
       "Timestamp                                                               \n",
       "2017-10-30 13:21:00   13     21                  0                303   \n",
       "2017-10-30 13:22:00   13     22                  0                303   \n",
       "\n",
       "                    TimestampIs_month_end TimestampIs_month_start   ...    \\\n",
       "Timestamp                                                           ...     \n",
       "2017-10-30 13:21:00                 False                   False   ...     \n",
       "2017-10-30 13:22:00                 False                   False   ...     \n",
       "\n",
       "                    TimestampIs_year_end TimestampIs_year_start  \\\n",
       "Timestamp                                                         \n",
       "2017-10-30 13:21:00                False                  False   \n",
       "2017-10-30 13:22:00                False                  False   \n",
       "\n",
       "                    TimestampElapsed         Open        Close         High  \\\n",
       "Timestamp                                                                     \n",
       "2017-10-30 13:21:00       1509369660  6155.009766  6168.029785  6172.209961   \n",
       "2017-10-30 13:22:00       1509369720  6167.930176  6172.310059  6172.310059   \n",
       "\n",
       "                             Low  VolumeBTC  WeightedPrice  action  \n",
       "Timestamp                                                           \n",
       "2017-10-30 13:21:00  6144.660156   5.619913    6165.083984       1  \n",
       "2017-10-30 13:22:00  6167.859863  12.598995    6170.010254       0  \n",
       "\n",
       "[2 rows x 22 columns]"
      ]
     },
     "execution_count": 88,
     "metadata": {},
     "output_type": "execute_result"
    }
   ],
   "source": [
    "train_samp.head(2)"
   ]
  },
  {
   "cell_type": "code",
   "execution_count": 89,
   "metadata": {
    "hidden": true
   },
   "outputs": [],
   "source": [
    "df, y, nas, mapper = proc_df(train_samp, dep, do_scale=True)"
   ]
  },
  {
   "cell_type": "code",
   "execution_count": 90,
   "metadata": {},
   "outputs": [
    {
     "data": {
      "text/plain": [
       "(100000,)"
      ]
     },
     "execution_count": 90,
     "metadata": {},
     "output_type": "execute_result"
    }
   ],
   "source": [
    "y.shape\n"
   ]
  },
  {
   "cell_type": "code",
   "execution_count": 91,
   "metadata": {
    "hidden": true
   },
   "outputs": [],
   "source": [
    "# df_test, _, nas, mapper = proc_df(test, dep, do_scale=True, \n",
    "#                                   mapper=mapper, na_dict=nas)"
   ]
  },
  {
   "cell_type": "markdown",
   "metadata": {},
   "source": [
    "For some reason, nas were found for Fare_log when there was not an NA value and it caused the code to fail downstream.  Here I inspected the value and then just removed the column :)"
   ]
  },
  {
   "cell_type": "code",
   "execution_count": 92,
   "metadata": {
    "scrolled": true
   },
   "outputs": [
    {
     "data": {
      "text/plain": [
       "{}"
      ]
     },
     "execution_count": 92,
     "metadata": {},
     "output_type": "execute_result"
    }
   ],
   "source": [
    "nas\n",
    "# df_test.Fare_log_na.unique()\n",
    "# df_test.loc[df_test.Fare_log_na!=True]"
   ]
  },
  {
   "cell_type": "code",
   "execution_count": 93,
   "metadata": {},
   "outputs": [],
   "source": [
    "nas={}"
   ]
  },
  {
   "cell_type": "code",
   "execution_count": 94,
   "metadata": {},
   "outputs": [],
   "source": [
    "# df_test = df_test.drop(['Fare_log_na'], axis=1)"
   ]
  },
  {
   "cell_type": "code",
   "execution_count": 95,
   "metadata": {
    "hidden": true
   },
   "outputs": [
    {
     "data": {
      "text/html": [
       "<div>\n",
       "<style scoped>\n",
       "    .dataframe tbody tr th:only-of-type {\n",
       "        vertical-align: middle;\n",
       "    }\n",
       "\n",
       "    .dataframe tbody tr th {\n",
       "        vertical-align: top;\n",
       "    }\n",
       "\n",
       "    .dataframe thead th {\n",
       "        text-align: right;\n",
       "    }\n",
       "</style>\n",
       "<table border=\"1\" class=\"dataframe\">\n",
       "  <thead>\n",
       "    <tr style=\"text-align: right;\">\n",
       "      <th></th>\n",
       "      <th>TimestampYear</th>\n",
       "      <th>TimestampMonth</th>\n",
       "      <th>TimestampWeek</th>\n",
       "      <th>TimestampDay</th>\n",
       "      <th>hour</th>\n",
       "      <th>minute</th>\n",
       "      <th>TimestampDayofweek</th>\n",
       "      <th>TimestampDayofyear</th>\n",
       "      <th>TimestampIs_month_end</th>\n",
       "      <th>TimestampIs_month_start</th>\n",
       "      <th>...</th>\n",
       "      <th>TimestampIs_quarter_start</th>\n",
       "      <th>TimestampIs_year_end</th>\n",
       "      <th>TimestampIs_year_start</th>\n",
       "      <th>TimestampElapsed</th>\n",
       "      <th>Open</th>\n",
       "      <th>Close</th>\n",
       "      <th>High</th>\n",
       "      <th>Low</th>\n",
       "      <th>VolumeBTC</th>\n",
       "      <th>WeightedPrice</th>\n",
       "    </tr>\n",
       "    <tr>\n",
       "      <th>Timestamp</th>\n",
       "      <th></th>\n",
       "      <th></th>\n",
       "      <th></th>\n",
       "      <th></th>\n",
       "      <th></th>\n",
       "      <th></th>\n",
       "      <th></th>\n",
       "      <th></th>\n",
       "      <th></th>\n",
       "      <th></th>\n",
       "      <th></th>\n",
       "      <th></th>\n",
       "      <th></th>\n",
       "      <th></th>\n",
       "      <th></th>\n",
       "      <th></th>\n",
       "      <th></th>\n",
       "      <th></th>\n",
       "      <th></th>\n",
       "      <th></th>\n",
       "      <th></th>\n",
       "    </tr>\n",
       "  </thead>\n",
       "  <tbody>\n",
       "    <tr>\n",
       "      <th>2017-10-30 13:21:00</th>\n",
       "      <td>1</td>\n",
       "      <td>2</td>\n",
       "      <td>3</td>\n",
       "      <td>30</td>\n",
       "      <td>14</td>\n",
       "      <td>22</td>\n",
       "      <td>1</td>\n",
       "      <td>9</td>\n",
       "      <td>1</td>\n",
       "      <td>1</td>\n",
       "      <td>...</td>\n",
       "      <td>1</td>\n",
       "      <td>1</td>\n",
       "      <td>1</td>\n",
       "      <td>1</td>\n",
       "      <td>-1.364252</td>\n",
       "      <td>-1.360912</td>\n",
       "      <td>-1.361169</td>\n",
       "      <td>-1.365425</td>\n",
       "      <td>-0.298185</td>\n",
       "      <td>-1.361561</td>\n",
       "    </tr>\n",
       "    <tr>\n",
       "      <th>2017-10-30 13:22:00</th>\n",
       "      <td>1</td>\n",
       "      <td>2</td>\n",
       "      <td>3</td>\n",
       "      <td>30</td>\n",
       "      <td>14</td>\n",
       "      <td>23</td>\n",
       "      <td>1</td>\n",
       "      <td>9</td>\n",
       "      <td>1</td>\n",
       "      <td>1</td>\n",
       "      <td>...</td>\n",
       "      <td>1</td>\n",
       "      <td>1</td>\n",
       "      <td>1</td>\n",
       "      <td>2</td>\n",
       "      <td>-1.361034</td>\n",
       "      <td>-1.359846</td>\n",
       "      <td>-1.361145</td>\n",
       "      <td>-1.359633</td>\n",
       "      <td>0.053945</td>\n",
       "      <td>-1.360334</td>\n",
       "    </tr>\n",
       "  </tbody>\n",
       "</table>\n",
       "<p>2 rows × 21 columns</p>\n",
       "</div>"
      ],
      "text/plain": [
       "                     TimestampYear  TimestampMonth  TimestampWeek  \\\n",
       "Timestamp                                                           \n",
       "2017-10-30 13:21:00              1               2              3   \n",
       "2017-10-30 13:22:00              1               2              3   \n",
       "\n",
       "                     TimestampDay  hour  minute  TimestampDayofweek  \\\n",
       "Timestamp                                                             \n",
       "2017-10-30 13:21:00            30    14      22                   1   \n",
       "2017-10-30 13:22:00            30    14      23                   1   \n",
       "\n",
       "                     TimestampDayofyear  TimestampIs_month_end  \\\n",
       "Timestamp                                                        \n",
       "2017-10-30 13:21:00                   9                      1   \n",
       "2017-10-30 13:22:00                   9                      1   \n",
       "\n",
       "                     TimestampIs_month_start      ...        \\\n",
       "Timestamp                                         ...         \n",
       "2017-10-30 13:21:00                        1      ...         \n",
       "2017-10-30 13:22:00                        1      ...         \n",
       "\n",
       "                     TimestampIs_quarter_start  TimestampIs_year_end  \\\n",
       "Timestamp                                                              \n",
       "2017-10-30 13:21:00                          1                     1   \n",
       "2017-10-30 13:22:00                          1                     1   \n",
       "\n",
       "                     TimestampIs_year_start  TimestampElapsed      Open  \\\n",
       "Timestamp                                                                 \n",
       "2017-10-30 13:21:00                       1                 1 -1.364252   \n",
       "2017-10-30 13:22:00                       1                 2 -1.361034   \n",
       "\n",
       "                        Close      High       Low  VolumeBTC  WeightedPrice  \n",
       "Timestamp                                                                    \n",
       "2017-10-30 13:21:00 -1.360912 -1.361169 -1.365425  -0.298185      -1.361561  \n",
       "2017-10-30 13:22:00 -1.359846 -1.361145 -1.359633   0.053945      -1.360334  \n",
       "\n",
       "[2 rows x 21 columns]"
      ]
     },
     "execution_count": 95,
     "metadata": {},
     "output_type": "execute_result"
    }
   ],
   "source": [
    "df.head(2)"
   ]
  },
  {
   "cell_type": "code",
   "execution_count": 96,
   "metadata": {},
   "outputs": [],
   "source": [
    "# df_test.head(2)"
   ]
  },
  {
   "cell_type": "markdown",
   "metadata": {
    "hidden": true
   },
   "source": [
    "Rake the last 10% of rows as our validation set."
   ]
  },
  {
   "cell_type": "code",
   "execution_count": 97,
   "metadata": {
    "hidden": true
   },
   "outputs": [],
   "source": [
    "\n",
    "train_ratio = 0.98\n",
    "train_size = int(samp_size * train_ratio); train_size\n",
    "val_idx = list(range(train_size, len(df)))\n",
    "#val_idx = list(range(0, len(df)-train_size))\n",
    "#val_idx = get_cv_idxs(n, val_pct=0.1)"
   ]
  },
  {
   "cell_type": "code",
   "execution_count": 98,
   "metadata": {
    "hidden": true
   },
   "outputs": [
    {
     "data": {
      "text/plain": [
       "2000"
      ]
     },
     "execution_count": 98,
     "metadata": {},
     "output_type": "execute_result"
    }
   ],
   "source": [
    "len(val_idx)"
   ]
  },
  {
   "cell_type": "markdown",
   "metadata": {},
   "source": [
    "## DL"
   ]
  },
  {
   "cell_type": "markdown",
   "metadata": {},
   "source": [
    "We're ready to put together our models."
   ]
  },
  {
   "cell_type": "markdown",
   "metadata": {},
   "source": [
    "We can create a ModelData object directly from our data frame. Is_Reg is set to False to turn this into a classification problem (from a regression).  Is_multi is set False because there is only one predicted label (Survived) per row (of type int).  "
   ]
  },
  {
   "cell_type": "code",
   "execution_count": 99,
   "metadata": {},
   "outputs": [],
   "source": [
    "md = ColumnarModelData.from_data_frame(PATH, val_idx, df, y.astype('int'), cat_flds=cat_vars, bs=64,\n",
    "                                      is_reg=False,is_multi=False)\n",
    "# ,test_df=df_test"
   ]
  },
  {
   "cell_type": "markdown",
   "metadata": {},
   "source": [
    "Some categorical variables have a lot more levels than others."
   ]
  },
  {
   "cell_type": "code",
   "execution_count": 100,
   "metadata": {},
   "outputs": [],
   "source": [
    "cat_sz = [(c, len(train_samp[c].cat.categories)+1) for c in cat_vars]"
   ]
  },
  {
   "cell_type": "code",
   "execution_count": 101,
   "metadata": {
    "scrolled": true
   },
   "outputs": [
    {
     "data": {
      "text/plain": [
       "[('TimestampYear', 3),\n",
       " ('TimestampMonth', 5),\n",
       " ('TimestampWeek', 12),\n",
       " ('TimestampDay', 32),\n",
       " ('hour', 25),\n",
       " ('minute', 61),\n",
       " ('TimestampDayofweek', 8),\n",
       " ('TimestampDayofyear', 72),\n",
       " ('TimestampIs_month_end', 3),\n",
       " ('TimestampIs_month_start', 3),\n",
       " ('TimestampIs_quarter_end', 3),\n",
       " ('TimestampIs_quarter_start', 3),\n",
       " ('TimestampIs_year_end', 3),\n",
       " ('TimestampIs_year_start', 3),\n",
       " ('TimestampElapsed', 100001)]"
      ]
     },
     "execution_count": 101,
     "metadata": {},
     "output_type": "execute_result"
    }
   ],
   "source": [
    "cat_sz"
   ]
  },
  {
   "cell_type": "markdown",
   "metadata": {},
   "source": [
    "We use the *cardinality* of each variable (that is, its number of unique values) to decide how large to make its *embeddings*. Each level will be associated with a vector with length defined as below."
   ]
  },
  {
   "cell_type": "code",
   "execution_count": 102,
   "metadata": {},
   "outputs": [],
   "source": [
    "emb_szs = [(c, min(50, (c+1)//2)) for _,c in cat_sz]"
   ]
  },
  {
   "cell_type": "code",
   "execution_count": 103,
   "metadata": {
    "scrolled": true
   },
   "outputs": [
    {
     "data": {
      "text/plain": [
       "[(3, 2),\n",
       " (5, 3),\n",
       " (12, 6),\n",
       " (32, 16),\n",
       " (25, 13),\n",
       " (61, 31),\n",
       " (8, 4),\n",
       " (72, 36),\n",
       " (3, 2),\n",
       " (3, 2),\n",
       " (3, 2),\n",
       " (3, 2),\n",
       " (3, 2),\n",
       " (3, 2),\n",
       " (100001, 50)]"
      ]
     },
     "execution_count": 103,
     "metadata": {},
     "output_type": "execute_result"
    }
   ],
   "source": [
    "emb_szs"
   ]
  },
  {
   "cell_type": "markdown",
   "metadata": {},
   "source": [
    "Check if cude is available"
   ]
  },
  {
   "cell_type": "code",
   "execution_count": 104,
   "metadata": {},
   "outputs": [
    {
     "data": {
      "text/plain": [
       "True"
      ]
     },
     "execution_count": 104,
     "metadata": {},
     "output_type": "execute_result"
    }
   ],
   "source": [
    "torch.cuda.is_available()"
   ]
  },
  {
   "cell_type": "code",
   "execution_count": 105,
   "metadata": {},
   "outputs": [
    {
     "data": {
      "text/plain": [
       "6"
      ]
     },
     "execution_count": 105,
     "metadata": {},
     "output_type": "execute_result"
    }
   ],
   "source": [
    "len(df.columns)-len(cat_vars)"
   ]
  },
  {
   "cell_type": "code",
   "execution_count": 106,
   "metadata": {},
   "outputs": [],
   "source": [
    "m = md.get_learner(emb_szs, len(df.columns)-len(cat_vars),0.06, 2, [100,50], [0.03,0.06],None,True)"
   ]
  },
  {
   "cell_type": "code",
   "execution_count": 107,
   "metadata": {},
   "outputs": [
    {
     "data": {
      "text/plain": [
       "MixedInputModel(\n",
       "  (embs): ModuleList(\n",
       "    (0): Embedding(3, 2)\n",
       "    (1): Embedding(5, 3)\n",
       "    (2): Embedding(12, 6)\n",
       "    (3): Embedding(32, 16)\n",
       "    (4): Embedding(25, 13)\n",
       "    (5): Embedding(61, 31)\n",
       "    (6): Embedding(8, 4)\n",
       "    (7): Embedding(72, 36)\n",
       "    (8): Embedding(3, 2)\n",
       "    (9): Embedding(3, 2)\n",
       "    (10): Embedding(3, 2)\n",
       "    (11): Embedding(3, 2)\n",
       "    (12): Embedding(3, 2)\n",
       "    (13): Embedding(3, 2)\n",
       "    (14): Embedding(100001, 50)\n",
       "  )\n",
       "  (lins): ModuleList(\n",
       "    (0): Linear(in_features=179, out_features=100, bias=True)\n",
       "    (1): Linear(in_features=100, out_features=50, bias=True)\n",
       "  )\n",
       "  (bns): ModuleList(\n",
       "    (0): BatchNorm1d(100, eps=1e-05, momentum=0.1, affine=True)\n",
       "    (1): BatchNorm1d(50, eps=1e-05, momentum=0.1, affine=True)\n",
       "  )\n",
       "  (outp): Linear(in_features=50, out_features=2, bias=True)\n",
       "  (emb_drop): Dropout(p=0.06)\n",
       "  (drops): ModuleList(\n",
       "    (0): Dropout(p=0.03)\n",
       "    (1): Dropout(p=0.06)\n",
       "  )\n",
       "  (bn): BatchNorm1d(6, eps=1e-05, momentum=0.1, affine=True)\n",
       ")"
      ]
     },
     "execution_count": 107,
     "metadata": {},
     "output_type": "execute_result"
    }
   ],
   "source": [
    "m"
   ]
  },
  {
   "cell_type": "code",
   "execution_count": 108,
   "metadata": {},
   "outputs": [
    {
     "data": {
      "application/vnd.jupyter.widget-view+json": {
       "model_id": "cc1ca380db5b46248976be6929ed59a8",
       "version_major": 2,
       "version_minor": 0
      },
      "text/plain": [
       "HBox(children=(IntProgress(value=0, description='Epoch', max=1), HTML(value='')))"
      ]
     },
     "metadata": {},
     "output_type": "display_data"
    },
    {
     "name": "stdout",
     "output_type": "stream",
     "text": [
      " 78%|███████▊  | 1198/1532 [00:10<00:02, 114.60it/s, loss=1.84] "
     ]
    },
    {
     "data": {
      "image/png": "[encoded data removed]",
      "text/plain": [
       "<Figure size 432x288 with 1 Axes>"
      ]
     },
     "metadata": {},
     "output_type": "display_data"
    }
   ],
   "source": [
    "m.lr_find()\n",
    "m.sched.plot(100)\n",
    "lr = 1e-4"
   ]
  },
  {
   "cell_type": "code",
   "execution_count": 109,
   "metadata": {},
   "outputs": [
    {
     "data": {
      "application/vnd.jupyter.widget-view+json": {
       "model_id": "bdf6a09e310942498d4fc571da48760b",
       "version_major": 2,
       "version_minor": 0
      },
      "text/plain": [
       "HBox(children=(IntProgress(value=0, description='Epoch', max=3), HTML(value='')))"
      ]
     },
     "metadata": {},
     "output_type": "display_data"
    },
    {
     "name": "stdout",
     "output_type": "stream",
     "text": [
      "epoch      trn_loss   val_loss                                  \n",
      "    0      0.691447   0.691342  \n",
      "    1      0.68343    0.691204                                  \n",
      "    2      0.389119   0.859231                                  \n"
     ]
    },
    {
     "data": {
      "text/plain": [
       "[array([0.85923])]"
      ]
     },
     "execution_count": 109,
     "metadata": {},
     "output_type": "execute_result"
    }
   ],
   "source": [
    "m.fit(lr, 3)"
   ]
  },
  {
   "cell_type": "code",
   "execution_count": 110,
   "metadata": {},
   "outputs": [
    {
     "data": {
      "application/vnd.jupyter.widget-view+json": {
       "model_id": "bedf3a377d534dbc9a6a87446b3eb576",
       "version_major": 2,
       "version_minor": 0
      },
      "text/plain": [
       "HBox(children=(IntProgress(value=0, description='Epoch', max=5), HTML(value='')))"
      ]
     },
     "metadata": {},
     "output_type": "display_data"
    },
    {
     "name": "stdout",
     "output_type": "stream",
     "text": [
      "epoch      trn_loss   val_loss                                  \n",
      "    0      0.115138   1.080416  \n",
      "    1      0.069256   1.246779                                   \n",
      "    2      0.036172   1.394102                                   \n",
      "    3      0.019118   1.522038                                   \n",
      "    4      0.009711   1.643932                                    \n"
     ]
    },
    {
     "data": {
      "text/plain": [
       "[array([1.64393])]"
      ]
     },
     "execution_count": 110,
     "metadata": {},
     "output_type": "execute_result"
    }
   ],
   "source": [
    "m.fit(lr, 5, cycle_len=1)"
   ]
  },
  {
   "cell_type": "code",
   "execution_count": 111,
   "metadata": {},
   "outputs": [
    {
     "data": {
      "application/vnd.jupyter.widget-view+json": {
       "model_id": "5721578352e64b28bd6d975f5140876b",
       "version_major": 2,
       "version_minor": 0
      },
      "text/plain": [
       "HBox(children=(IntProgress(value=0, description='Epoch', max=28), HTML(value='')))"
      ]
     },
     "metadata": {},
     "output_type": "display_data"
    },
    {
     "name": "stdout",
     "output_type": "stream",
     "text": [
      "epoch      trn_loss   val_loss                                    \n",
      "    0      0.005373   1.94363   \n",
      "    1      0.00146    1.966889                                     \n",
      "    2      0.00042    2.024954                                     \n",
      "    3      0.000347   2.00724                                      \n",
      "    4      0.000325   2.192527                                     \n",
      "    5      2.8e-05    2.292824                                     \n",
      "    6      9e-06      2.369139                                     \n",
      "    7      2e-05      2.446298                                     \n",
      "    8      3e-06      2.409294                                     \n",
      "    9      2e-06      2.490639                                     \n",
      "    10     2e-06      2.4862                                       \n",
      "    11     3e-06      2.470778                                     \n",
      "    12     2.4e-05    2.851688                                     \n",
      "    13     1e-06      2.649267                                     \n",
      "    14     0.0        2.68132                                      \n",
      "    15     0.0        2.706195                                     \n",
      "    16     0.0        2.74072                                      \n",
      "    17     0.0        2.743851                                     \n",
      "    18     0.0        2.740521                                     \n",
      "    19     0.0        2.751941                                     \n",
      "    20     0.0        2.765413                                     \n",
      "    21     0.0        2.781324                                     \n",
      "    22     0.0        2.903578                                     \n",
      "    23     0.0        2.888611                                     \n",
      "    24     0.0        2.88529                                      \n",
      "    25     0.0        2.890511                                     \n",
      "    26     0.0        2.894048                                     \n",
      "    27     0.0        2.897988                                     \n"
     ]
    },
    {
     "data": {
      "text/plain": [
       "[array([2.89799])]"
      ]
     },
     "execution_count": 111,
     "metadata": {},
     "output_type": "execute_result"
    }
   ],
   "source": [
    "m.fit(lr, 3, cycle_len=4, cycle_mult=2 )"
   ]
  },
  {
   "cell_type": "code",
   "execution_count": 112,
   "metadata": {},
   "outputs": [],
   "source": [
    "m.save('btcBinaryClassificationModel')"
   ]
  },
  {
   "cell_type": "code",
   "execution_count": 113,
   "metadata": {},
   "outputs": [],
   "source": [
    "m.load('btcBinaryClassificationModel')"
   ]
  },
  {
   "cell_type": "markdown",
   "metadata": {},
   "source": [
    "## Validation"
   ]
  },
  {
   "cell_type": "code",
   "execution_count": 114,
   "metadata": {},
   "outputs": [],
   "source": [
    "(x,y1)=m.predict_with_targs()"
   ]
  },
  {
   "cell_type": "markdown",
   "metadata": {},
   "source": [
    "Predicted vs Validation"
   ]
  },
  {
   "cell_type": "code",
   "execution_count": 115,
   "metadata": {},
   "outputs": [
    {
     "data": {
      "text/plain": [
       "(array([1, 0, 1, 0, 1, 0, 0, 1, 1, 1, 1, 1, 0, 1, 1, 0, 1, 1, 1, 1, ..., 1, 1, 1, 1, 1, 1, 0, 1, 1, 1, 1, 0,\n",
       "        1, 1, 1, 0, 0, 1, 1, 1]),\n",
       " array([1, 0, 1, 0, 1, 0, 0, 0, 1, 0, 1, 1, 0, 0, 0, 0, 0, 1, 0, 1, ..., 0, 1, 0, 0, 0, 0, 0, 1, 0, 0, 0, 0,\n",
       "        1, 0, 0, 1, 0, 1, 1, 0]))"
      ]
     },
     "execution_count": 115,
     "metadata": {},
     "output_type": "execute_result"
    }
   ],
   "source": [
    "(np.argmax(x,axis=1),y1)"
   ]
  },
  {
   "cell_type": "code",
   "execution_count": 116,
   "metadata": {},
   "outputs": [
    {
     "data": {
      "text/plain": [
       "(2000,)"
      ]
     },
     "execution_count": 116,
     "metadata": {},
     "output_type": "execute_result"
    }
   ],
   "source": [
    "y1.shape\n"
   ]
  },
  {
   "cell_type": "code",
   "execution_count": 117,
   "metadata": {},
   "outputs": [
    {
     "data": {
      "text/html": [
       "<div>\n",
       "<style scoped>\n",
       "    .dataframe tbody tr th:only-of-type {\n",
       "        vertical-align: middle;\n",
       "    }\n",
       "\n",
       "    .dataframe tbody tr th {\n",
       "        vertical-align: top;\n",
       "    }\n",
       "\n",
       "    .dataframe thead th {\n",
       "        text-align: right;\n",
       "    }\n",
       "</style>\n",
       "<table border=\"1\" class=\"dataframe\">\n",
       "  <thead>\n",
       "    <tr style=\"text-align: right;\">\n",
       "      <th></th>\n",
       "      <th>Timestamp</th>\n",
       "      <th>action</th>\n",
       "      <th>predicted</th>\n",
       "    </tr>\n",
       "  </thead>\n",
       "  <tbody>\n",
       "    <tr>\n",
       "      <th>98000</th>\n",
       "      <td>2018-01-06 14:41:00</td>\n",
       "      <td>1</td>\n",
       "      <td>1</td>\n",
       "    </tr>\n",
       "    <tr>\n",
       "      <th>98001</th>\n",
       "      <td>2018-01-06 14:42:00</td>\n",
       "      <td>0</td>\n",
       "      <td>0</td>\n",
       "    </tr>\n",
       "    <tr>\n",
       "      <th>98002</th>\n",
       "      <td>2018-01-06 14:43:00</td>\n",
       "      <td>1</td>\n",
       "      <td>1</td>\n",
       "    </tr>\n",
       "    <tr>\n",
       "      <th>98003</th>\n",
       "      <td>2018-01-06 14:44:00</td>\n",
       "      <td>0</td>\n",
       "      <td>0</td>\n",
       "    </tr>\n",
       "    <tr>\n",
       "      <th>98004</th>\n",
       "      <td>2018-01-06 14:45:00</td>\n",
       "      <td>1</td>\n",
       "      <td>1</td>\n",
       "    </tr>\n",
       "    <tr>\n",
       "      <th>98005</th>\n",
       "      <td>2018-01-06 14:46:00</td>\n",
       "      <td>0</td>\n",
       "      <td>0</td>\n",
       "    </tr>\n",
       "    <tr>\n",
       "      <th>98006</th>\n",
       "      <td>2018-01-06 14:47:00</td>\n",
       "      <td>0</td>\n",
       "      <td>0</td>\n",
       "    </tr>\n",
       "    <tr>\n",
       "      <th>98007</th>\n",
       "      <td>2018-01-06 14:48:00</td>\n",
       "      <td>0</td>\n",
       "      <td>1</td>\n",
       "    </tr>\n",
       "    <tr>\n",
       "      <th>98008</th>\n",
       "      <td>2018-01-06 14:49:00</td>\n",
       "      <td>1</td>\n",
       "      <td>1</td>\n",
       "    </tr>\n",
       "    <tr>\n",
       "      <th>98009</th>\n",
       "      <td>2018-01-06 14:50:00</td>\n",
       "      <td>0</td>\n",
       "      <td>1</td>\n",
       "    </tr>\n",
       "  </tbody>\n",
       "</table>\n",
       "</div>"
      ],
      "text/plain": [
       "                Timestamp  action  predicted\n",
       "98000 2018-01-06 14:41:00       1          1\n",
       "98001 2018-01-06 14:42:00       0          0\n",
       "98002 2018-01-06 14:43:00       1          1\n",
       "98003 2018-01-06 14:44:00       0          0\n",
       "98004 2018-01-06 14:45:00       1          1\n",
       "98005 2018-01-06 14:46:00       0          0\n",
       "98006 2018-01-06 14:47:00       0          0\n",
       "98007 2018-01-06 14:48:00       0          1\n",
       "98008 2018-01-06 14:49:00       1          1\n",
       "98009 2018-01-06 14:50:00       0          1"
      ]
     },
     "execution_count": 117,
     "metadata": {},
     "output_type": "execute_result"
    }
   ],
   "source": [
    "val = train.iloc[val_idx]\n",
    "val[[index,dep]]\n",
    "valpred = pd.DataFrame({'Timestamp':val.Timestamp, 'action':val.action, 'predicted':np.argmax(x,axis=1)})[['Timestamp', 'action','predicted']]\n",
    "valpred.head(10)"
   ]
  },
  {
   "cell_type": "markdown",
   "metadata": {},
   "source": [
    "Calculate the percent accuracy"
   ]
  },
  {
   "cell_type": "code",
   "execution_count": 118,
   "metadata": {},
   "outputs": [
    {
     "data": {
      "text/plain": [
       "0.512"
      ]
     },
     "execution_count": 118,
     "metadata": {},
     "output_type": "execute_result"
    }
   ],
   "source": [
    "predicted = valpred.loc[valpred.action == valpred.predicted]\n",
    "accuracy = len(predicted)/len(val)\n",
    "accuracy"
   ]
  },
  {
   "cell_type": "code",
   "execution_count": null,
   "metadata": {},
   "outputs": [],
   "source": []
  },
  {
   "cell_type": "markdown",
   "metadata": {},
   "source": [
    "## Test and Kaggle Submission"
   ]
  },
  {
   "cell_type": "code",
   "execution_count": 85,
   "metadata": {},
   "outputs": [
    {
     "data": {
      "text/plain": [
       "array([0, 0, 0, 0, 1, 0, 1, 0, 1, 0, 0, 0, 1, 0, 1, 1, 0, 0, 1, 1, ..., 0, 0, 1, 0, 1, 0, 0, 0, 0, 0, 1, 0,\n",
       "       1, 1, 0, 0, 1, 0, 0, 1])"
      ]
     },
     "execution_count": 85,
     "metadata": {},
     "output_type": "execute_result"
    }
   ],
   "source": [
    "np.argmax(m.predict(True), axis =1)"
   ]
  },
  {
   "cell_type": "code",
   "execution_count": 103,
   "metadata": {},
   "outputs": [
    {
     "data": {
      "text/html": [
       "<div>\n",
       "<style scoped>\n",
       "    .dataframe tbody tr th:only-of-type {\n",
       "        vertical-align: middle;\n",
       "    }\n",
       "\n",
       "    .dataframe tbody tr th {\n",
       "        vertical-align: top;\n",
       "    }\n",
       "\n",
       "    .dataframe thead th {\n",
       "        text-align: right;\n",
       "    }\n",
       "</style>\n",
       "<table border=\"1\" class=\"dataframe\">\n",
       "  <thead>\n",
       "    <tr style=\"text-align: right;\">\n",
       "      <th></th>\n",
       "      <th>PassengerId</th>\n",
       "      <th>Survived</th>\n",
       "    </tr>\n",
       "  </thead>\n",
       "  <tbody>\n",
       "    <tr>\n",
       "      <th>0</th>\n",
       "      <td>892</td>\n",
       "      <td>0</td>\n",
       "    </tr>\n",
       "    <tr>\n",
       "      <th>1</th>\n",
       "      <td>893</td>\n",
       "      <td>0</td>\n",
       "    </tr>\n",
       "    <tr>\n",
       "      <th>2</th>\n",
       "      <td>894</td>\n",
       "      <td>0</td>\n",
       "    </tr>\n",
       "    <tr>\n",
       "      <th>3</th>\n",
       "      <td>895</td>\n",
       "      <td>0</td>\n",
       "    </tr>\n",
       "    <tr>\n",
       "      <th>4</th>\n",
       "      <td>896</td>\n",
       "      <td>1</td>\n",
       "    </tr>\n",
       "    <tr>\n",
       "      <th>5</th>\n",
       "      <td>897</td>\n",
       "      <td>0</td>\n",
       "    </tr>\n",
       "    <tr>\n",
       "      <th>6</th>\n",
       "      <td>898</td>\n",
       "      <td>1</td>\n",
       "    </tr>\n",
       "    <tr>\n",
       "      <th>7</th>\n",
       "      <td>899</td>\n",
       "      <td>0</td>\n",
       "    </tr>\n",
       "    <tr>\n",
       "      <th>8</th>\n",
       "      <td>900</td>\n",
       "      <td>1</td>\n",
       "    </tr>\n",
       "    <tr>\n",
       "      <th>9</th>\n",
       "      <td>901</td>\n",
       "      <td>0</td>\n",
       "    </tr>\n",
       "  </tbody>\n",
       "</table>\n",
       "</div>"
      ],
      "text/plain": [
       "   PassengerId  Survived\n",
       "0          892         0\n",
       "1          893         0\n",
       "2          894         0\n",
       "3          895         0\n",
       "4          896         1\n",
       "5          897         0\n",
       "6          898         1\n",
       "7          899         0\n",
       "8          900         1\n",
       "9          901         0"
      ]
     },
     "execution_count": 103,
     "metadata": {},
     "output_type": "execute_result"
    }
   ],
   "source": [
    "sub = pd.DataFrame({'Timestamp':test.index, 'action':np.argmax(m.predict(True), axis =1)})[['Timestamp', 'action']]\n",
    "sub.head(10)"
   ]
  },
  {
   "cell_type": "code",
   "execution_count": 87,
   "metadata": {},
   "outputs": [
    {
     "data": {
      "text/html": [
       "<a href='data/titanic//tmp/sub4.csv' target='_blank'>data/titanic//tmp/sub4.csv</a><br>"
      ],
      "text/plain": [
       "/home/paperspace/fastai/courses/dl1/data/titanic/tmp/sub4.csv"
      ]
     },
     "execution_count": 87,
     "metadata": {},
     "output_type": "execute_result"
    }
   ],
   "source": [
    "csv_fn=f'{PATH}/tmp/sub4.csv'\n",
    "sub.to_csv(csv_fn, index=False)\n",
    "FileLink(csv_fn)"
   ]
  },
  {
   "attachments": {
    "image.png": {
     "image/png": "[encoded data removed]"
    }
   },
   "cell_type": "markdown",
   "metadata": {},
   "source": [
    "![image.png](attachment:image.png)\n"
   ]
  },
  {
   "cell_type": "markdown",
   "metadata": {
    "heading_collapsed": true
   },
   "source": [
    "## RF"
   ]
  },
  {
   "cell_type": "code",
   "execution_count": 108,
   "metadata": {
    "hidden": true
   },
   "outputs": [],
   "source": [
    "from sklearn.ensemble import RandomForestRegressor"
   ]
  },
  {
   "cell_type": "code",
   "execution_count": 109,
   "metadata": {
    "hidden": true
   },
   "outputs": [],
   "source": [
    "((val,trn), (y_val,y_trn)) = split_by_idx(val_idx, df.values, y)"
   ]
  },
  {
   "cell_type": "code",
   "execution_count": 110,
   "metadata": {
    "hidden": true
   },
   "outputs": [],
   "source": [
    "m = RandomForestRegressor(n_estimators=40, max_features=0.99, min_samples_leaf=2,\n",
    "                          n_jobs=-1, oob_score=True)\n",
    "m.fit(trn, y_trn);"
   ]
  },
  {
   "cell_type": "markdown",
   "metadata": {},
   "source": [
    "Accuracy of 87% on the validation set using a Random Forest Regressor."
   ]
  },
  {
   "cell_type": "code",
   "execution_count": 139,
   "metadata": {},
   "outputs": [],
   "source": [
    "def PredtoClass(a):\n",
    "    pred_class = []\n",
    "    for i in range(len(a)):\n",
    "        if a[i]<.5:\n",
    "            pred_class.append(0)\n",
    "        else:\n",
    "            pred_class.append(1)\n",
    "    return pred_class\n",
    "def accuracy(preds, y_val):\n",
    "    return  sum(1- abs(PredtoClass(preds) - y_val))/len(y_val)"
   ]
  },
  {
   "cell_type": "code",
   "execution_count": 141,
   "metadata": {
    "hidden": true
   },
   "outputs": [
    {
     "data": {
      "text/plain": [
       "(0.8133054096609964,\n",
       " 0.47265045085703417,\n",
       " 0.42569619049697704,\n",
       " 0.8666666666666667)"
      ]
     },
     "execution_count": 141,
     "metadata": {},
     "output_type": "execute_result"
    }
   ],
   "source": [
    "preds = m.predict(val)\n",
    "m.score(trn, y_trn), m.score(val, y_val), m.oob_score_, accuracy(preds, y_val)"
   ]
  },
  {
   "cell_type": "code",
   "execution_count": 142,
   "metadata": {},
   "outputs": [],
   "source": [
    "preds_test = m.predict(df_test.values)"
   ]
  },
  {
   "cell_type": "code",
   "execution_count": 146,
   "metadata": {},
   "outputs": [
    {
     "data": {
      "text/html": [
       "<div>\n",
       "<style scoped>\n",
       "    .dataframe tbody tr th:only-of-type {\n",
       "        vertical-align: middle;\n",
       "    }\n",
       "\n",
       "    .dataframe tbody tr th {\n",
       "        vertical-align: top;\n",
       "    }\n",
       "\n",
       "    .dataframe thead th {\n",
       "        text-align: right;\n",
       "    }\n",
       "</style>\n",
       "<table border=\"1\" class=\"dataframe\">\n",
       "  <thead>\n",
       "    <tr style=\"text-align: right;\">\n",
       "      <th></th>\n",
       "      <th>PassengerId</th>\n",
       "      <th>Survived</th>\n",
       "    </tr>\n",
       "  </thead>\n",
       "  <tbody>\n",
       "    <tr>\n",
       "      <th>0</th>\n",
       "      <td>892</td>\n",
       "      <td>0</td>\n",
       "    </tr>\n",
       "    <tr>\n",
       "      <th>1</th>\n",
       "      <td>893</td>\n",
       "      <td>0</td>\n",
       "    </tr>\n",
       "    <tr>\n",
       "      <th>2</th>\n",
       "      <td>894</td>\n",
       "      <td>0</td>\n",
       "    </tr>\n",
       "    <tr>\n",
       "      <th>3</th>\n",
       "      <td>895</td>\n",
       "      <td>0</td>\n",
       "    </tr>\n",
       "    <tr>\n",
       "      <th>4</th>\n",
       "      <td>896</td>\n",
       "      <td>1</td>\n",
       "    </tr>\n",
       "    <tr>\n",
       "      <th>5</th>\n",
       "      <td>897</td>\n",
       "      <td>0</td>\n",
       "    </tr>\n",
       "    <tr>\n",
       "      <th>6</th>\n",
       "      <td>898</td>\n",
       "      <td>0</td>\n",
       "    </tr>\n",
       "    <tr>\n",
       "      <th>7</th>\n",
       "      <td>899</td>\n",
       "      <td>0</td>\n",
       "    </tr>\n",
       "    <tr>\n",
       "      <th>8</th>\n",
       "      <td>900</td>\n",
       "      <td>1</td>\n",
       "    </tr>\n",
       "    <tr>\n",
       "      <th>9</th>\n",
       "      <td>901</td>\n",
       "      <td>0</td>\n",
       "    </tr>\n",
       "  </tbody>\n",
       "</table>\n",
       "</div>"
      ],
      "text/plain": [
       "   PassengerId  Survived\n",
       "0          892         0\n",
       "1          893         0\n",
       "2          894         0\n",
       "3          895         0\n",
       "4          896         1\n",
       "5          897         0\n",
       "6          898         0\n",
       "7          899         0\n",
       "8          900         1\n",
       "9          901         0"
      ]
     },
     "execution_count": 146,
     "metadata": {},
     "output_type": "execute_result"
    }
   ],
   "source": [
    "sub = pd.DataFrame({'PassengerId':test.index, 'Survived':PredtoClass(preds_test)})[['PassengerId', 'Survived']]\n",
    "sub.head(10)"
   ]
  },
  {
   "cell_type": "code",
   "execution_count": 147,
   "metadata": {},
   "outputs": [
    {
     "data": {
      "text/html": [
       "<a href='data/titanic//tmp/RFsub5.csv' target='_blank'>data/titanic//tmp/RFsub5.csv</a><br>"
      ],
      "text/plain": [
       "/home/paperspace/fastai/courses/dl1/data/titanic/tmp/RFsub5.csv"
      ]
     },
     "execution_count": 147,
     "metadata": {},
     "output_type": "execute_result"
    }
   ],
   "source": [
    "csv_fn=f'{PATH}/tmp/RFsub5.csv'\n",
    "sub.to_csv(csv_fn, index=False)\n",
    "FileLink(csv_fn)"
   ]
  },
  {
   "cell_type": "markdown",
   "metadata": {},
   "source": [
    "This random forest submission also received a score of 0.77033, exactly the same as the nn score, despite the 86.7% validation set accuracy."
   ]
  }
 ],
 "metadata": {
  "anaconda-cloud": {},
  "kernelspec": {
   "display_name": "Python 3",
   "language": "python",
   "name": "python3"
  },
  "language_info": {
   "codemirror_mode": {
    "name": "ipython",
    "version": 3
   },
   "file_extension": ".py",
   "mimetype": "text/x-python",
   "name": "python",
   "nbconvert_exporter": "python",
   "pygments_lexer": "ipython3",
   "version": "3.6.5"
  },
  "toc": {
   "colors": {
    "hover_highlight": "#DAA520",
    "navigate_num": "#000000",
    "navigate_text": "#333333",
    "running_highlight": "#FF0000",
    "selected_highlight": "#FFD700",
    "sidebar_border": "#EEEEEE",
    "wrapper_background": "#FFFFFF"
   },
   "moveMenuLeft": true,
   "nav_menu": {
    "height": "173px",
    "width": "251px"
   },
   "navigate_menu": true,
   "number_sections": true,
   "sideBar": true,
   "threshold": 4,
   "toc_cell": false,
   "toc_section_display": "block",
   "toc_window_display": false,
   "widenNotebook": false
  }
 },
 "nbformat": 4,
 "nbformat_minor": 2
}
