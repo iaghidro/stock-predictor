{
 "cells": [
  {
   "cell_type": "markdown",
   "metadata": {},
   "source": [
    "# BTC Predictor"
   ]
  },
  {
   "cell_type": "code",
   "execution_count": 1367,
   "metadata": {},
   "outputs": [],
   "source": [
    "%matplotlib inline\n",
    "%reload_ext autoreload\n",
    "%autoreload 2"
   ]
  },
  {
   "cell_type": "code",
   "execution_count": 1368,
   "metadata": {},
   "outputs": [],
   "source": [
    "from fastai.structured import *\n",
    "from fastai.column_data import *\n",
    "np.set_printoptions(threshold=50, edgeitems=20)\n",
    "from ta import *\n",
    "\n",
    "PATH='data/stock/'"
   ]
  },
  {
   "cell_type": "markdown",
   "metadata": {
    "collapsed": true,
    "heading_collapsed": true,
    "scrolled": false
   },
   "source": [
    "## Stock Predictor Lib\n"
   ]
  },
  {
   "cell_type": "code",
   "execution_count": 1369,
   "metadata": {},
   "outputs": [],
   "source": [
    "def cleanData(df):\n",
    "    df = df.replace([np.inf, -np.inf], np.nan)\n",
    "    df.fillna(method='bfill')\n",
    "#     df = df.dropna()\n",
    "#     df = df.replace(np.nan,df.mean())\n",
    "    return df"
   ]
  },
  {
   "cell_type": "code",
   "execution_count": 1370,
   "metadata": {},
   "outputs": [],
   "source": [
    "def calculateAccuracy(df):\n",
    "    successfulPredictions = df.loc[df.action == df.predicted]\n",
    "    # total accuracy does not provide an accurate represantation\n",
    "    # totalAccuracy = len(successfulPredictions)/len(df)\n",
    "    totalBuyActions = df.loc[df.action == 1]\n",
    "    totalSellActions = df.loc[df.action == 0]\n",
    "    successfulBuyPredictions = successfulPredictions.loc[successfulPredictions.action == 1]\n",
    "    successfulSellPredictions = successfulPredictions.loc[successfulPredictions.action == 0]\n",
    "    buyAccuracy = len(successfulBuyPredictions)/len(totalBuyActions)\n",
    "    sellAccuracy = len(successfulSellPredictions)/len(totalSellActions)\n",
    "    result = {\n",
    "        'F1Score': (buyAccuracy + sellAccuracy )/2,\n",
    "        'buyAccuracy': buyAccuracy,\n",
    "        'sellAccuracy': sellAccuracy,\n",
    "        'totalBuyActions': len(totalBuyActions),\n",
    "        'successfulBuyPredictions': len(successfulBuyPredictions)\n",
    "    }\n",
    "    return result\n",
    "            \n",
    "def calculateNetProfit(dataFrame, startAmount):\n",
    "    df = dataFrame\n",
    "    df['buyAmount'] = 0\n",
    "    df['sellAmount'] = 0\n",
    "    totalBuys = 0\n",
    "    totalSells = 0\n",
    "    for index, row in df.iterrows():\n",
    "        if index == df.index[0]:\n",
    "            df.loc[index,'buyAmount'] = startAmount\n",
    "        elif row.predicted == 1 and df.loc[index -1,'buyAmount'] > 0:\n",
    "            df.loc[index,'sellAmount'] = df.loc[index -1,'buyAmount']/row.Close\n",
    "            totalBuys +=1\n",
    "        elif row.predicted == 1 and df.loc[index -1,'buyAmount'] == 0:\n",
    "            df.loc[index,'sellAmount'] = df.loc[index -1,'sellAmount']\n",
    "        elif row.predicted == 0 and df.loc[index -1,'sellAmount'] > 0:\n",
    "            df.loc[index,'buyAmount'] = df.loc[index -1,'sellAmount']*row.Close\n",
    "            totalSells +=1\n",
    "        elif row.predicted == 0 and df.loc[index -1,'sellAmount'] == 0:\n",
    "            df.loc[index,'buyAmount'] = df.loc[index -1,'buyAmount']\n",
    "            \n",
    "    startClose = df.Close.iloc[0]\n",
    "    endClose = df.Close.iloc[-1]\n",
    "    endBuyAmount = df.buyAmount.iloc[-1]\n",
    "    endSellAmount = df.sellAmount.iloc[-1]\n",
    "    endAmount = endBuyAmount if (endBuyAmount > 0) else (endSellAmount * endClose)\n",
    "    \n",
    "    buyAndHoldPercentIncrease = ((endClose - startClose)/startClose) * 100\n",
    "    percentIncrease = ((endAmount - startAmount)/startAmount) * 100\n",
    "    percentDifference = percentIncrease - buyAndHoldPercentIncrease\n",
    "    \n",
    "    result = {\n",
    "        'startClose': startClose,\n",
    "        'endClose': endClose,\n",
    "        'startAmount': startAmount,\n",
    "        'endAmount': endAmount,\n",
    "        'buyAndHoldPercentIncrease':round(buyAndHoldPercentIncrease,3),\n",
    "        'percentIncrease':round(percentIncrease,3),\n",
    "        'percentDifference':round(percentDifference,3),\n",
    "        'totalBuys':totalBuys,\n",
    "        'totalSells':totalSells\n",
    "    }\n",
    "    return df,result\n"
   ]
  },
  {
   "cell_type": "code",
   "execution_count": 1371,
   "metadata": {},
   "outputs": [],
   "source": [
    "#  use conflateTimeFrame(df, '5T')\n",
    "def conflateTime(df, timeFrame):\n",
    "    ohlc_dict = {                                                                                                             \n",
    "        'Open':'first',                                                                                                    \n",
    "        'High':'max',                                                                                                       \n",
    "        'Low':'min',                                                                                                        \n",
    "        'Close': 'last',                                                                                                    \n",
    "        'Volume': 'sum'\n",
    "    }\n",
    "    df.resample(timeFrame, how=ohlc_dict, closed='left', label='left')\n",
    "    return df"
   ]
  },
  {
   "cell_type": "markdown",
   "metadata": {
    "collapsed": true,
    "heading_collapsed": true,
    "scrolled": false
   },
   "source": [
    "## Config\n"
   ]
  },
  {
   "cell_type": "code",
   "execution_count": 1372,
   "metadata": {
    "hidden": true
   },
   "outputs": [],
   "source": [
    "pd.set_option('display.max_columns', 100)\n",
    "pd.set_option('display.max_rows', 100)\n",
    "\n",
    "lookahead = 30\n",
    "percentIncrease = 1.005\n",
    "recordsCount = 260000\n",
    "testRecordsCount = 10000\n",
    "trainRecordsCount = 250000\n",
    "trainRatio = 0.9\n",
    "lr = 1e-3\n",
    "dropout = 0.09\n",
    "modelName = 'btcBinaryClassificationModel'\n",
    "index='Timestamp'\n",
    "dep = 'action'"
   ]
  },
  {
   "cell_type": "markdown",
   "metadata": {
    "collapsed": true,
    "heading_collapsed": true,
    "scrolled": false
   },
   "source": [
    "## Create datasets"
   ]
  },
  {
   "cell_type": "code",
   "execution_count": 1373,
   "metadata": {
    "hidden": true
   },
   "outputs": [],
   "source": [
    "table_names = ['btc-bitstamp-2012-01-01_to_2018-01-08']"
   ]
  },
  {
   "cell_type": "code",
   "execution_count": 1374,
   "metadata": {
    "hidden": true
   },
   "outputs": [],
   "source": [
    "tables = [pd.read_csv(f'{PATH}{fname}.csv', low_memory=False) for fname in table_names]"
   ]
  },
  {
   "cell_type": "code",
   "execution_count": 1375,
   "metadata": {
    "hidden": true
   },
   "outputs": [],
   "source": [
    "from IPython.display import HTML"
   ]
  },
  {
   "cell_type": "code",
   "execution_count": 1376,
   "metadata": {
    "hidden": true
   },
   "outputs": [
    {
     "data": {
      "text/html": [
       "<div>\n",
       "<style scoped>\n",
       "    .dataframe tbody tr th:only-of-type {\n",
       "        vertical-align: middle;\n",
       "    }\n",
       "\n",
       "    .dataframe tbody tr th {\n",
       "        vertical-align: top;\n",
       "    }\n",
       "\n",
       "    .dataframe thead th {\n",
       "        text-align: right;\n",
       "    }\n",
       "</style>\n",
       "<table border=\"1\" class=\"dataframe\">\n",
       "  <thead>\n",
       "    <tr style=\"text-align: right;\">\n",
       "      <th></th>\n",
       "      <th>Timestamp</th>\n",
       "      <th>Open</th>\n",
       "      <th>High</th>\n",
       "      <th>Low</th>\n",
       "      <th>Close</th>\n",
       "      <th>Volume_(BTC)</th>\n",
       "      <th>Volume_(Currency)</th>\n",
       "      <th>Weighted_Price</th>\n",
       "    </tr>\n",
       "  </thead>\n",
       "  <tbody>\n",
       "    <tr>\n",
       "      <th>0</th>\n",
       "      <td>1325317920</td>\n",
       "      <td>4.39</td>\n",
       "      <td>4.39</td>\n",
       "      <td>4.39</td>\n",
       "      <td>4.39</td>\n",
       "      <td>0.455581</td>\n",
       "      <td>2.0</td>\n",
       "      <td>4.39</td>\n",
       "    </tr>\n",
       "    <tr>\n",
       "      <th>1</th>\n",
       "      <td>1325317980</td>\n",
       "      <td>4.39</td>\n",
       "      <td>4.39</td>\n",
       "      <td>4.39</td>\n",
       "      <td>4.39</td>\n",
       "      <td>0.455581</td>\n",
       "      <td>2.0</td>\n",
       "      <td>4.39</td>\n",
       "    </tr>\n",
       "    <tr>\n",
       "      <th>2</th>\n",
       "      <td>1325318040</td>\n",
       "      <td>4.39</td>\n",
       "      <td>4.39</td>\n",
       "      <td>4.39</td>\n",
       "      <td>4.39</td>\n",
       "      <td>0.455581</td>\n",
       "      <td>2.0</td>\n",
       "      <td>4.39</td>\n",
       "    </tr>\n",
       "    <tr>\n",
       "      <th>3</th>\n",
       "      <td>1325318100</td>\n",
       "      <td>4.39</td>\n",
       "      <td>4.39</td>\n",
       "      <td>4.39</td>\n",
       "      <td>4.39</td>\n",
       "      <td>0.455581</td>\n",
       "      <td>2.0</td>\n",
       "      <td>4.39</td>\n",
       "    </tr>\n",
       "    <tr>\n",
       "      <th>4</th>\n",
       "      <td>1325318160</td>\n",
       "      <td>4.39</td>\n",
       "      <td>4.39</td>\n",
       "      <td>4.39</td>\n",
       "      <td>4.39</td>\n",
       "      <td>0.455581</td>\n",
       "      <td>2.0</td>\n",
       "      <td>4.39</td>\n",
       "    </tr>\n",
       "  </tbody>\n",
       "</table>\n",
       "</div>"
      ],
      "text/plain": [
       "    Timestamp  Open  High   Low  Close  Volume_(BTC)  Volume_(Currency)  \\\n",
       "0  1325317920  4.39  4.39  4.39   4.39      0.455581                2.0   \n",
       "1  1325317980  4.39  4.39  4.39   4.39      0.455581                2.0   \n",
       "2  1325318040  4.39  4.39  4.39   4.39      0.455581                2.0   \n",
       "3  1325318100  4.39  4.39  4.39   4.39      0.455581                2.0   \n",
       "4  1325318160  4.39  4.39  4.39   4.39      0.455581                2.0   \n",
       "\n",
       "   Weighted_Price  \n",
       "0            4.39  \n",
       "1            4.39  \n",
       "2            4.39  \n",
       "3            4.39  \n",
       "4            4.39  "
      ]
     },
     "metadata": {},
     "output_type": "display_data"
    }
   ],
   "source": [
    "for t in tables: display(t.head())"
   ]
  },
  {
   "cell_type": "markdown",
   "metadata": {
    "hidden": true
   },
   "source": [
    "The following returns summarized aggregate information to each table accross each field."
   ]
  },
  {
   "cell_type": "code",
   "execution_count": 1377,
   "metadata": {
    "hidden": true,
    "scrolled": false
   },
   "outputs": [],
   "source": [
    "# for t in tables: display(DataFrameSummary(t).summary())"
   ]
  },
  {
   "cell_type": "code",
   "execution_count": 1378,
   "metadata": {},
   "outputs": [],
   "source": [
    "train= tables[0]"
   ]
  },
  {
   "cell_type": "code",
   "execution_count": 1379,
   "metadata": {},
   "outputs": [
    {
     "data": {
      "text/plain": [
       "3161057"
      ]
     },
     "execution_count": 1379,
     "metadata": {},
     "output_type": "execute_result"
    }
   ],
   "source": [
    "len(train)"
   ]
  },
  {
   "cell_type": "code",
   "execution_count": 1380,
   "metadata": {},
   "outputs": [
    {
     "data": {
      "text/plain": [
       "260000"
      ]
     },
     "execution_count": 1380,
     "metadata": {},
     "output_type": "execute_result"
    }
   ],
   "source": [
    "# trim to x records for now\n",
    "# TODO: remove this\n",
    "# train = train.tail(1000000)\n",
    "train = train.tail(recordsCount)\n",
    "len(train)"
   ]
  },
  {
   "cell_type": "code",
   "execution_count": 1381,
   "metadata": {},
   "outputs": [],
   "source": [
    "train.reset_index(inplace=True)\n",
    "train.to_feather(f'{PATH}train')"
   ]
  },
  {
   "cell_type": "markdown",
   "metadata": {},
   "source": [
    "## Data Cleaning"
   ]
  },
  {
   "cell_type": "code",
   "execution_count": 1382,
   "metadata": {
    "hidden": true
   },
   "outputs": [],
   "source": [
    "train = pd.read_feather(f'{PATH}train')"
   ]
  },
  {
   "cell_type": "code",
   "execution_count": 1383,
   "metadata": {},
   "outputs": [
    {
     "data": {
      "text/html": [
       "<div>\n",
       "<style scoped>\n",
       "    .dataframe tbody tr th:only-of-type {\n",
       "        vertical-align: middle;\n",
       "    }\n",
       "\n",
       "    .dataframe tbody tr th {\n",
       "        vertical-align: top;\n",
       "    }\n",
       "\n",
       "    .dataframe thead th {\n",
       "        text-align: right;\n",
       "    }\n",
       "</style>\n",
       "<table border=\"1\" class=\"dataframe\">\n",
       "  <thead>\n",
       "    <tr style=\"text-align: right;\">\n",
       "      <th></th>\n",
       "      <th>index</th>\n",
       "      <th>Timestamp</th>\n",
       "      <th>Open</th>\n",
       "      <th>High</th>\n",
       "      <th>Low</th>\n",
       "      <th>Close</th>\n",
       "      <th>Volume_(BTC)</th>\n",
       "      <th>Volume_(Currency)</th>\n",
       "      <th>Weighted_Price</th>\n",
       "    </tr>\n",
       "  </thead>\n",
       "  <tbody>\n",
       "    <tr>\n",
       "      <th>0</th>\n",
       "      <td>2901057</td>\n",
       "      <td>2017-07-11 10:41:00</td>\n",
       "      <td>2343.46</td>\n",
       "      <td>2343.46</td>\n",
       "      <td>2335.02</td>\n",
       "      <td>2335.02</td>\n",
       "      <td>4.843332</td>\n",
       "      <td>11318.864938</td>\n",
       "      <td>2336.999820</td>\n",
       "    </tr>\n",
       "    <tr>\n",
       "      <th>1</th>\n",
       "      <td>2901058</td>\n",
       "      <td>2017-07-11 10:42:00</td>\n",
       "      <td>2343.31</td>\n",
       "      <td>2343.31</td>\n",
       "      <td>2335.04</td>\n",
       "      <td>2335.65</td>\n",
       "      <td>10.780731</td>\n",
       "      <td>25189.064903</td>\n",
       "      <td>2336.489413</td>\n",
       "    </tr>\n",
       "    <tr>\n",
       "      <th>2</th>\n",
       "      <td>2901059</td>\n",
       "      <td>2017-07-11 10:43:00</td>\n",
       "      <td>2335.65</td>\n",
       "      <td>2342.80</td>\n",
       "      <td>2335.02</td>\n",
       "      <td>2335.02</td>\n",
       "      <td>12.944384</td>\n",
       "      <td>30230.352996</td>\n",
       "      <td>2335.403051</td>\n",
       "    </tr>\n",
       "    <tr>\n",
       "      <th>3</th>\n",
       "      <td>2901060</td>\n",
       "      <td>2017-07-11 10:44:00</td>\n",
       "      <td>2335.00</td>\n",
       "      <td>2335.01</td>\n",
       "      <td>2335.00</td>\n",
       "      <td>2335.01</td>\n",
       "      <td>1.550654</td>\n",
       "      <td>3620.792818</td>\n",
       "      <td>2335.009887</td>\n",
       "    </tr>\n",
       "    <tr>\n",
       "      <th>4</th>\n",
       "      <td>2901061</td>\n",
       "      <td>2017-07-11 10:45:00</td>\n",
       "      <td>2336.00</td>\n",
       "      <td>2339.35</td>\n",
       "      <td>2336.00</td>\n",
       "      <td>2336.01</td>\n",
       "      <td>7.062206</td>\n",
       "      <td>16498.913514</td>\n",
       "      <td>2336.226666</td>\n",
       "    </tr>\n",
       "  </tbody>\n",
       "</table>\n",
       "</div>"
      ],
      "text/plain": [
       "     index           Timestamp     Open     High      Low    Close  \\\n",
       "0  2901057 2017-07-11 10:41:00  2343.46  2343.46  2335.02  2335.02   \n",
       "1  2901058 2017-07-11 10:42:00  2343.31  2343.31  2335.04  2335.65   \n",
       "2  2901059 2017-07-11 10:43:00  2335.65  2342.80  2335.02  2335.02   \n",
       "3  2901060 2017-07-11 10:44:00  2335.00  2335.01  2335.00  2335.01   \n",
       "4  2901061 2017-07-11 10:45:00  2336.00  2339.35  2336.00  2336.01   \n",
       "\n",
       "   Volume_(BTC)  Volume_(Currency)  Weighted_Price  \n",
       "0      4.843332       11318.864938     2336.999820  \n",
       "1     10.780731       25189.064903     2336.489413  \n",
       "2     12.944384       30230.352996     2335.403051  \n",
       "3      1.550654        3620.792818     2335.009887  \n",
       "4      7.062206       16498.913514     2336.226666  "
      ]
     },
     "execution_count": 1383,
     "metadata": {},
     "output_type": "execute_result"
    }
   ],
   "source": [
    "#convert to date objects\n",
    "train[index] = pd.to_datetime(train[index], unit='s')\n",
    "train.head()"
   ]
  },
  {
   "cell_type": "markdown",
   "metadata": {},
   "source": [
    "SET DEPENDENT VARIABLE ACTION"
   ]
  },
  {
   "cell_type": "code",
   "execution_count": 1384,
   "metadata": {},
   "outputs": [
    {
     "data": {
      "text/html": [
       "<div>\n",
       "<style scoped>\n",
       "    .dataframe tbody tr th:only-of-type {\n",
       "        vertical-align: middle;\n",
       "    }\n",
       "\n",
       "    .dataframe tbody tr th {\n",
       "        vertical-align: top;\n",
       "    }\n",
       "\n",
       "    .dataframe thead th {\n",
       "        text-align: right;\n",
       "    }\n",
       "</style>\n",
       "<table border=\"1\" class=\"dataframe\">\n",
       "  <thead>\n",
       "    <tr style=\"text-align: right;\">\n",
       "      <th></th>\n",
       "      <th>index</th>\n",
       "      <th>Timestamp</th>\n",
       "      <th>Open</th>\n",
       "      <th>High</th>\n",
       "      <th>Low</th>\n",
       "      <th>Close</th>\n",
       "      <th>Volume</th>\n",
       "    </tr>\n",
       "  </thead>\n",
       "  <tbody>\n",
       "    <tr>\n",
       "      <th>0</th>\n",
       "      <td>2901057</td>\n",
       "      <td>2017-07-11 10:41:00</td>\n",
       "      <td>2343.46</td>\n",
       "      <td>2343.46</td>\n",
       "      <td>2335.02</td>\n",
       "      <td>2335.02</td>\n",
       "      <td>4.843332</td>\n",
       "    </tr>\n",
       "    <tr>\n",
       "      <th>1</th>\n",
       "      <td>2901058</td>\n",
       "      <td>2017-07-11 10:42:00</td>\n",
       "      <td>2343.31</td>\n",
       "      <td>2343.31</td>\n",
       "      <td>2335.04</td>\n",
       "      <td>2335.65</td>\n",
       "      <td>10.780731</td>\n",
       "    </tr>\n",
       "    <tr>\n",
       "      <th>2</th>\n",
       "      <td>2901059</td>\n",
       "      <td>2017-07-11 10:43:00</td>\n",
       "      <td>2335.65</td>\n",
       "      <td>2342.80</td>\n",
       "      <td>2335.02</td>\n",
       "      <td>2335.02</td>\n",
       "      <td>12.944384</td>\n",
       "    </tr>\n",
       "    <tr>\n",
       "      <th>3</th>\n",
       "      <td>2901060</td>\n",
       "      <td>2017-07-11 10:44:00</td>\n",
       "      <td>2335.00</td>\n",
       "      <td>2335.01</td>\n",
       "      <td>2335.00</td>\n",
       "      <td>2335.01</td>\n",
       "      <td>1.550654</td>\n",
       "    </tr>\n",
       "    <tr>\n",
       "      <th>4</th>\n",
       "      <td>2901061</td>\n",
       "      <td>2017-07-11 10:45:00</td>\n",
       "      <td>2336.00</td>\n",
       "      <td>2339.35</td>\n",
       "      <td>2336.00</td>\n",
       "      <td>2336.01</td>\n",
       "      <td>7.062206</td>\n",
       "    </tr>\n",
       "  </tbody>\n",
       "</table>\n",
       "</div>"
      ],
      "text/plain": [
       "     index           Timestamp     Open     High      Low    Close     Volume\n",
       "0  2901057 2017-07-11 10:41:00  2343.46  2343.46  2335.02  2335.02   4.843332\n",
       "1  2901058 2017-07-11 10:42:00  2343.31  2343.31  2335.04  2335.65  10.780731\n",
       "2  2901059 2017-07-11 10:43:00  2335.65  2342.80  2335.02  2335.02  12.944384\n",
       "3  2901060 2017-07-11 10:44:00  2335.00  2335.01  2335.00  2335.01   1.550654\n",
       "4  2901061 2017-07-11 10:45:00  2336.00  2339.35  2336.00  2336.01   7.062206"
      ]
     },
     "execution_count": 1384,
     "metadata": {},
     "output_type": "execute_result"
    }
   ],
   "source": [
    "# edit columns\n",
    "train[\"Volume\"] = train[\"Volume_(BTC)\"]\n",
    "train.drop('Volume_(BTC)',1,inplace=True)\n",
    "train[\"VolumeCurrency\"] = train[\"Volume_(Currency)\"]\n",
    "train.drop('Volume_(Currency)',1,inplace=True)\n",
    "\n",
    "# delete unused columns\n",
    "train.drop('VolumeCurrency',1,inplace=True)\n",
    "train.drop('Weighted_Price',1,inplace=True)\n",
    "train.head()"
   ]
  },
  {
   "cell_type": "markdown",
   "metadata": {},
   "source": [
    "## Feature Engineering"
   ]
  },
  {
   "cell_type": "code",
   "execution_count": null,
   "metadata": {},
   "outputs": [],
   "source": [
    "# add technical analysis\n",
    "train = add_all_ta_features(train, \"Open\", \"High\", \"Low\", \"Close\", \"Volume\", fillna=True)\n",
    "train = cleanData(train)\n",
    "len(train)"
   ]
  },
  {
   "cell_type": "code",
   "execution_count": null,
   "metadata": {},
   "outputs": [],
   "source": [
    "# train['action'] = 0;\n",
    "# train.loc[train['Close'].rolling(window=lookahead).max() > train['Close'], 'action'] = 1\n",
    "# train.loc[train['Close'].rolling(window=lookahead).max() > percentIncrease * train['Close'], 'action'] = 2\n",
    "\n",
    "train['action'] =  train['Close'].rolling(window=lookahead).max() > percentIncrease * train['Close']\n",
    "train.action = train.action.astype(int)\n",
    "\n",
    "# target count by category\n",
    "len(train[train.action==2]),len(train[train.action==1]),len(train[train.action==0])"
   ]
  },
  {
   "cell_type": "markdown",
   "metadata": {},
   "source": [
    "Time modifications"
   ]
  },
  {
   "cell_type": "code",
   "execution_count": null,
   "metadata": {},
   "outputs": [],
   "source": [
    "# add all date time values\n",
    "add_datepart(train, index, drop=False)\n",
    "train['hour'] = train[index].dt.hour;\n",
    "train['minute'] = train[index].dt.minute;\n",
    "len(train)"
   ]
  },
  {
   "cell_type": "markdown",
   "metadata": {
    "collapsed": true,
    "heading_collapsed": true
   },
   "source": [
    "## Split validation and test sets"
   ]
  },
  {
   "cell_type": "code",
   "execution_count": null,
   "metadata": {},
   "outputs": [],
   "source": [
    "# todo: make this into a percentage instead of hardcoding the test set \n",
    "# todo: create function \n",
    "test = train.tail(testRecordsCount)\n",
    "test.reset_index(inplace=True)\n",
    "train = train.head(trainRecordsCount)\n",
    "train.reset_index(inplace=True)\n",
    "len(train),len(test)"
   ]
  },
  {
   "cell_type": "code",
   "execution_count": null,
   "metadata": {},
   "outputs": [],
   "source": [
    "train.to_feather(f'{PATH}train')\n",
    "test.to_feather(f'{PATH}test')"
   ]
  },
  {
   "cell_type": "markdown",
   "metadata": {
    "collapsed": true,
    "heading_collapsed": true
   },
   "source": [
    "## Create features"
   ]
  },
  {
   "cell_type": "code",
   "execution_count": null,
   "metadata": {
    "hidden": true
   },
   "outputs": [],
   "source": [
    "train = pd.read_feather(f'{PATH}train')\n",
    "test = pd.read_feather(f'{PATH}test')"
   ]
  },
  {
   "cell_type": "code",
   "execution_count": null,
   "metadata": {
    "hidden": true,
    "scrolled": true
   },
   "outputs": [],
   "source": [
    "train.tail(50).T.head(100)"
   ]
  },
  {
   "cell_type": "code",
   "execution_count": null,
   "metadata": {},
   "outputs": [],
   "source": [
    "# display(DataFrameSummary(train).summary())\n",
    "# break break break now"
   ]
  },
  {
   "cell_type": "markdown",
   "metadata": {
    "hidden": true
   },
   "source": [
    "Now that we've engineered all our features, we need to convert to input compatible with a neural network.\n",
    "\n",
    "This includes converting categorical variables into contiguous integers or one-hot encodings, normalizing continuous features to standard normal, etc..."
   ]
  },
  {
   "cell_type": "code",
   "execution_count": null,
   "metadata": {
    "scrolled": true
   },
   "outputs": [],
   "source": [
    "train.head()"
   ]
  },
  {
   "cell_type": "markdown",
   "metadata": {},
   "source": [
    "Identify categorical vs continuous variables"
   ]
  },
  {
   "cell_type": "code",
   "execution_count": null,
   "metadata": {
    "hidden": true
   },
   "outputs": [],
   "source": [
    "cat_vars = ['TimestampYear', 'TimestampMonth', 'TimestampWeek', 'TimestampDay', 'hour','minute', 'TimestampDayofweek',\n",
    "'TimestampDayofyear','TimestampIs_month_end', 'TimestampIs_month_start', 'TimestampIs_quarter_end',\n",
    "'TimestampIs_quarter_start','TimestampIs_year_end', 'TimestampIs_year_start']\n",
    "\n",
    "# techincal_indicators = ['volume_adi','volume_obv','volume_obvm','volume_cmf','volume_nvi','volatility_bbh',\n",
    "# 'volatility_bbl','volatility_atr','volatility_bbm','trend_mass_index','trend_macd','trend_macd_signal',\n",
    "# 'trend_kst','trend_kst_sig','trend_kst_diff','trend_macd_diff','trend_ema_fast','trend_ema_slow','trend_adx',\n",
    "# 'trend_adx_pos','trend_adx_neg','trend_adx_ind','trend_ichimoku_a','trend_ichimoku_b','momentum_rsi','momentum_mfi',\n",
    "# 'momentum_tsi','momentum_uo','momentum_stoch','momentum_stoch_signal','momentum_wr','momentum_ao']\n",
    "\n",
    "contin_vars = ['Open', 'Close','High', 'Low', 'Volume', 'TimestampElapsed',\n",
    "'volume_adi','volume_obv','volume_obvm','volume_cmf','volume_fi','volume_em','volume_vpt','volume_nvi',\n",
    "'volatility_atr','volatility_bbh','volatility_bbl','volatility_bbm','volatility_bbhi','volatility_bbli',\n",
    "'volatility_kcc','volatility_kch','volatility_kcl','volatility_kchi','volatility_kcli','volatility_dch',\n",
    "'volatility_dcl','volatility_dchi','volatility_dcli','trend_macd','trend_macd_signal','trend_macd_diff',\n",
    "'trend_ema_fast','trend_ema_slow','trend_adx','trend_adx_pos','trend_adx_neg','trend_adx_ind','trend_vortex_ind_pos',\n",
    "'trend_vortex_ind_neg','trend_vortex_diff','trend_trix','trend_mass_index','trend_cci','trend_dpo','trend_kst',\n",
    "'trend_kst_sig','trend_kst_diff','trend_ichimoku_a','trend_ichimoku_b','momentum_rsi','momentum_mfi','momentum_tsi',\n",
    "'momentum_uo','momentum_stoch','momentum_stoch_signal','momentum_wr','momentum_ao']\n",
    "# 'others_dr','others_cr'\n",
    "\n",
    "# contin_vars = [base_vars+techincal_indicators]\n",
    "\n",
    "n = len(train); n\n",
    "\n",
    "test = test.set_index(index)\n",
    "train = train.set_index(index)\n",
    "\n",
    "len(contin_vars)"
   ]
  },
  {
   "cell_type": "code",
   "execution_count": null,
   "metadata": {
    "hidden": true
   },
   "outputs": [],
   "source": [
    "train = train[cat_vars+contin_vars+[dep]].copy()\n",
    "# , index"
   ]
  },
  {
   "cell_type": "code",
   "execution_count": null,
   "metadata": {},
   "outputs": [],
   "source": [
    "# test[dep] = 0 \n",
    "test = test[cat_vars+contin_vars+[dep]].copy()\n",
    "# , index\n"
   ]
  },
  {
   "cell_type": "code",
   "execution_count": null,
   "metadata": {
    "hidden": true
   },
   "outputs": [],
   "source": [
    "for v in cat_vars: train[v] = train[v].astype('category').cat.as_ordered()\n",
    "#     todo: maybe change dep variable to category here for multiclass option"
   ]
  },
  {
   "cell_type": "code",
   "execution_count": null,
   "metadata": {
    "hidden": true
   },
   "outputs": [],
   "source": [
    "apply_cats(test, train)\n",
    "# test"
   ]
  },
  {
   "cell_type": "code",
   "execution_count": null,
   "metadata": {
    "hidden": true
   },
   "outputs": [],
   "source": [
    "for v in contin_vars:\n",
    "    train[v] = train[v].astype('float32')\n",
    "    test[v] = test[v].astype('float32')"
   ]
  },
  {
   "cell_type": "markdown",
   "metadata": {
    "hidden": true
   },
   "source": [
    "We can now process our data..."
   ]
  },
  {
   "cell_type": "code",
   "execution_count": null,
   "metadata": {
    "hidden": true
   },
   "outputs": [],
   "source": [
    "df, y, nas, mapper = proc_df(train, dep, do_scale=True)"
   ]
  },
  {
   "cell_type": "code",
   "execution_count": null,
   "metadata": {},
   "outputs": [],
   "source": [
    "y.shape"
   ]
  },
  {
   "cell_type": "code",
   "execution_count": null,
   "metadata": {
    "hidden": true
   },
   "outputs": [],
   "source": [
    "df_test, _, nas, mapper = proc_df(test, dep, do_scale=True, mapper=mapper, na_dict=nas)\n",
    "train.head(30).T.head(70)"
   ]
  },
  {
   "cell_type": "code",
   "execution_count": null,
   "metadata": {},
   "outputs": [],
   "source": [
    "nas={}"
   ]
  },
  {
   "cell_type": "code",
   "execution_count": null,
   "metadata": {
    "hidden": true,
    "scrolled": true
   },
   "outputs": [],
   "source": [
    "df.head(2)"
   ]
  },
  {
   "cell_type": "code",
   "execution_count": null,
   "metadata": {},
   "outputs": [],
   "source": [
    "df_test.head(2)"
   ]
  },
  {
   "cell_type": "markdown",
   "metadata": {
    "hidden": true
   },
   "source": [
    "Rake the last x% of rows as our validation set."
   ]
  },
  {
   "cell_type": "code",
   "execution_count": null,
   "metadata": {
    "hidden": true
   },
   "outputs": [],
   "source": [
    "train_size = int(n * trainRatio); train_size\n",
    "val_idx = list(range(train_size, len(df)))\n",
    "#val_idx = list(range(0, len(df)-train_size))\n",
    "#val_idx = get_cv_idxs(n, val_pct=0.1)"
   ]
  },
  {
   "cell_type": "code",
   "execution_count": null,
   "metadata": {
    "hidden": true
   },
   "outputs": [],
   "source": [
    "len(val_idx)"
   ]
  },
  {
   "cell_type": "markdown",
   "metadata": {},
   "source": [
    "## DL"
   ]
  },
  {
   "cell_type": "markdown",
   "metadata": {},
   "source": [
    "We're ready to put together our models."
   ]
  },
  {
   "cell_type": "markdown",
   "metadata": {},
   "source": [
    "We can create a ModelData object directly from our data frame. Is_Reg is set to False to turn this into a classification problem (from a regression).  Is_multi is set True because there there are three labels for target BUY,HOLD,SELL"
   ]
  },
  {
   "cell_type": "code",
   "execution_count": null,
   "metadata": {},
   "outputs": [],
   "source": [
    "md = ColumnarModelData.from_data_frame(PATH, val_idx, df, y.astype('int'), cat_flds=cat_vars, bs=64,\n",
    "                                      is_reg=False,is_multi=False,test_df=df_test)"
   ]
  },
  {
   "cell_type": "markdown",
   "metadata": {},
   "source": [
    "Some categorical variables have a lot more levels than others."
   ]
  },
  {
   "cell_type": "code",
   "execution_count": null,
   "metadata": {},
   "outputs": [],
   "source": [
    "cat_sz = [(c, len(train[c].cat.categories)+1) for c in cat_vars]"
   ]
  },
  {
   "cell_type": "code",
   "execution_count": null,
   "metadata": {
    "scrolled": true
   },
   "outputs": [],
   "source": [
    "cat_sz"
   ]
  },
  {
   "cell_type": "markdown",
   "metadata": {},
   "source": [
    "We use the *cardinality* of each variable (that is, its number of unique values) to decide how large to make its *embeddings*. Each level will be associated with a vector with length defined as below."
   ]
  },
  {
   "cell_type": "code",
   "execution_count": null,
   "metadata": {},
   "outputs": [],
   "source": [
    "emb_szs = [(c, min(50, (c+1)//2)) for _,c in cat_sz]"
   ]
  },
  {
   "cell_type": "code",
   "execution_count": null,
   "metadata": {
    "scrolled": true
   },
   "outputs": [],
   "source": [
    "emb_szs"
   ]
  },
  {
   "cell_type": "markdown",
   "metadata": {},
   "source": [
    "Check if cuda is available"
   ]
  },
  {
   "cell_type": "code",
   "execution_count": null,
   "metadata": {},
   "outputs": [],
   "source": [
    "torch.cuda.is_available()"
   ]
  },
  {
   "cell_type": "code",
   "execution_count": null,
   "metadata": {},
   "outputs": [],
   "source": [
    "len(df.columns)-len(cat_vars)"
   ]
  },
  {
   "cell_type": "code",
   "execution_count": null,
   "metadata": {},
   "outputs": [],
   "source": [
    "m = md.get_learner(emb_szs, len(df.columns)-len(cat_vars),dropout, 2, [100,50], [0.03,0.06],None,True)"
   ]
  },
  {
   "cell_type": "code",
   "execution_count": null,
   "metadata": {},
   "outputs": [],
   "source": [
    "m"
   ]
  },
  {
   "cell_type": "code",
   "execution_count": null,
   "metadata": {
    "scrolled": true
   },
   "outputs": [],
   "source": [
    "m.lr_find()\n",
    "m.sched.plot(100)"
   ]
  },
  {
   "cell_type": "code",
   "execution_count": null,
   "metadata": {
    "scrolled": true
   },
   "outputs": [],
   "source": [
    "m.fit(lr, 3)"
   ]
  },
  {
   "cell_type": "code",
   "execution_count": null,
   "metadata": {},
   "outputs": [],
   "source": [
    "m.fit(lr, 5, cycle_len=1)"
   ]
  },
  {
   "cell_type": "code",
   "execution_count": null,
   "metadata": {},
   "outputs": [],
   "source": [
    "m.fit(lr, 3, cycle_len=4, cycle_mult=2 )"
   ]
  },
  {
   "cell_type": "code",
   "execution_count": null,
   "metadata": {},
   "outputs": [],
   "source": [
    "m.save(modelName)"
   ]
  },
  {
   "cell_type": "code",
   "execution_count": null,
   "metadata": {},
   "outputs": [],
   "source": [
    "m.load(modelName)"
   ]
  },
  {
   "cell_type": "markdown",
   "metadata": {},
   "source": [
    "## Validation"
   ]
  },
  {
   "cell_type": "code",
   "execution_count": null,
   "metadata": {},
   "outputs": [],
   "source": [
    "(x,y1)=m.predict_with_targs()"
   ]
  },
  {
   "cell_type": "markdown",
   "metadata": {},
   "source": [
    "Predicted vs Validation"
   ]
  },
  {
   "cell_type": "code",
   "execution_count": null,
   "metadata": {},
   "outputs": [],
   "source": [
    "(np.argmax(x,axis=1),y1)"
   ]
  },
  {
   "cell_type": "code",
   "execution_count": null,
   "metadata": {},
   "outputs": [],
   "source": [
    "y1.shape"
   ]
  },
  {
   "cell_type": "code",
   "execution_count": null,
   "metadata": {},
   "outputs": [],
   "source": [
    "val = train.iloc[val_idx]\n",
    "val[[dep]]\n",
    "valpred = pd.DataFrame({'Close':val.Close,'index':val.index, 'action':val.action, 'predicted':np.argmax(x,axis=1)})[['Close','index', 'action','predicted']]\n",
    "valpred.tail(100)"
   ]
  },
  {
   "cell_type": "markdown",
   "metadata": {},
   "source": [
    "Calculate the percent accuracy on the validation set"
   ]
  },
  {
   "cell_type": "code",
   "execution_count": null,
   "metadata": {},
   "outputs": [],
   "source": [
    "calculateAccuracy(valpred)"
   ]
  },
  {
   "cell_type": "code",
   "execution_count": null,
   "metadata": {},
   "outputs": [],
   "source": [
    "newdf,result = calculateNetProfit(valpred, 10000)\n",
    "result"
   ]
  },
  {
   "cell_type": "code",
   "execution_count": null,
   "metadata": {},
   "outputs": [],
   "source": [
    "newdf.head(10)"
   ]
  },
  {
   "cell_type": "code",
   "execution_count": null,
   "metadata": {},
   "outputs": [],
   "source": [
    "newdf.plot(x='index', y=['Close'], style='o')"
   ]
  },
  {
   "cell_type": "code",
   "execution_count": null,
   "metadata": {},
   "outputs": [],
   "source": [
    "newdf.tail(10)"
   ]
  },
  {
   "cell_type": "markdown",
   "metadata": {},
   "source": [
    "## Test"
   ]
  },
  {
   "cell_type": "code",
   "execution_count": null,
   "metadata": {},
   "outputs": [],
   "source": [
    "np.argmax(m.predict(True), axis =1)"
   ]
  },
  {
   "cell_type": "code",
   "execution_count": null,
   "metadata": {},
   "outputs": [],
   "source": [
    "testPred = pd.DataFrame({'Timestamp':test.index, 'Close':test.Close, 'action':test.action, 'predicted':np.argmax(m.predict(True), axis =1)})[['Close','Timestamp', 'action', 'predicted']]\n",
    "testPred.head(10)"
   ]
  },
  {
   "cell_type": "markdown",
   "metadata": {},
   "source": [
    "Calculate the percent accuracy on the test set"
   ]
  },
  {
   "cell_type": "code",
   "execution_count": null,
   "metadata": {},
   "outputs": [],
   "source": [
    "calculateAccuracy(testPred)"
   ]
  },
  {
   "cell_type": "code",
   "execution_count": null,
   "metadata": {},
   "outputs": [],
   "source": [
    "newdf,result = calculateNetProfit(testPred, 10000)\n",
    "result"
   ]
  },
  {
   "cell_type": "code",
   "execution_count": null,
   "metadata": {},
   "outputs": [],
   "source": [
    "newdf.head(10)"
   ]
  },
  {
   "cell_type": "code",
   "execution_count": null,
   "metadata": {},
   "outputs": [],
   "source": [
    "newdf.tail(10)"
   ]
  },
  {
   "cell_type": "code",
   "execution_count": null,
   "metadata": {},
   "outputs": [],
   "source": [
    "newdf.plot(x='Timestamp', y=['Close'], style='o',figsize=(10,5), grid=True)"
   ]
  },
  {
   "cell_type": "code",
   "execution_count": null,
   "metadata": {},
   "outputs": [],
   "source": [
    "# csv_fn=f'{PATH}/tmp/sub4.csv'\n",
    "# sub.to_csv(csv_fn, index=False)\n",
    "# FileLink(csv_fn)"
   ]
  },
  {
   "cell_type": "markdown",
   "metadata": {
    "heading_collapsed": true
   },
   "source": [
    "## Random Forest"
   ]
  },
  {
   "cell_type": "code",
   "execution_count": null,
   "metadata": {
    "hidden": true
   },
   "outputs": [],
   "source": [
    "from sklearn.ensemble import RandomForestRegressor"
   ]
  },
  {
   "cell_type": "code",
   "execution_count": null,
   "metadata": {
    "hidden": true
   },
   "outputs": [],
   "source": [
    "((val,trn), (y_val,y_trn)) = split_by_idx(val_idx, df.values, y)"
   ]
  },
  {
   "cell_type": "code",
   "execution_count": null,
   "metadata": {
    "hidden": true
   },
   "outputs": [],
   "source": [
    "m = RandomForestRegressor(n_estimators=40, max_features=0.99, min_samples_leaf=2,\n",
    "                          n_jobs=-1, oob_score=True)\n",
    "m.fit(trn, y_trn);"
   ]
  },
  {
   "cell_type": "code",
   "execution_count": null,
   "metadata": {},
   "outputs": [],
   "source": [
    "def PredtoClass(a):\n",
    "    pred_class = []\n",
    "    for i in range(len(a)):\n",
    "        if a[i]<.5:\n",
    "            pred_class.append(0)\n",
    "        else:\n",
    "            pred_class.append(1)\n",
    "    return pred_class\n",
    "def accuracy(preds, y_val):\n",
    "    return  sum(1- abs(PredtoClass(preds) - y_val))/len(y_val)"
   ]
  },
  {
   "cell_type": "markdown",
   "metadata": {},
   "source": [
    "Accuracy on the validation set using a Random Forest Regressor"
   ]
  },
  {
   "cell_type": "code",
   "execution_count": null,
   "metadata": {
    "hidden": true
   },
   "outputs": [],
   "source": [
    "preds = m.predict(val)\n",
    "m.score(trn, y_trn), m.score(val, y_val), m.oob_score_, accuracy(preds, y_val)"
   ]
  },
  {
   "cell_type": "code",
   "execution_count": null,
   "metadata": {},
   "outputs": [],
   "source": [
    "preds_test = m.predict(df_test.values)"
   ]
  },
  {
   "cell_type": "code",
   "execution_count": null,
   "metadata": {},
   "outputs": [],
   "source": [
    "sub = pd.DataFrame({'Timestamp':test.index, 'action':PredtoClass(preds_test)})[['Timestamp', 'action']]\n",
    "sub.head(10)"
   ]
  },
  {
   "cell_type": "code",
   "execution_count": null,
   "metadata": {},
   "outputs": [],
   "source": [
    "# csv_fn=f'{PATH}/tmp/RFsub5.csv'\n",
    "# sub.to_csv(csv_fn, index=False)\n",
    "# FileLink(csv_fn)"
   ]
  }
 ],
 "metadata": {
  "anaconda-cloud": {},
  "kernelspec": {
   "display_name": "Python 3",
   "language": "python",
   "name": "python3"
  },
  "language_info": {
   "codemirror_mode": {
    "name": "ipython",
    "version": 3
   },
   "file_extension": ".py",
   "mimetype": "text/x-python",
   "name": "python",
   "nbconvert_exporter": "python",
   "pygments_lexer": "ipython3",
   "version": "3.6.5"
  },
  "toc": {
   "colors": {
    "hover_highlight": "#DAA520",
    "navigate_num": "#000000",
    "navigate_text": "#333333",
    "running_highlight": "#FF0000",
    "selected_highlight": "#FFD700",
    "sidebar_border": "#EEEEEE",
    "wrapper_background": "#FFFFFF"
   },
   "moveMenuLeft": true,
   "nav_menu": {
    "height": "173px",
    "width": "251px"
   },
   "navigate_menu": true,
   "number_sections": true,
   "sideBar": true,
   "threshold": 4,
   "toc_cell": false,
   "toc_section_display": "block",
   "toc_window_display": false,
   "widenNotebook": false
  }
 },
 "nbformat": 4,
 "nbformat_minor": 2
}
