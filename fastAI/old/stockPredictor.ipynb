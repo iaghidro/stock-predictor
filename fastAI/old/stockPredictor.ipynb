{
 "cells": [
  {
   "cell_type": "markdown",
   "metadata": {},
   "source": [
    "# Structured and time series data"
   ]
  },
  {
   "cell_type": "markdown",
   "metadata": {},
   "source": [
    "\n",
    "\n"
   ]
  },
  {
   "cell_type": "code",
   "execution_count": 1,
   "metadata": {},
   "outputs": [],
   "source": [
    "%matplotlib inline\n",
    "%reload_ext autoreload\n",
    "%autoreload 2"
   ]
  },
  {
   "cell_type": "code",
   "execution_count": 2,
   "metadata": {},
   "outputs": [],
   "source": [
    "from fastai.structured import *\n",
    "from fastai.column_data import *\n",
    "np.set_printoptions(threshold=50, edgeitems=20)\n",
    "\n",
    "PATH='data/stock/'"
   ]
  },
  {
   "cell_type": "markdown",
   "metadata": {
    "collapsed": true,
    "heading_collapsed": true,
    "scrolled": false
   },
   "source": [
    "## Create datasets"
   ]
  },
  {
   "cell_type": "markdown",
   "metadata": {
    "hidden": true
   },
   "source": [
    "preprocess data"
   ]
  },
  {
   "cell_type": "code",
   "execution_count": 3,
   "metadata": {
    "hidden": true
   },
   "outputs": [],
   "source": [
    "def concat_csvs(dirname):\n",
    "    path = f'{PATH}{dirname}'\n",
    "    filenames=glob(f\"{PATH}/*.csv\")\n",
    "\n",
    "    wrote_header = False\n",
    "    with open(f\"{path}.csv\",\"w\") as outputfile:\n",
    "        for filename in filenames:\n",
    "            name = filename.split(\".\")[0]\n",
    "            with open(filename) as f:\n",
    "                line = f.readline()\n",
    "                if not wrote_header:\n",
    "                    wrote_header = True\n",
    "                    outputfile.write(\"file,\"+line)\n",
    "                for line in f:\n",
    "                     outputfile.write(name + \",\" + line)\n",
    "                outputfile.write(\"\\n\")"
   ]
  },
  {
   "cell_type": "code",
   "execution_count": null,
   "metadata": {
    "hidden": true
   },
   "outputs": [],
   "source": []
  },
  {
   "cell_type": "markdown",
   "metadata": {
    "hidden": true
   },
   "source": [
    "Feature Space:\n",
    "* train: Training set provided by competition\n",
    "* googletrend: trend of ethusd\n",
    "* test: testing set"
   ]
  },
  {
   "cell_type": "code",
   "execution_count": 4,
   "metadata": {
    "hidden": true
   },
   "outputs": [
    {
     "data": {
      "text/plain": [
       "'{PATH}{fname}.csv'"
      ]
     },
     "execution_count": 4,
     "metadata": {},
     "output_type": "execute_result"
    }
   ],
   "source": [
    "table_names = ['train']\n",
    "#, 'test'\n",
    "str('{PATH}{fname}.csv')"
   ]
  },
  {
   "cell_type": "markdown",
   "metadata": {
    "hidden": true
   },
   "source": [
    "We'll be using the popular data manipulation framework `pandas`. Among other things, pandas allows you to manipulate tables/data frames in python as one would in a database.\n",
    "\n",
    "We're going to go ahead and load all of our csv's as dataframes into the list `tables`."
   ]
  },
  {
   "cell_type": "code",
   "execution_count": 5,
   "metadata": {
    "hidden": true
   },
   "outputs": [],
   "source": [
    "\n",
    "tables = [pd.read_csv(f'{PATH}{fname}.csv', low_memory=False) for fname in table_names]"
   ]
  },
  {
   "cell_type": "code",
   "execution_count": 6,
   "metadata": {
    "hidden": true
   },
   "outputs": [],
   "source": [
    "from IPython.display import HTML"
   ]
  },
  {
   "cell_type": "markdown",
   "metadata": {
    "hidden": true
   },
   "source": [
    "We can use `head()` to get a quick look at the contents of each table:\n",
    "* train: Contains store information on a daily basis, tracks things like sales, customers, whether that day was a holdiay, etc.\n",
    "* store: general info about the store including competition, etc.\n",
    "* store_states: maps store to state it is in\n",
    "* state_names: Maps state abbreviations to names\n",
    "* googletrend: trend data for particular week/state\n",
    "* weather: weather conditions for each state\n",
    "* test: Same as training table, w/o sales and customers\n"
   ]
  },
  {
   "cell_type": "code",
   "execution_count": 7,
   "metadata": {
    "hidden": true
   },
   "outputs": [
    {
     "data": {
      "text/html": [
       "<div>\n",
       "<style scoped>\n",
       "    .dataframe tbody tr th:only-of-type {\n",
       "        vertical-align: middle;\n",
       "    }\n",
       "\n",
       "    .dataframe tbody tr th {\n",
       "        vertical-align: top;\n",
       "    }\n",
       "\n",
       "    .dataframe thead th {\n",
       "        text-align: right;\n",
       "    }\n",
       "</style>\n",
       "<table border=\"1\" class=\"dataframe\">\n",
       "  <thead>\n",
       "    <tr style=\"text-align: right;\">\n",
       "      <th></th>\n",
       "      <th>timePeriodStart</th>\n",
       "      <th>priceLow</th>\n",
       "      <th>priceHigh</th>\n",
       "      <th>volumeTraded</th>\n",
       "      <th>tradesCount</th>\n",
       "      <th>priceOpen</th>\n",
       "      <th>priceClose</th>\n",
       "      <th>action</th>\n",
       "      <th>year</th>\n",
       "      <th>month</th>\n",
       "      <th>dayOfWeek</th>\n",
       "      <th>hour</th>\n",
       "      <th>minute</th>\n",
       "      <th>second</th>\n",
       "    </tr>\n",
       "  </thead>\n",
       "  <tbody>\n",
       "    <tr>\n",
       "      <th>0</th>\n",
       "      <td>2017-08-05 04:00:00</td>\n",
       "      <td>224.12</td>\n",
       "      <td>226.67</td>\n",
       "      <td>5653.444047</td>\n",
       "      <td>1371</td>\n",
       "      <td>224.71</td>\n",
       "      <td>226.67</td>\n",
       "      <td>BUY</td>\n",
       "      <td>2017</td>\n",
       "      <td>7</td>\n",
       "      <td>6</td>\n",
       "      <td>4</td>\n",
       "      <td>0</td>\n",
       "      <td>0</td>\n",
       "    </tr>\n",
       "    <tr>\n",
       "      <th>1</th>\n",
       "      <td>2017-08-05 04:30:00</td>\n",
       "      <td>226.13</td>\n",
       "      <td>227.99</td>\n",
       "      <td>6549.737615</td>\n",
       "      <td>1079</td>\n",
       "      <td>226.69</td>\n",
       "      <td>227.99</td>\n",
       "      <td>HOLD</td>\n",
       "      <td>2017</td>\n",
       "      <td>7</td>\n",
       "      <td>6</td>\n",
       "      <td>4</td>\n",
       "      <td>30</td>\n",
       "      <td>0</td>\n",
       "    </tr>\n",
       "    <tr>\n",
       "      <th>2</th>\n",
       "      <td>2017-08-05 05:00:00</td>\n",
       "      <td>226.59</td>\n",
       "      <td>228.00</td>\n",
       "      <td>5815.729460</td>\n",
       "      <td>1009</td>\n",
       "      <td>227.99</td>\n",
       "      <td>227.54</td>\n",
       "      <td>BUY</td>\n",
       "      <td>2017</td>\n",
       "      <td>7</td>\n",
       "      <td>6</td>\n",
       "      <td>5</td>\n",
       "      <td>0</td>\n",
       "      <td>0</td>\n",
       "    </tr>\n",
       "    <tr>\n",
       "      <th>3</th>\n",
       "      <td>2017-08-05 05:30:00</td>\n",
       "      <td>226.33</td>\n",
       "      <td>227.99</td>\n",
       "      <td>1847.529597</td>\n",
       "      <td>567</td>\n",
       "      <td>227.54</td>\n",
       "      <td>226.41</td>\n",
       "      <td>BUY</td>\n",
       "      <td>2017</td>\n",
       "      <td>7</td>\n",
       "      <td>6</td>\n",
       "      <td>5</td>\n",
       "      <td>30</td>\n",
       "      <td>0</td>\n",
       "    </tr>\n",
       "    <tr>\n",
       "      <th>4</th>\n",
       "      <td>2017-08-05 06:00:00</td>\n",
       "      <td>226.40</td>\n",
       "      <td>227.80</td>\n",
       "      <td>1944.909268</td>\n",
       "      <td>522</td>\n",
       "      <td>226.41</td>\n",
       "      <td>227.47</td>\n",
       "      <td>BUY</td>\n",
       "      <td>2017</td>\n",
       "      <td>7</td>\n",
       "      <td>6</td>\n",
       "      <td>6</td>\n",
       "      <td>0</td>\n",
       "      <td>0</td>\n",
       "    </tr>\n",
       "  </tbody>\n",
       "</table>\n",
       "</div>"
      ],
      "text/plain": [
       "       timePeriodStart  priceLow  priceHigh  volumeTraded  tradesCount  \\\n",
       "0  2017-08-05 04:00:00    224.12     226.67   5653.444047         1371   \n",
       "1  2017-08-05 04:30:00    226.13     227.99   6549.737615         1079   \n",
       "2  2017-08-05 05:00:00    226.59     228.00   5815.729460         1009   \n",
       "3  2017-08-05 05:30:00    226.33     227.99   1847.529597          567   \n",
       "4  2017-08-05 06:00:00    226.40     227.80   1944.909268          522   \n",
       "\n",
       "   priceOpen  priceClose action  year  month  dayOfWeek  hour  minute  second  \n",
       "0     224.71      226.67    BUY  2017      7          6     4       0       0  \n",
       "1     226.69      227.99   HOLD  2017      7          6     4      30       0  \n",
       "2     227.99      227.54    BUY  2017      7          6     5       0       0  \n",
       "3     227.54      226.41    BUY  2017      7          6     5      30       0  \n",
       "4     226.41      227.47    BUY  2017      7          6     6       0       0  "
      ]
     },
     "metadata": {},
     "output_type": "display_data"
    }
   ],
   "source": [
    "for t in tables: display(t.head())"
   ]
  },
  {
   "cell_type": "markdown",
   "metadata": {
    "hidden": true
   },
   "source": [
    "This is very representative of a typical industry dataset.\n",
    "\n",
    "The following returns summarized aggregate information to each table accross each field."
   ]
  },
  {
   "cell_type": "code",
   "execution_count": 8,
   "metadata": {
    "hidden": true,
    "scrolled": false
   },
   "outputs": [
    {
     "data": {
      "text/html": [
       "<div>\n",
       "<style scoped>\n",
       "    .dataframe tbody tr th:only-of-type {\n",
       "        vertical-align: middle;\n",
       "    }\n",
       "\n",
       "    .dataframe tbody tr th {\n",
       "        vertical-align: top;\n",
       "    }\n",
       "\n",
       "    .dataframe thead th {\n",
       "        text-align: right;\n",
       "    }\n",
       "</style>\n",
       "<table border=\"1\" class=\"dataframe\">\n",
       "  <thead>\n",
       "    <tr style=\"text-align: right;\">\n",
       "      <th></th>\n",
       "      <th>timePeriodStart</th>\n",
       "      <th>priceLow</th>\n",
       "      <th>priceHigh</th>\n",
       "      <th>volumeTraded</th>\n",
       "      <th>tradesCount</th>\n",
       "      <th>priceOpen</th>\n",
       "      <th>priceClose</th>\n",
       "      <th>action</th>\n",
       "      <th>year</th>\n",
       "      <th>month</th>\n",
       "      <th>dayOfWeek</th>\n",
       "      <th>hour</th>\n",
       "      <th>minute</th>\n",
       "      <th>second</th>\n",
       "    </tr>\n",
       "  </thead>\n",
       "  <tbody>\n",
       "    <tr>\n",
       "      <th>count</th>\n",
       "      <td>NaN</td>\n",
       "      <td>11586</td>\n",
       "      <td>11586</td>\n",
       "      <td>11586</td>\n",
       "      <td>11586</td>\n",
       "      <td>11586</td>\n",
       "      <td>11586</td>\n",
       "      <td>NaN</td>\n",
       "      <td>11586</td>\n",
       "      <td>11586</td>\n",
       "      <td>11586</td>\n",
       "      <td>11586</td>\n",
       "      <td>11586</td>\n",
       "      <td>11586</td>\n",
       "    </tr>\n",
       "    <tr>\n",
       "      <th>mean</th>\n",
       "      <td>NaN</td>\n",
       "      <td>556.617</td>\n",
       "      <td>564.339</td>\n",
       "      <td>3872.27</td>\n",
       "      <td>1954.54</td>\n",
       "      <td>560.846</td>\n",
       "      <td>560.856</td>\n",
       "      <td>NaN</td>\n",
       "      <td>2017.38</td>\n",
       "      <td>5.98343</td>\n",
       "      <td>4.00043</td>\n",
       "      <td>11.5095</td>\n",
       "      <td>14.9974</td>\n",
       "      <td>0</td>\n",
       "    </tr>\n",
       "    <tr>\n",
       "      <th>std</th>\n",
       "      <td>NaN</td>\n",
       "      <td>290.939</td>\n",
       "      <td>296.059</td>\n",
       "      <td>5128.63</td>\n",
       "      <td>1892.23</td>\n",
       "      <td>293.635</td>\n",
       "      <td>293.622</td>\n",
       "      <td>NaN</td>\n",
       "      <td>0.486461</td>\n",
       "      <td>4.07734</td>\n",
       "      <td>2.01065</td>\n",
       "      <td>6.91934</td>\n",
       "      <td>15.0006</td>\n",
       "      <td>0</td>\n",
       "    </tr>\n",
       "    <tr>\n",
       "      <th>min</th>\n",
       "      <td>NaN</td>\n",
       "      <td>1.9061</td>\n",
       "      <td>210</td>\n",
       "      <td>8.96028</td>\n",
       "      <td>12</td>\n",
       "      <td>202.86</td>\n",
       "      <td>202.85</td>\n",
       "      <td>NaN</td>\n",
       "      <td>2017</td>\n",
       "      <td>0</td>\n",
       "      <td>1</td>\n",
       "      <td>0</td>\n",
       "      <td>0</td>\n",
       "      <td>0</td>\n",
       "    </tr>\n",
       "    <tr>\n",
       "      <th>25%</th>\n",
       "      <td>NaN</td>\n",
       "      <td>303.01</td>\n",
       "      <td>305.317</td>\n",
       "      <td>1266.96</td>\n",
       "      <td>740</td>\n",
       "      <td>304.322</td>\n",
       "      <td>304.33</td>\n",
       "      <td>NaN</td>\n",
       "      <td>2017</td>\n",
       "      <td>2</td>\n",
       "      <td>2</td>\n",
       "      <td>6</td>\n",
       "      <td>0</td>\n",
       "      <td>0</td>\n",
       "    </tr>\n",
       "    <tr>\n",
       "      <th>50%</th>\n",
       "      <td>NaN</td>\n",
       "      <td>442.755</td>\n",
       "      <td>449.345</td>\n",
       "      <td>2343.84</td>\n",
       "      <td>1251</td>\n",
       "      <td>447.175</td>\n",
       "      <td>447.05</td>\n",
       "      <td>NaN</td>\n",
       "      <td>2017</td>\n",
       "      <td>8</td>\n",
       "      <td>4</td>\n",
       "      <td>12</td>\n",
       "      <td>0</td>\n",
       "      <td>0</td>\n",
       "    </tr>\n",
       "    <tr>\n",
       "      <th>75%</th>\n",
       "      <td>NaN</td>\n",
       "      <td>810.153</td>\n",
       "      <td>824.773</td>\n",
       "      <td>4381.26</td>\n",
       "      <td>2508</td>\n",
       "      <td>818.007</td>\n",
       "      <td>818.085</td>\n",
       "      <td>NaN</td>\n",
       "      <td>2018</td>\n",
       "      <td>10</td>\n",
       "      <td>6</td>\n",
       "      <td>18</td>\n",
       "      <td>30</td>\n",
       "      <td>0</td>\n",
       "    </tr>\n",
       "    <tr>\n",
       "      <th>max</th>\n",
       "      <td>NaN</td>\n",
       "      <td>1400</td>\n",
       "      <td>1419.96</td>\n",
       "      <td>78543.3</td>\n",
       "      <td>22174</td>\n",
       "      <td>1418.74</td>\n",
       "      <td>1418.61</td>\n",
       "      <td>NaN</td>\n",
       "      <td>2018</td>\n",
       "      <td>11</td>\n",
       "      <td>7</td>\n",
       "      <td>23</td>\n",
       "      <td>30</td>\n",
       "      <td>0</td>\n",
       "    </tr>\n",
       "    <tr>\n",
       "      <th>counts</th>\n",
       "      <td>11586</td>\n",
       "      <td>11586</td>\n",
       "      <td>11586</td>\n",
       "      <td>11586</td>\n",
       "      <td>11586</td>\n",
       "      <td>11586</td>\n",
       "      <td>11586</td>\n",
       "      <td>11586</td>\n",
       "      <td>11586</td>\n",
       "      <td>11586</td>\n",
       "      <td>11586</td>\n",
       "      <td>11586</td>\n",
       "      <td>11586</td>\n",
       "      <td>11586</td>\n",
       "    </tr>\n",
       "    <tr>\n",
       "      <th>uniques</th>\n",
       "      <td>11586</td>\n",
       "      <td>8510</td>\n",
       "      <td>8219</td>\n",
       "      <td>11586</td>\n",
       "      <td>4295</td>\n",
       "      <td>9223</td>\n",
       "      <td>9163</td>\n",
       "      <td>2</td>\n",
       "      <td>2</td>\n",
       "      <td>9</td>\n",
       "      <td>7</td>\n",
       "      <td>24</td>\n",
       "      <td>2</td>\n",
       "      <td>1</td>\n",
       "    </tr>\n",
       "    <tr>\n",
       "      <th>missing</th>\n",
       "      <td>0</td>\n",
       "      <td>0</td>\n",
       "      <td>0</td>\n",
       "      <td>0</td>\n",
       "      <td>0</td>\n",
       "      <td>0</td>\n",
       "      <td>0</td>\n",
       "      <td>0</td>\n",
       "      <td>0</td>\n",
       "      <td>0</td>\n",
       "      <td>0</td>\n",
       "      <td>0</td>\n",
       "      <td>0</td>\n",
       "      <td>0</td>\n",
       "    </tr>\n",
       "    <tr>\n",
       "      <th>missing_perc</th>\n",
       "      <td>0%</td>\n",
       "      <td>0%</td>\n",
       "      <td>0%</td>\n",
       "      <td>0%</td>\n",
       "      <td>0%</td>\n",
       "      <td>0%</td>\n",
       "      <td>0%</td>\n",
       "      <td>0%</td>\n",
       "      <td>0%</td>\n",
       "      <td>0%</td>\n",
       "      <td>0%</td>\n",
       "      <td>0%</td>\n",
       "      <td>0%</td>\n",
       "      <td>0%</td>\n",
       "    </tr>\n",
       "    <tr>\n",
       "      <th>types</th>\n",
       "      <td>unique</td>\n",
       "      <td>numeric</td>\n",
       "      <td>numeric</td>\n",
       "      <td>numeric</td>\n",
       "      <td>numeric</td>\n",
       "      <td>numeric</td>\n",
       "      <td>numeric</td>\n",
       "      <td>bool</td>\n",
       "      <td>bool</td>\n",
       "      <td>numeric</td>\n",
       "      <td>numeric</td>\n",
       "      <td>numeric</td>\n",
       "      <td>bool</td>\n",
       "      <td>constant</td>\n",
       "    </tr>\n",
       "  </tbody>\n",
       "</table>\n",
       "</div>"
      ],
      "text/plain": [
       "             timePeriodStart priceLow priceHigh volumeTraded tradesCount  \\\n",
       "count                    NaN    11586     11586        11586       11586   \n",
       "mean                     NaN  556.617   564.339      3872.27     1954.54   \n",
       "std                      NaN  290.939   296.059      5128.63     1892.23   \n",
       "min                      NaN   1.9061       210      8.96028          12   \n",
       "25%                      NaN   303.01   305.317      1266.96         740   \n",
       "50%                      NaN  442.755   449.345      2343.84        1251   \n",
       "75%                      NaN  810.153   824.773      4381.26        2508   \n",
       "max                      NaN     1400   1419.96      78543.3       22174   \n",
       "counts                 11586    11586     11586        11586       11586   \n",
       "uniques                11586     8510      8219        11586        4295   \n",
       "missing                    0        0         0            0           0   \n",
       "missing_perc              0%       0%        0%           0%          0%   \n",
       "types                 unique  numeric   numeric      numeric     numeric   \n",
       "\n",
       "             priceOpen priceClose action      year    month dayOfWeek  \\\n",
       "count            11586      11586    NaN     11586    11586     11586   \n",
       "mean           560.846    560.856    NaN   2017.38  5.98343   4.00043   \n",
       "std            293.635    293.622    NaN  0.486461  4.07734   2.01065   \n",
       "min             202.86     202.85    NaN      2017        0         1   \n",
       "25%            304.322     304.33    NaN      2017        2         2   \n",
       "50%            447.175     447.05    NaN      2017        8         4   \n",
       "75%            818.007    818.085    NaN      2018       10         6   \n",
       "max            1418.74    1418.61    NaN      2018       11         7   \n",
       "counts           11586      11586  11586     11586    11586     11586   \n",
       "uniques           9223       9163      2         2        9         7   \n",
       "missing              0          0      0         0        0         0   \n",
       "missing_perc        0%         0%     0%        0%       0%        0%   \n",
       "types          numeric    numeric   bool      bool  numeric   numeric   \n",
       "\n",
       "                 hour   minute    second  \n",
       "count           11586    11586     11586  \n",
       "mean          11.5095  14.9974         0  \n",
       "std           6.91934  15.0006         0  \n",
       "min                 0        0         0  \n",
       "25%                 6        0         0  \n",
       "50%                12        0         0  \n",
       "75%                18       30         0  \n",
       "max                23       30         0  \n",
       "counts          11586    11586     11586  \n",
       "uniques            24        2         1  \n",
       "missing             0        0         0  \n",
       "missing_perc       0%       0%        0%  \n",
       "types         numeric     bool  constant  "
      ]
     },
     "metadata": {},
     "output_type": "display_data"
    }
   ],
   "source": [
    "for t in tables: display(DataFrameSummary(t).summary())"
   ]
  },
  {
   "cell_type": "markdown",
   "metadata": {},
   "source": [
    "## Data Cleaning / Feature Engineering"
   ]
  },
  {
   "cell_type": "code",
   "execution_count": 9,
   "metadata": {},
   "outputs": [],
   "source": [
    "train = tables[0]"
   ]
  },
  {
   "cell_type": "code",
   "execution_count": 10,
   "metadata": {},
   "outputs": [
    {
     "data": {
      "text/plain": [
       "11586"
      ]
     },
     "execution_count": 10,
     "metadata": {},
     "output_type": "execute_result"
    }
   ],
   "source": [
    "len(train)"
   ]
  },
  {
   "cell_type": "code",
   "execution_count": 11,
   "metadata": {},
   "outputs": [],
   "source": [
    "def join_df(left, right, left_on, right_on=None, suffix='_y'):\n",
    "    if right_on is None: right_on = left_on\n",
    "    return left.merge(right, how='left', left_on=left_on, right_on=right_on, \n",
    "                      suffixes=(\"\", suffix))"
   ]
  },
  {
   "cell_type": "markdown",
   "metadata": {
    "hidden": true
   },
   "source": [
    "delete unused"
   ]
  },
  {
   "cell_type": "code",
   "execution_count": 12,
   "metadata": {},
   "outputs": [],
   "source": [
    "\n",
    "train.drop('second',1,inplace=True)\n",
    "train.drop('minute',1,inplace=True)\n",
    "train.drop('action',1,inplace=True)\n",
    "#train.drop('timePeriodStart',1,inplace=True)\n",
    "\n"
   ]
  },
  {
   "cell_type": "code",
   "execution_count": 13,
   "metadata": {},
   "outputs": [
    {
     "data": {
      "text/html": [
       "<div>\n",
       "<style scoped>\n",
       "    .dataframe tbody tr th:only-of-type {\n",
       "        vertical-align: middle;\n",
       "    }\n",
       "\n",
       "    .dataframe tbody tr th {\n",
       "        vertical-align: top;\n",
       "    }\n",
       "\n",
       "    .dataframe thead th {\n",
       "        text-align: right;\n",
       "    }\n",
       "</style>\n",
       "<table border=\"1\" class=\"dataframe\">\n",
       "  <thead>\n",
       "    <tr style=\"text-align: right;\">\n",
       "      <th></th>\n",
       "      <th>timePeriodStart</th>\n",
       "      <th>priceLow</th>\n",
       "      <th>priceHigh</th>\n",
       "      <th>volumeTraded</th>\n",
       "      <th>tradesCount</th>\n",
       "      <th>priceOpen</th>\n",
       "      <th>priceClose</th>\n",
       "      <th>year</th>\n",
       "      <th>month</th>\n",
       "      <th>dayOfWeek</th>\n",
       "      <th>hour</th>\n",
       "    </tr>\n",
       "  </thead>\n",
       "  <tbody>\n",
       "    <tr>\n",
       "      <th>0</th>\n",
       "      <td>2017-08-05 04:00:00</td>\n",
       "      <td>224.12</td>\n",
       "      <td>226.67</td>\n",
       "      <td>5653.444047</td>\n",
       "      <td>1371</td>\n",
       "      <td>224.71</td>\n",
       "      <td>226.67</td>\n",
       "      <td>2017</td>\n",
       "      <td>7</td>\n",
       "      <td>6</td>\n",
       "      <td>4</td>\n",
       "    </tr>\n",
       "    <tr>\n",
       "      <th>1</th>\n",
       "      <td>2017-08-05 04:30:00</td>\n",
       "      <td>226.13</td>\n",
       "      <td>227.99</td>\n",
       "      <td>6549.737615</td>\n",
       "      <td>1079</td>\n",
       "      <td>226.69</td>\n",
       "      <td>227.99</td>\n",
       "      <td>2017</td>\n",
       "      <td>7</td>\n",
       "      <td>6</td>\n",
       "      <td>4</td>\n",
       "    </tr>\n",
       "    <tr>\n",
       "      <th>2</th>\n",
       "      <td>2017-08-05 05:00:00</td>\n",
       "      <td>226.59</td>\n",
       "      <td>228.00</td>\n",
       "      <td>5815.729460</td>\n",
       "      <td>1009</td>\n",
       "      <td>227.99</td>\n",
       "      <td>227.54</td>\n",
       "      <td>2017</td>\n",
       "      <td>7</td>\n",
       "      <td>6</td>\n",
       "      <td>5</td>\n",
       "    </tr>\n",
       "    <tr>\n",
       "      <th>3</th>\n",
       "      <td>2017-08-05 05:30:00</td>\n",
       "      <td>226.33</td>\n",
       "      <td>227.99</td>\n",
       "      <td>1847.529597</td>\n",
       "      <td>567</td>\n",
       "      <td>227.54</td>\n",
       "      <td>226.41</td>\n",
       "      <td>2017</td>\n",
       "      <td>7</td>\n",
       "      <td>6</td>\n",
       "      <td>5</td>\n",
       "    </tr>\n",
       "    <tr>\n",
       "      <th>4</th>\n",
       "      <td>2017-08-05 06:00:00</td>\n",
       "      <td>226.40</td>\n",
       "      <td>227.80</td>\n",
       "      <td>1944.909268</td>\n",
       "      <td>522</td>\n",
       "      <td>226.41</td>\n",
       "      <td>227.47</td>\n",
       "      <td>2017</td>\n",
       "      <td>7</td>\n",
       "      <td>6</td>\n",
       "      <td>6</td>\n",
       "    </tr>\n",
       "  </tbody>\n",
       "</table>\n",
       "</div>"
      ],
      "text/plain": [
       "       timePeriodStart  priceLow  priceHigh  volumeTraded  tradesCount  \\\n",
       "0  2017-08-05 04:00:00    224.12     226.67   5653.444047         1371   \n",
       "1  2017-08-05 04:30:00    226.13     227.99   6549.737615         1079   \n",
       "2  2017-08-05 05:00:00    226.59     228.00   5815.729460         1009   \n",
       "3  2017-08-05 05:30:00    226.33     227.99   1847.529597          567   \n",
       "4  2017-08-05 06:00:00    226.40     227.80   1944.909268          522   \n",
       "\n",
       "   priceOpen  priceClose  year  month  dayOfWeek  hour  \n",
       "0     224.71      226.67  2017      7          6     4  \n",
       "1     226.69      227.99  2017      7          6     4  \n",
       "2     227.99      227.54  2017      7          6     5  \n",
       "3     227.54      226.41  2017      7          6     5  \n",
       "4     226.41      227.47  2017      7          6     6  "
      ]
     },
     "execution_count": 13,
     "metadata": {},
     "output_type": "execute_result"
    }
   ],
   "source": [
    "df = train\n",
    "df.head()"
   ]
  },
  {
   "cell_type": "markdown",
   "metadata": {},
   "source": [
    "It's usually a good idea to back up large tables of extracted / wrangled features before you join them onto another one, that way you can go back to it easily if you need to make changes to it."
   ]
  },
  {
   "cell_type": "code",
   "execution_count": 14,
   "metadata": {},
   "outputs": [
    {
     "data": {
      "text/plain": [
       "Index(['timePeriodStart', 'priceLow', 'priceHigh', 'volumeTraded',\n",
       "       'tradesCount', 'priceOpen', 'priceClose', 'year', 'month', 'dayOfWeek',\n",
       "       'hour'],\n",
       "      dtype='object')"
      ]
     },
     "execution_count": 14,
     "metadata": {},
     "output_type": "execute_result"
    }
   ],
   "source": [
    "df.columns"
   ]
  },
  {
   "cell_type": "code",
   "execution_count": 15,
   "metadata": {},
   "outputs": [],
   "source": [
    "joined = df #join_df(joined, df, ['timePeriodStart'])"
   ]
  },
  {
   "cell_type": "markdown",
   "metadata": {},
   "source": [
    "## Durations"
   ]
  },
  {
   "cell_type": "markdown",
   "metadata": {},
   "source": [
    "We're going to set the active index to Date."
   ]
  },
  {
   "cell_type": "code",
   "execution_count": 16,
   "metadata": {},
   "outputs": [
    {
     "data": {
      "text/html": [
       "<div>\n",
       "<style scoped>\n",
       "    .dataframe tbody tr th:only-of-type {\n",
       "        vertical-align: middle;\n",
       "    }\n",
       "\n",
       "    .dataframe tbody tr th {\n",
       "        vertical-align: top;\n",
       "    }\n",
       "\n",
       "    .dataframe thead th {\n",
       "        text-align: right;\n",
       "    }\n",
       "</style>\n",
       "<table border=\"1\" class=\"dataframe\">\n",
       "  <thead>\n",
       "    <tr style=\"text-align: right;\">\n",
       "      <th></th>\n",
       "      <th>priceLow</th>\n",
       "      <th>priceHigh</th>\n",
       "      <th>volumeTraded</th>\n",
       "      <th>tradesCount</th>\n",
       "      <th>priceOpen</th>\n",
       "      <th>priceClose</th>\n",
       "      <th>year</th>\n",
       "      <th>month</th>\n",
       "      <th>dayOfWeek</th>\n",
       "      <th>hour</th>\n",
       "    </tr>\n",
       "    <tr>\n",
       "      <th>timePeriodStart</th>\n",
       "      <th></th>\n",
       "      <th></th>\n",
       "      <th></th>\n",
       "      <th></th>\n",
       "      <th></th>\n",
       "      <th></th>\n",
       "      <th></th>\n",
       "      <th></th>\n",
       "      <th></th>\n",
       "      <th></th>\n",
       "    </tr>\n",
       "  </thead>\n",
       "  <tbody>\n",
       "    <tr>\n",
       "      <th>2017-08-05 04:00:00</th>\n",
       "      <td>224.12</td>\n",
       "      <td>226.67</td>\n",
       "      <td>5653.444047</td>\n",
       "      <td>1371</td>\n",
       "      <td>224.71</td>\n",
       "      <td>226.67</td>\n",
       "      <td>2017</td>\n",
       "      <td>7</td>\n",
       "      <td>6</td>\n",
       "      <td>4</td>\n",
       "    </tr>\n",
       "    <tr>\n",
       "      <th>2017-08-05 04:30:00</th>\n",
       "      <td>226.13</td>\n",
       "      <td>227.99</td>\n",
       "      <td>6549.737615</td>\n",
       "      <td>1079</td>\n",
       "      <td>226.69</td>\n",
       "      <td>227.99</td>\n",
       "      <td>2017</td>\n",
       "      <td>7</td>\n",
       "      <td>6</td>\n",
       "      <td>4</td>\n",
       "    </tr>\n",
       "    <tr>\n",
       "      <th>2017-08-05 05:00:00</th>\n",
       "      <td>226.59</td>\n",
       "      <td>228.00</td>\n",
       "      <td>5815.729460</td>\n",
       "      <td>1009</td>\n",
       "      <td>227.99</td>\n",
       "      <td>227.54</td>\n",
       "      <td>2017</td>\n",
       "      <td>7</td>\n",
       "      <td>6</td>\n",
       "      <td>5</td>\n",
       "    </tr>\n",
       "    <tr>\n",
       "      <th>2017-08-05 05:30:00</th>\n",
       "      <td>226.33</td>\n",
       "      <td>227.99</td>\n",
       "      <td>1847.529597</td>\n",
       "      <td>567</td>\n",
       "      <td>227.54</td>\n",
       "      <td>226.41</td>\n",
       "      <td>2017</td>\n",
       "      <td>7</td>\n",
       "      <td>6</td>\n",
       "      <td>5</td>\n",
       "    </tr>\n",
       "    <tr>\n",
       "      <th>2017-08-05 06:00:00</th>\n",
       "      <td>226.40</td>\n",
       "      <td>227.80</td>\n",
       "      <td>1944.909268</td>\n",
       "      <td>522</td>\n",
       "      <td>226.41</td>\n",
       "      <td>227.47</td>\n",
       "      <td>2017</td>\n",
       "      <td>7</td>\n",
       "      <td>6</td>\n",
       "      <td>6</td>\n",
       "    </tr>\n",
       "  </tbody>\n",
       "</table>\n",
       "</div>"
      ],
      "text/plain": [
       "                     priceLow  priceHigh  volumeTraded  tradesCount  \\\n",
       "timePeriodStart                                                       \n",
       "2017-08-05 04:00:00    224.12     226.67   5653.444047         1371   \n",
       "2017-08-05 04:30:00    226.13     227.99   6549.737615         1079   \n",
       "2017-08-05 05:00:00    226.59     228.00   5815.729460         1009   \n",
       "2017-08-05 05:30:00    226.33     227.99   1847.529597          567   \n",
       "2017-08-05 06:00:00    226.40     227.80   1944.909268          522   \n",
       "\n",
       "                     priceOpen  priceClose  year  month  dayOfWeek  hour  \n",
       "timePeriodStart                                                           \n",
       "2017-08-05 04:00:00     224.71      226.67  2017      7          6     4  \n",
       "2017-08-05 04:30:00     226.69      227.99  2017      7          6     4  \n",
       "2017-08-05 05:00:00     227.99      227.54  2017      7          6     5  \n",
       "2017-08-05 05:30:00     227.54      226.41  2017      7          6     5  \n",
       "2017-08-05 06:00:00     226.41      227.47  2017      7          6     6  "
      ]
     },
     "execution_count": 16,
     "metadata": {},
     "output_type": "execute_result"
    }
   ],
   "source": [
    "df = df.set_index(\"timePeriodStart\")\n",
    "df.head()"
   ]
  },
  {
   "cell_type": "markdown",
   "metadata": {},
   "source": [
    "It is common when working with time series data to extract data that explains relationships across rows as opposed to columns, e.g.:\n",
    "* Running averages\n",
    "* Time until next event\n",
    "* Time since last event\n",
    "\n",
    "This is often difficult to do with most table manipulation frameworks, since they are designed to work with relationships across columns. As such, we've created a class to handle this type of data.\n",
    "\n",
    "We'll define a function `get_elapsed` for cumulative counting across a sorted dataframe. Given a particular field `fld` to monitor, this function will start tracking time since the last occurrence of that field. When the field is seen again, the counter is set to zero.\n",
    "\n",
    "Upon initialization, this will result in datetime na's until the field is encountered. This is reset every time a new store is seen. We'll see how to use this shortly."
   ]
  },
  {
   "cell_type": "code",
   "execution_count": 17,
   "metadata": {},
   "outputs": [
    {
     "data": {
      "text/html": [
       "<div>\n",
       "<style scoped>\n",
       "    .dataframe tbody tr th:only-of-type {\n",
       "        vertical-align: middle;\n",
       "    }\n",
       "\n",
       "    .dataframe tbody tr th {\n",
       "        vertical-align: top;\n",
       "    }\n",
       "\n",
       "    .dataframe thead th {\n",
       "        text-align: right;\n",
       "    }\n",
       "</style>\n",
       "<table border=\"1\" class=\"dataframe\">\n",
       "  <thead>\n",
       "    <tr style=\"text-align: right;\">\n",
       "      <th></th>\n",
       "      <th>timePeriodStart</th>\n",
       "      <th>priceLow</th>\n",
       "      <th>priceHigh</th>\n",
       "      <th>volumeTraded</th>\n",
       "      <th>tradesCount</th>\n",
       "      <th>priceOpen</th>\n",
       "      <th>priceClose</th>\n",
       "      <th>year</th>\n",
       "      <th>month</th>\n",
       "      <th>dayOfWeek</th>\n",
       "      <th>hour</th>\n",
       "    </tr>\n",
       "  </thead>\n",
       "  <tbody>\n",
       "    <tr>\n",
       "      <th>0</th>\n",
       "      <td>2017-08-05 04:00:00</td>\n",
       "      <td>224.12</td>\n",
       "      <td>226.67</td>\n",
       "      <td>5653.444047</td>\n",
       "      <td>1371</td>\n",
       "      <td>224.71</td>\n",
       "      <td>226.67</td>\n",
       "      <td>2017</td>\n",
       "      <td>7</td>\n",
       "      <td>6</td>\n",
       "      <td>4</td>\n",
       "    </tr>\n",
       "    <tr>\n",
       "      <th>1</th>\n",
       "      <td>2017-08-05 04:30:00</td>\n",
       "      <td>226.13</td>\n",
       "      <td>227.99</td>\n",
       "      <td>6549.737615</td>\n",
       "      <td>1079</td>\n",
       "      <td>226.69</td>\n",
       "      <td>227.99</td>\n",
       "      <td>2017</td>\n",
       "      <td>7</td>\n",
       "      <td>6</td>\n",
       "      <td>4</td>\n",
       "    </tr>\n",
       "    <tr>\n",
       "      <th>2</th>\n",
       "      <td>2017-08-05 05:00:00</td>\n",
       "      <td>226.59</td>\n",
       "      <td>228.00</td>\n",
       "      <td>5815.729460</td>\n",
       "      <td>1009</td>\n",
       "      <td>227.99</td>\n",
       "      <td>227.54</td>\n",
       "      <td>2017</td>\n",
       "      <td>7</td>\n",
       "      <td>6</td>\n",
       "      <td>5</td>\n",
       "    </tr>\n",
       "    <tr>\n",
       "      <th>3</th>\n",
       "      <td>2017-08-05 05:30:00</td>\n",
       "      <td>226.33</td>\n",
       "      <td>227.99</td>\n",
       "      <td>1847.529597</td>\n",
       "      <td>567</td>\n",
       "      <td>227.54</td>\n",
       "      <td>226.41</td>\n",
       "      <td>2017</td>\n",
       "      <td>7</td>\n",
       "      <td>6</td>\n",
       "      <td>5</td>\n",
       "    </tr>\n",
       "    <tr>\n",
       "      <th>4</th>\n",
       "      <td>2017-08-05 06:00:00</td>\n",
       "      <td>226.40</td>\n",
       "      <td>227.80</td>\n",
       "      <td>1944.909268</td>\n",
       "      <td>522</td>\n",
       "      <td>226.41</td>\n",
       "      <td>227.47</td>\n",
       "      <td>2017</td>\n",
       "      <td>7</td>\n",
       "      <td>6</td>\n",
       "      <td>6</td>\n",
       "    </tr>\n",
       "  </tbody>\n",
       "</table>\n",
       "</div>"
      ],
      "text/plain": [
       "       timePeriodStart  priceLow  priceHigh  volumeTraded  tradesCount  \\\n",
       "0  2017-08-05 04:00:00    224.12     226.67   5653.444047         1371   \n",
       "1  2017-08-05 04:30:00    226.13     227.99   6549.737615         1079   \n",
       "2  2017-08-05 05:00:00    226.59     228.00   5815.729460         1009   \n",
       "3  2017-08-05 05:30:00    226.33     227.99   1847.529597          567   \n",
       "4  2017-08-05 06:00:00    226.40     227.80   1944.909268          522   \n",
       "\n",
       "   priceOpen  priceClose  year  month  dayOfWeek  hour  \n",
       "0     224.71      226.67  2017      7          6     4  \n",
       "1     226.69      227.99  2017      7          6     4  \n",
       "2     227.99      227.54  2017      7          6     5  \n",
       "3     227.54      226.41  2017      7          6     5  \n",
       "4     226.41      227.47  2017      7          6     6  "
      ]
     },
     "execution_count": 17,
     "metadata": {},
     "output_type": "execute_result"
    }
   ],
   "source": [
    "df.reset_index(inplace=True)\n",
    "#joined_test.reset_index(inplace=True)\n",
    "df.head()"
   ]
  },
  {
   "cell_type": "code",
   "execution_count": 18,
   "metadata": {},
   "outputs": [],
   "source": [
    "#convert to date objects\n",
    "df[\"timePeriodStart\"] = pd.to_datetime(df.timePeriodStart)"
   ]
  },
  {
   "cell_type": "code",
   "execution_count": 19,
   "metadata": {},
   "outputs": [
    {
     "data": {
      "text/plain": [
       "Index(['timePeriodStart', 'priceLow', 'priceHigh', 'volumeTraded',\n",
       "       'tradesCount', 'priceOpen', 'priceClose', 'year', 'month', 'dayOfWeek',\n",
       "       'hour'],\n",
       "      dtype='object')"
      ]
     },
     "execution_count": 19,
     "metadata": {},
     "output_type": "execute_result"
    }
   ],
   "source": [
    "df.columns"
   ]
  },
  {
   "cell_type": "markdown",
   "metadata": {},
   "source": [
    "remove all 0 values "
   ]
  },
  {
   "cell_type": "code",
   "execution_count": 20,
   "metadata": {},
   "outputs": [],
   "source": [
    "joined = joined[joined.priceClose!=0]"
   ]
  },
  {
   "cell_type": "code",
   "execution_count": 21,
   "metadata": {},
   "outputs": [],
   "source": [
    "joined.reset_index(inplace=True)"
   ]
  },
  {
   "cell_type": "markdown",
   "metadata": {},
   "source": [
    "## Create features\n"
   ]
  },
  {
   "cell_type": "markdown",
   "metadata": {
    "hidden": true
   },
   "source": [
    "Delete unused"
   ]
  },
  {
   "cell_type": "code",
   "execution_count": 22,
   "metadata": {},
   "outputs": [
    {
     "data": {
      "text/html": [
       "<div>\n",
       "<style scoped>\n",
       "    .dataframe tbody tr th:only-of-type {\n",
       "        vertical-align: middle;\n",
       "    }\n",
       "\n",
       "    .dataframe tbody tr th {\n",
       "        vertical-align: top;\n",
       "    }\n",
       "\n",
       "    .dataframe thead th {\n",
       "        text-align: right;\n",
       "    }\n",
       "</style>\n",
       "<table border=\"1\" class=\"dataframe\">\n",
       "  <thead>\n",
       "    <tr style=\"text-align: right;\">\n",
       "      <th></th>\n",
       "      <th>0</th>\n",
       "      <th>1</th>\n",
       "      <th>2</th>\n",
       "      <th>3</th>\n",
       "      <th>4</th>\n",
       "    </tr>\n",
       "  </thead>\n",
       "  <tbody>\n",
       "    <tr>\n",
       "      <th>index</th>\n",
       "      <td>0</td>\n",
       "      <td>1</td>\n",
       "      <td>2</td>\n",
       "      <td>3</td>\n",
       "      <td>4</td>\n",
       "    </tr>\n",
       "    <tr>\n",
       "      <th>timePeriodStart</th>\n",
       "      <td>2017-08-05 04:00:00</td>\n",
       "      <td>2017-08-05 04:30:00</td>\n",
       "      <td>2017-08-05 05:00:00</td>\n",
       "      <td>2017-08-05 05:30:00</td>\n",
       "      <td>2017-08-05 06:00:00</td>\n",
       "    </tr>\n",
       "    <tr>\n",
       "      <th>priceLow</th>\n",
       "      <td>224.12</td>\n",
       "      <td>226.13</td>\n",
       "      <td>226.59</td>\n",
       "      <td>226.33</td>\n",
       "      <td>226.4</td>\n",
       "    </tr>\n",
       "    <tr>\n",
       "      <th>priceHigh</th>\n",
       "      <td>226.67</td>\n",
       "      <td>227.99</td>\n",
       "      <td>228</td>\n",
       "      <td>227.99</td>\n",
       "      <td>227.8</td>\n",
       "    </tr>\n",
       "    <tr>\n",
       "      <th>volumeTraded</th>\n",
       "      <td>5653.44</td>\n",
       "      <td>6549.74</td>\n",
       "      <td>5815.73</td>\n",
       "      <td>1847.53</td>\n",
       "      <td>1944.91</td>\n",
       "    </tr>\n",
       "    <tr>\n",
       "      <th>tradesCount</th>\n",
       "      <td>1371</td>\n",
       "      <td>1079</td>\n",
       "      <td>1009</td>\n",
       "      <td>567</td>\n",
       "      <td>522</td>\n",
       "    </tr>\n",
       "    <tr>\n",
       "      <th>priceOpen</th>\n",
       "      <td>224.71</td>\n",
       "      <td>226.69</td>\n",
       "      <td>227.99</td>\n",
       "      <td>227.54</td>\n",
       "      <td>226.41</td>\n",
       "    </tr>\n",
       "    <tr>\n",
       "      <th>priceClose</th>\n",
       "      <td>226.67</td>\n",
       "      <td>227.99</td>\n",
       "      <td>227.54</td>\n",
       "      <td>226.41</td>\n",
       "      <td>227.47</td>\n",
       "    </tr>\n",
       "    <tr>\n",
       "      <th>year</th>\n",
       "      <td>2017</td>\n",
       "      <td>2017</td>\n",
       "      <td>2017</td>\n",
       "      <td>2017</td>\n",
       "      <td>2017</td>\n",
       "    </tr>\n",
       "    <tr>\n",
       "      <th>month</th>\n",
       "      <td>7</td>\n",
       "      <td>7</td>\n",
       "      <td>7</td>\n",
       "      <td>7</td>\n",
       "      <td>7</td>\n",
       "    </tr>\n",
       "    <tr>\n",
       "      <th>dayOfWeek</th>\n",
       "      <td>6</td>\n",
       "      <td>6</td>\n",
       "      <td>6</td>\n",
       "      <td>6</td>\n",
       "      <td>6</td>\n",
       "    </tr>\n",
       "    <tr>\n",
       "      <th>hour</th>\n",
       "      <td>4</td>\n",
       "      <td>4</td>\n",
       "      <td>5</td>\n",
       "      <td>5</td>\n",
       "      <td>6</td>\n",
       "    </tr>\n",
       "  </tbody>\n",
       "</table>\n",
       "</div>"
      ],
      "text/plain": [
       "                                   0                    1  \\\n",
       "index                              0                    1   \n",
       "timePeriodStart  2017-08-05 04:00:00  2017-08-05 04:30:00   \n",
       "priceLow                      224.12               226.13   \n",
       "priceHigh                     226.67               227.99   \n",
       "volumeTraded                 5653.44              6549.74   \n",
       "tradesCount                     1371                 1079   \n",
       "priceOpen                     224.71               226.69   \n",
       "priceClose                    226.67               227.99   \n",
       "year                            2017                 2017   \n",
       "month                              7                    7   \n",
       "dayOfWeek                          6                    6   \n",
       "hour                               4                    4   \n",
       "\n",
       "                                   2                    3                    4  \n",
       "index                              2                    3                    4  \n",
       "timePeriodStart  2017-08-05 05:00:00  2017-08-05 05:30:00  2017-08-05 06:00:00  \n",
       "priceLow                      226.59               226.33                226.4  \n",
       "priceHigh                        228               227.99                227.8  \n",
       "volumeTraded                 5815.73              1847.53              1944.91  \n",
       "tradesCount                     1009                  567                  522  \n",
       "priceOpen                     227.99               227.54               226.41  \n",
       "priceClose                    227.54               226.41               227.47  \n",
       "year                            2017                 2017                 2017  \n",
       "month                              7                    7                    7  \n",
       "dayOfWeek                          6                    6                    6  \n",
       "hour                               5                    5                    6  "
      ]
     },
     "execution_count": 22,
     "metadata": {},
     "output_type": "execute_result"
    }
   ],
   "source": [
    "joined.head().T.head(40)"
   ]
  },
  {
   "cell_type": "markdown",
   "metadata": {
    "hidden": true
   },
   "source": [
    "Now that we've engineered all our features, we need to convert to input compatible with a neural network.\n",
    "\n",
    "This includes converting categorical variables into contiguous integers or one-hot encodings, normalizing continuous features to standard normal, etc..."
   ]
  },
  {
   "cell_type": "code",
   "execution_count": 23,
   "metadata": {
    "scrolled": true
   },
   "outputs": [
    {
     "data": {
      "text/plain": [
       "11586"
      ]
     },
     "execution_count": 23,
     "metadata": {},
     "output_type": "execute_result"
    }
   ],
   "source": [
    "cat_vars = ['hour', 'dayOfWeek', 'month', 'year']\n",
    "\n",
    "contin_vars = ['priceOpen', 'tradesCount', 'volumeTraded', 'priceHigh', 'priceLow']\n",
    "\n",
    "n = len(joined); n"
   ]
  },
  {
   "cell_type": "code",
   "execution_count": 24,
   "metadata": {},
   "outputs": [],
   "source": [
    "dep = 'priceClose'\n",
    "joined = joined[cat_vars+contin_vars+[dep, 'timePeriodStart']].copy()\n"
   ]
  },
  {
   "cell_type": "code",
   "execution_count": 25,
   "metadata": {},
   "outputs": [],
   "source": [
    "#joined_test = joined[cat_vars+contin_vars+[dep, 'timePeriodStart']].copy()\n"
   ]
  },
  {
   "cell_type": "code",
   "execution_count": 26,
   "metadata": {
    "scrolled": true
   },
   "outputs": [],
   "source": [
    "for v in cat_vars: joined[v] = joined[v].astype('category').cat.as_ordered()\n"
   ]
  },
  {
   "cell_type": "code",
   "execution_count": 27,
   "metadata": {},
   "outputs": [],
   "source": [
    "#apply_cats(joined_test, joined)"
   ]
  },
  {
   "cell_type": "code",
   "execution_count": 28,
   "metadata": {},
   "outputs": [],
   "source": [
    "for v in contin_vars:\n",
    "    joined[v] = joined[v].fillna(0).astype('float32')\n",
    "    #joined_test[v] = joined_test[v].fillna(0).astype('float32')"
   ]
  },
  {
   "cell_type": "markdown",
   "metadata": {
    "hidden": true
   },
   "source": [
    "To run on the full dataset, use this instead:"
   ]
  },
  {
   "cell_type": "code",
   "execution_count": 29,
   "metadata": {
    "hidden": true
   },
   "outputs": [],
   "source": [
    "samp_size = n\n",
    "joined_samp = joined.set_index(\"timePeriodStart\")"
   ]
  },
  {
   "cell_type": "code",
   "execution_count": 30,
   "metadata": {},
   "outputs": [
    {
     "data": {
      "text/html": [
       "<div>\n",
       "<style scoped>\n",
       "    .dataframe tbody tr th:only-of-type {\n",
       "        vertical-align: middle;\n",
       "    }\n",
       "\n",
       "    .dataframe tbody tr th {\n",
       "        vertical-align: top;\n",
       "    }\n",
       "\n",
       "    .dataframe thead th {\n",
       "        text-align: right;\n",
       "    }\n",
       "</style>\n",
       "<table border=\"1\" class=\"dataframe\">\n",
       "  <thead>\n",
       "    <tr style=\"text-align: right;\">\n",
       "      <th></th>\n",
       "      <th>hour</th>\n",
       "      <th>dayOfWeek</th>\n",
       "      <th>month</th>\n",
       "      <th>year</th>\n",
       "      <th>priceOpen</th>\n",
       "      <th>tradesCount</th>\n",
       "      <th>volumeTraded</th>\n",
       "      <th>priceHigh</th>\n",
       "      <th>priceLow</th>\n",
       "      <th>priceClose</th>\n",
       "    </tr>\n",
       "    <tr>\n",
       "      <th>timePeriodStart</th>\n",
       "      <th></th>\n",
       "      <th></th>\n",
       "      <th></th>\n",
       "      <th></th>\n",
       "      <th></th>\n",
       "      <th></th>\n",
       "      <th></th>\n",
       "      <th></th>\n",
       "      <th></th>\n",
       "      <th></th>\n",
       "    </tr>\n",
       "  </thead>\n",
       "  <tbody>\n",
       "    <tr>\n",
       "      <th>2017-08-05 04:00:00</th>\n",
       "      <td>4</td>\n",
       "      <td>6</td>\n",
       "      <td>7</td>\n",
       "      <td>2017</td>\n",
       "      <td>224.710007</td>\n",
       "      <td>1371.0</td>\n",
       "      <td>5653.443848</td>\n",
       "      <td>226.669998</td>\n",
       "      <td>224.119995</td>\n",
       "      <td>226.67</td>\n",
       "    </tr>\n",
       "    <tr>\n",
       "      <th>2017-08-05 04:30:00</th>\n",
       "      <td>4</td>\n",
       "      <td>6</td>\n",
       "      <td>7</td>\n",
       "      <td>2017</td>\n",
       "      <td>226.690002</td>\n",
       "      <td>1079.0</td>\n",
       "      <td>6549.737793</td>\n",
       "      <td>227.990005</td>\n",
       "      <td>226.130005</td>\n",
       "      <td>227.99</td>\n",
       "    </tr>\n",
       "  </tbody>\n",
       "</table>\n",
       "</div>"
      ],
      "text/plain": [
       "                    hour dayOfWeek month  year   priceOpen  tradesCount  \\\n",
       "timePeriodStart                                                           \n",
       "2017-08-05 04:00:00    4         6     7  2017  224.710007       1371.0   \n",
       "2017-08-05 04:30:00    4         6     7  2017  226.690002       1079.0   \n",
       "\n",
       "                     volumeTraded   priceHigh    priceLow  priceClose  \n",
       "timePeriodStart                                                        \n",
       "2017-08-05 04:00:00   5653.443848  226.669998  224.119995      226.67  \n",
       "2017-08-05 04:30:00   6549.737793  227.990005  226.130005      227.99  "
      ]
     },
     "execution_count": 30,
     "metadata": {},
     "output_type": "execute_result"
    }
   ],
   "source": [
    "joined_samp.head(2)"
   ]
  },
  {
   "cell_type": "code",
   "execution_count": 31,
   "metadata": {},
   "outputs": [],
   "source": [
    "df, y, nas, mapper = proc_df(joined_samp, 'priceClose', do_scale=True)\n",
    "yl = np.log(y)"
   ]
  },
  {
   "cell_type": "code",
   "execution_count": 32,
   "metadata": {
    "hidden": true
   },
   "outputs": [],
   "source": [
    "#joined_test = joined_test.set_index(\"timePeriodStart\")"
   ]
  },
  {
   "cell_type": "code",
   "execution_count": 33,
   "metadata": {
    "hidden": true
   },
   "outputs": [],
   "source": [
    "#df_test, _, nas, mapper = proc_df(joined_test, 'priceClose', do_scale=True, skip_flds=['Id'],\n",
    " #                                mapper=mapper, na_dict=nas)"
   ]
  },
  {
   "cell_type": "code",
   "execution_count": 34,
   "metadata": {
    "hidden": true
   },
   "outputs": [
    {
     "data": {
      "text/html": [
       "<div>\n",
       "<style scoped>\n",
       "    .dataframe tbody tr th:only-of-type {\n",
       "        vertical-align: middle;\n",
       "    }\n",
       "\n",
       "    .dataframe tbody tr th {\n",
       "        vertical-align: top;\n",
       "    }\n",
       "\n",
       "    .dataframe thead th {\n",
       "        text-align: right;\n",
       "    }\n",
       "</style>\n",
       "<table border=\"1\" class=\"dataframe\">\n",
       "  <thead>\n",
       "    <tr style=\"text-align: right;\">\n",
       "      <th></th>\n",
       "      <th>hour</th>\n",
       "      <th>dayOfWeek</th>\n",
       "      <th>month</th>\n",
       "      <th>year</th>\n",
       "      <th>priceOpen</th>\n",
       "      <th>tradesCount</th>\n",
       "      <th>volumeTraded</th>\n",
       "      <th>priceHigh</th>\n",
       "      <th>priceLow</th>\n",
       "    </tr>\n",
       "    <tr>\n",
       "      <th>timePeriodStart</th>\n",
       "      <th></th>\n",
       "      <th></th>\n",
       "      <th></th>\n",
       "      <th></th>\n",
       "      <th></th>\n",
       "      <th></th>\n",
       "      <th></th>\n",
       "      <th></th>\n",
       "      <th></th>\n",
       "    </tr>\n",
       "  </thead>\n",
       "  <tbody>\n",
       "    <tr>\n",
       "      <th>2017-08-05 04:00:00</th>\n",
       "      <td>5</td>\n",
       "      <td>6</td>\n",
       "      <td>5</td>\n",
       "      <td>1</td>\n",
       "      <td>-1.144792</td>\n",
       "      <td>-0.308403</td>\n",
       "      <td>0.347315</td>\n",
       "      <td>-1.140594</td>\n",
       "      <td>-1.142891</td>\n",
       "    </tr>\n",
       "    <tr>\n",
       "      <th>2017-08-05 04:30:00</th>\n",
       "      <td>5</td>\n",
       "      <td>6</td>\n",
       "      <td>5</td>\n",
       "      <td>1</td>\n",
       "      <td>-1.138049</td>\n",
       "      <td>-0.462725</td>\n",
       "      <td>0.522086</td>\n",
       "      <td>-1.136135</td>\n",
       "      <td>-1.135982</td>\n",
       "    </tr>\n",
       "    <tr>\n",
       "      <th>2017-08-05 05:00:00</th>\n",
       "      <td>6</td>\n",
       "      <td>6</td>\n",
       "      <td>5</td>\n",
       "      <td>1</td>\n",
       "      <td>-1.133621</td>\n",
       "      <td>-0.499720</td>\n",
       "      <td>0.378960</td>\n",
       "      <td>-1.136102</td>\n",
       "      <td>-1.134401</td>\n",
       "    </tr>\n",
       "    <tr>\n",
       "      <th>2017-08-05 05:30:00</th>\n",
       "      <td>6</td>\n",
       "      <td>6</td>\n",
       "      <td>5</td>\n",
       "      <td>1</td>\n",
       "      <td>-1.135154</td>\n",
       "      <td>-0.733317</td>\n",
       "      <td>-0.394809</td>\n",
       "      <td>-1.136135</td>\n",
       "      <td>-1.135294</td>\n",
       "    </tr>\n",
       "    <tr>\n",
       "      <th>2017-08-05 06:00:00</th>\n",
       "      <td>7</td>\n",
       "      <td>6</td>\n",
       "      <td>5</td>\n",
       "      <td>1</td>\n",
       "      <td>-1.139002</td>\n",
       "      <td>-0.757099</td>\n",
       "      <td>-0.375821</td>\n",
       "      <td>-1.136777</td>\n",
       "      <td>-1.135054</td>\n",
       "    </tr>\n",
       "  </tbody>\n",
       "</table>\n",
       "</div>"
      ],
      "text/plain": [
       "                     hour  dayOfWeek  month  year  priceOpen  tradesCount  \\\n",
       "timePeriodStart                                                             \n",
       "2017-08-05 04:00:00     5          6      5     1  -1.144792    -0.308403   \n",
       "2017-08-05 04:30:00     5          6      5     1  -1.138049    -0.462725   \n",
       "2017-08-05 05:00:00     6          6      5     1  -1.133621    -0.499720   \n",
       "2017-08-05 05:30:00     6          6      5     1  -1.135154    -0.733317   \n",
       "2017-08-05 06:00:00     7          6      5     1  -1.139002    -0.757099   \n",
       "\n",
       "                     volumeTraded  priceHigh  priceLow  \n",
       "timePeriodStart                                         \n",
       "2017-08-05 04:00:00      0.347315  -1.140594 -1.142891  \n",
       "2017-08-05 04:30:00      0.522086  -1.136135 -1.135982  \n",
       "2017-08-05 05:00:00      0.378960  -1.136102 -1.134401  \n",
       "2017-08-05 05:30:00     -0.394809  -1.136135 -1.135294  \n",
       "2017-08-05 06:00:00     -0.375821  -1.136777 -1.135054  "
      ]
     },
     "execution_count": 34,
     "metadata": {},
     "output_type": "execute_result"
    }
   ],
   "source": [
    "df.head()"
   ]
  },
  {
   "cell_type": "markdown",
   "metadata": {
    "hidden": true
   },
   "source": [
    "In time series data, cross-validation is not random. Instead, our holdout data is generally the most recent data, as it would be in real application. This issue is discussed in detail in [this post](http://www.fast.ai/2017/11/13/validation-sets/) on our web site.\n",
    "\n",
    "One approach is to take the last 25% of rows (sorted by date) as our validation set.\n",
    "\n",
    "An even better option for picking a validation set is using the exact same length of time period as the test set uses - this is implemented here:"
   ]
  },
  {
   "cell_type": "code",
   "execution_count": 35,
   "metadata": {
    "hidden": true
   },
   "outputs": [],
   "source": [
    "train_ratio = 0.75\n",
    "# train_ratio = 0.9\n",
    "train_size = int(samp_size * train_ratio); train_size\n",
    "val_idx = list(range(train_size, len(df)))"
   ]
  },
  {
   "cell_type": "code",
   "execution_count": 36,
   "metadata": {},
   "outputs": [],
   "source": [
    "# TODO: SHOULD NOT HAVE TO DO THIS\n",
    "# CONVERT INDEX TO DATETIME\n",
    "df.index = pd.to_datetime(df.index)"
   ]
  },
  {
   "cell_type": "markdown",
   "metadata": {
    "hidden": true
   },
   "source": [
    "An even better option for picking a validation set is using the exact same length of time period as the test set uses - this is implemented here:"
   ]
  },
  {
   "cell_type": "code",
   "execution_count": 37,
   "metadata": {
    "hidden": true
   },
   "outputs": [],
   "source": [
    "#2018-04-03T23:53:00.726Z\n",
    "val_idx = np.flatnonzero(\n",
    "    (df.index<=datetime.datetime(2018,4,3)) & (df.index>=datetime.datetime(2018,3,1)))\n"
   ]
  },
  {
   "cell_type": "code",
   "execution_count": 38,
   "metadata": {
    "hidden": true
   },
   "outputs": [],
   "source": [
    "val_idx=[0]"
   ]
  },
  {
   "cell_type": "code",
   "execution_count": 39,
   "metadata": {},
   "outputs": [
    {
     "data": {
      "text/html": [
       "<div>\n",
       "<style scoped>\n",
       "    .dataframe tbody tr th:only-of-type {\n",
       "        vertical-align: middle;\n",
       "    }\n",
       "\n",
       "    .dataframe tbody tr th {\n",
       "        vertical-align: top;\n",
       "    }\n",
       "\n",
       "    .dataframe thead th {\n",
       "        text-align: right;\n",
       "    }\n",
       "</style>\n",
       "<table border=\"1\" class=\"dataframe\">\n",
       "  <thead>\n",
       "    <tr style=\"text-align: right;\">\n",
       "      <th>timePeriodStart</th>\n",
       "      <th>2017-08-05 04:00:00</th>\n",
       "      <th>2017-08-05 04:30:00</th>\n",
       "      <th>2017-08-05 05:00:00</th>\n",
       "      <th>2017-08-05 05:30:00</th>\n",
       "      <th>2017-08-05 06:00:00</th>\n",
       "    </tr>\n",
       "  </thead>\n",
       "  <tbody>\n",
       "    <tr>\n",
       "      <th>hour</th>\n",
       "      <td>5.000000</td>\n",
       "      <td>5.000000</td>\n",
       "      <td>6.000000</td>\n",
       "      <td>6.000000</td>\n",
       "      <td>7.000000</td>\n",
       "    </tr>\n",
       "    <tr>\n",
       "      <th>dayOfWeek</th>\n",
       "      <td>6.000000</td>\n",
       "      <td>6.000000</td>\n",
       "      <td>6.000000</td>\n",
       "      <td>6.000000</td>\n",
       "      <td>6.000000</td>\n",
       "    </tr>\n",
       "    <tr>\n",
       "      <th>month</th>\n",
       "      <td>5.000000</td>\n",
       "      <td>5.000000</td>\n",
       "      <td>5.000000</td>\n",
       "      <td>5.000000</td>\n",
       "      <td>5.000000</td>\n",
       "    </tr>\n",
       "    <tr>\n",
       "      <th>year</th>\n",
       "      <td>1.000000</td>\n",
       "      <td>1.000000</td>\n",
       "      <td>1.000000</td>\n",
       "      <td>1.000000</td>\n",
       "      <td>1.000000</td>\n",
       "    </tr>\n",
       "    <tr>\n",
       "      <th>priceOpen</th>\n",
       "      <td>-1.144792</td>\n",
       "      <td>-1.138049</td>\n",
       "      <td>-1.133621</td>\n",
       "      <td>-1.135154</td>\n",
       "      <td>-1.139002</td>\n",
       "    </tr>\n",
       "    <tr>\n",
       "      <th>tradesCount</th>\n",
       "      <td>-0.308403</td>\n",
       "      <td>-0.462725</td>\n",
       "      <td>-0.499720</td>\n",
       "      <td>-0.733317</td>\n",
       "      <td>-0.757099</td>\n",
       "    </tr>\n",
       "    <tr>\n",
       "      <th>volumeTraded</th>\n",
       "      <td>0.347315</td>\n",
       "      <td>0.522086</td>\n",
       "      <td>0.378960</td>\n",
       "      <td>-0.394809</td>\n",
       "      <td>-0.375821</td>\n",
       "    </tr>\n",
       "    <tr>\n",
       "      <th>priceHigh</th>\n",
       "      <td>-1.140594</td>\n",
       "      <td>-1.136135</td>\n",
       "      <td>-1.136102</td>\n",
       "      <td>-1.136135</td>\n",
       "      <td>-1.136777</td>\n",
       "    </tr>\n",
       "    <tr>\n",
       "      <th>priceLow</th>\n",
       "      <td>-1.142891</td>\n",
       "      <td>-1.135982</td>\n",
       "      <td>-1.134401</td>\n",
       "      <td>-1.135294</td>\n",
       "      <td>-1.135054</td>\n",
       "    </tr>\n",
       "  </tbody>\n",
       "</table>\n",
       "</div>"
      ],
      "text/plain": [
       "timePeriodStart  2017-08-05 04:00:00  2017-08-05 04:30:00  \\\n",
       "hour                        5.000000             5.000000   \n",
       "dayOfWeek                   6.000000             6.000000   \n",
       "month                       5.000000             5.000000   \n",
       "year                        1.000000             1.000000   \n",
       "priceOpen                  -1.144792            -1.138049   \n",
       "tradesCount                -0.308403            -0.462725   \n",
       "volumeTraded                0.347315             0.522086   \n",
       "priceHigh                  -1.140594            -1.136135   \n",
       "priceLow                   -1.142891            -1.135982   \n",
       "\n",
       "timePeriodStart  2017-08-05 05:00:00  2017-08-05 05:30:00  2017-08-05 06:00:00  \n",
       "hour                        6.000000             6.000000             7.000000  \n",
       "dayOfWeek                   6.000000             6.000000             6.000000  \n",
       "month                       5.000000             5.000000             5.000000  \n",
       "year                        1.000000             1.000000             1.000000  \n",
       "priceOpen                  -1.133621            -1.135154            -1.139002  \n",
       "tradesCount                -0.499720            -0.733317            -0.757099  \n",
       "volumeTraded                0.378960            -0.394809            -0.375821  \n",
       "priceHigh                  -1.136102            -1.136135            -1.136777  \n",
       "priceLow                   -1.134401            -1.135294            -1.135054  "
      ]
     },
     "execution_count": 39,
     "metadata": {},
     "output_type": "execute_result"
    }
   ],
   "source": [
    "df.head().T.head(40)\n",
    "# df.index[0]"
   ]
  },
  {
   "cell_type": "markdown",
   "metadata": {},
   "source": [
    "## DL"
   ]
  },
  {
   "cell_type": "markdown",
   "metadata": {},
   "source": [
    "We're ready to put together our models.\n",
    "\n",
    "Root-mean-squared percent error is the metric Kaggle used for this competition."
   ]
  },
  {
   "cell_type": "code",
   "execution_count": 40,
   "metadata": {},
   "outputs": [],
   "source": [
    "def inv_y(a): return np.exp(a)\n",
    "\n",
    "def exp_rmspe(y_pred, targ):\n",
    "    targ = inv_y(targ)\n",
    "    pct_var = (targ - inv_y(y_pred))/targ\n",
    "    return math.sqrt((pct_var**2).mean())\n",
    "\n",
    "max_log_y = np.max(yl)\n",
    "y_range = (0, max_log_y*1.2)"
   ]
  },
  {
   "cell_type": "markdown",
   "metadata": {},
   "source": [
    "We can create a ModelData object directly from out data frame."
   ]
  },
  {
   "cell_type": "code",
   "execution_count": null,
   "metadata": {},
   "outputs": [],
   "source": []
  },
  {
   "cell_type": "code",
   "execution_count": 41,
   "metadata": {},
   "outputs": [],
   "source": [
    "md = ColumnarModelData.from_data_frame(PATH, val_idx, df, yl.astype(np.float32), cat_flds=cat_vars, bs=128)\n",
    "# ,test_df=df_test\n",
    "#todo: add a test set"
   ]
  },
  {
   "cell_type": "markdown",
   "metadata": {},
   "source": [
    "Some categorical variables have a lot more levels than others. Store, in particular, has over a thousand!"
   ]
  },
  {
   "cell_type": "code",
   "execution_count": 42,
   "metadata": {},
   "outputs": [],
   "source": [
    "cat_sz = [(c, len(joined_samp[c].cat.categories)+1) for c in cat_vars]"
   ]
  },
  {
   "cell_type": "code",
   "execution_count": 43,
   "metadata": {
    "scrolled": true
   },
   "outputs": [
    {
     "data": {
      "text/plain": [
       "[('hour', 25), ('dayOfWeek', 8), ('month', 10), ('year', 3)]"
      ]
     },
     "execution_count": 43,
     "metadata": {},
     "output_type": "execute_result"
    }
   ],
   "source": [
    "cat_sz"
   ]
  },
  {
   "cell_type": "markdown",
   "metadata": {},
   "source": [
    "We use the *cardinality* of each variable (that is, its number of unique values) to decide how large to make its *embeddings*. Each level will be associated with a vector with length defined as below."
   ]
  },
  {
   "cell_type": "code",
   "execution_count": 44,
   "metadata": {},
   "outputs": [],
   "source": [
    "emb_szs = [(c, min(50, (c+1)//2)) for _,c in cat_sz]"
   ]
  },
  {
   "cell_type": "code",
   "execution_count": 45,
   "metadata": {
    "scrolled": true
   },
   "outputs": [
    {
     "data": {
      "text/plain": [
       "[(25, 13), (8, 4), (10, 5), (3, 2)]"
      ]
     },
     "execution_count": 45,
     "metadata": {},
     "output_type": "execute_result"
    }
   ],
   "source": [
    "emb_szs"
   ]
  },
  {
   "cell_type": "code",
   "execution_count": 46,
   "metadata": {},
   "outputs": [],
   "source": [
    "m = md.get_learner(emb_szs, len(df.columns)-len(cat_vars),\n",
    "                   0.04, 1, [1000,500], [0.001,0.01], y_range=y_range)\n",
    "lr = 1e-3"
   ]
  },
  {
   "cell_type": "code",
   "execution_count": 47,
   "metadata": {},
   "outputs": [
    {
     "data": {
      "application/vnd.jupyter.widget-view+json": {
       "model_id": "e7987d29dc4046fc8797bd3acd9c253b",
       "version_major": 2,
       "version_minor": 0
      },
      "text/plain": [
       "HBox(children=(IntProgress(value=0, description='Epoch', max=1), HTML(value='')))"
      ]
     },
     "metadata": {},
     "output_type": "display_data"
    },
    {
     "name": "stdout",
     "output_type": "stream",
     "text": [
      " 58%|█████▊    | 53/91 [00:01<00:01, 26.98it/s, loss=0.896]\n",
      "                                                           \r"
     ]
    }
   ],
   "source": [
    "m.lr_find()"
   ]
  },
  {
   "cell_type": "code",
   "execution_count": 48,
   "metadata": {},
   "outputs": [
    {
     "data": {
      "image/png": "[encoded data removed]",
      "text/plain": [
       "<Figure size 432x288 with 1 Axes>"
      ]
     },
     "metadata": {},
     "output_type": "display_data"
    }
   ],
   "source": [
    "m.sched.plot(10)"
   ]
  },
  {
   "cell_type": "markdown",
   "metadata": {
    "heading_collapsed": true
   },
   "source": [
    "### Sample"
   ]
  },
  {
   "cell_type": "code",
   "execution_count": 49,
   "metadata": {
    "hidden": true
   },
   "outputs": [],
   "source": [
    "m = md.get_learner(emb_szs, len(df.columns)-len(cat_vars),\n",
    "                   0.04, 1, [1000,500], [0.001,0.01], y_range=y_range)\n",
    "lr = 1e-3"
   ]
  },
  {
   "cell_type": "code",
   "execution_count": 50,
   "metadata": {
    "hidden": true
   },
   "outputs": [
    {
     "data": {
      "application/vnd.jupyter.widget-view+json": {
       "model_id": "f266bbcc9af34dd6b87291ad7d509fe2",
       "version_major": 2,
       "version_minor": 0
      },
      "text/plain": [
       "HBox(children=(IntProgress(value=0, description='Epoch', max=3), HTML(value='')))"
      ]
     },
     "metadata": {},
     "output_type": "display_data"
    },
    {
     "name": "stdout",
     "output_type": "stream",
     "text": [
      "epoch      trn_loss   val_loss   exp_rmspe                  \n",
      "    0      0.209653   0.027788   0.181398  \n",
      "    1      0.036248   0.030289   0.1901                      \n",
      "    2      0.010725   0.015537   0.132748                    \n",
      "\n"
     ]
    },
    {
     "data": {
      "text/plain": [
       "[array([0.01554]), 0.13274762027478915]"
      ]
     },
     "execution_count": 50,
     "metadata": {},
     "output_type": "execute_result"
    }
   ],
   "source": [
    "m.fit(lr, 3, metrics=[exp_rmspe])"
   ]
  },
  {
   "cell_type": "code",
   "execution_count": 51,
   "metadata": {
    "hidden": true
   },
   "outputs": [
    {
     "data": {
      "application/vnd.jupyter.widget-view+json": {
       "model_id": "318bda7a148742609c6d32dfa72ccefe",
       "version_major": 2,
       "version_minor": 0
      },
      "text/plain": [
       "HBox(children=(IntProgress(value=0, description='Epoch', max=5), HTML(value='')))"
      ]
     },
     "metadata": {},
     "output_type": "display_data"
    },
    {
     "name": "stdout",
     "output_type": "stream",
     "text": [
      "epoch      trn_loss   val_loss   exp_rmspe                    \n",
      "    0      0.008176   0.009158   0.100428  \n",
      "    1      0.004086   0.001494   0.039413                     \n",
      "    2      0.003081   0.001487   0.039309                     \n",
      "    3      0.00441    0.00198    0.045504                     \n",
      "    4      0.002771   0.000548   0.023691                     \n",
      "\n"
     ]
    },
    {
     "data": {
      "text/plain": [
       "[array([0.00055]), 0.023691410084745342]"
      ]
     },
     "execution_count": 51,
     "metadata": {},
     "output_type": "execute_result"
    }
   ],
   "source": [
    "m.fit(lr, 5, metrics=[exp_rmspe], cycle_len=1)"
   ]
  },
  {
   "cell_type": "code",
   "execution_count": 52,
   "metadata": {
    "hidden": true
   },
   "outputs": [
    {
     "data": {
      "application/vnd.jupyter.widget-view+json": {
       "model_id": "bafaafbba54947279279d4b877045be6",
       "version_major": 2,
       "version_minor": 0
      },
      "text/plain": [
       "HBox(children=(IntProgress(value=0, description='Epoch', max=8), HTML(value='')))"
      ]
     },
     "metadata": {},
     "output_type": "display_data"
    },
    {
     "name": "stdout",
     "output_type": "stream",
     "text": [
      "epoch      trn_loss   val_loss   exp_rmspe                    \n",
      "    0      0.004283   0.001904   0.044602  \n",
      "    1      0.002271   0.002139   0.047336                     \n",
      "    2      0.001584   0.000259   0.01622                      \n",
      "    3      0.001335   0.000743   0.027625                     \n",
      "    4      0.003168   9e-05      0.00952                      \n",
      "    5      0.001799   0.000498   0.022561                     \n",
      "    6      0.001365   0.000424   0.020801                     \n",
      "    7      0.001146   0.000542   0.023563                     \n",
      "\n"
     ]
    },
    {
     "data": {
      "text/plain": [
       "[array([0.00054]), 0.0235630363919032]"
      ]
     },
     "execution_count": 52,
     "metadata": {},
     "output_type": "execute_result"
    }
   ],
   "source": [
    "m.fit(lr, 2, metrics=[exp_rmspe], cycle_len=4)"
   ]
  },
  {
   "cell_type": "markdown",
   "metadata": {
    "heading_collapsed": true
   },
   "source": [
    "### All"
   ]
  },
  {
   "cell_type": "code",
   "execution_count": 53,
   "metadata": {
    "hidden": true
   },
   "outputs": [],
   "source": [
    "m = md.get_learner(emb_szs, len(df.columns)-len(cat_vars),\n",
    "                   0.04, 1, [1000,500], [0.001,0.01], y_range=y_range)\n",
    "lr = 1e-3"
   ]
  },
  {
   "cell_type": "code",
   "execution_count": 54,
   "metadata": {
    "hidden": true
   },
   "outputs": [
    {
     "data": {
      "application/vnd.jupyter.widget-view+json": {
       "model_id": "ffd58e2f16174dc091c038f1f9a54d28",
       "version_major": 2,
       "version_minor": 0
      },
      "text/plain": [
       "HBox(children=(IntProgress(value=0, description='Epoch', max=1), HTML(value='')))"
      ]
     },
     "metadata": {},
     "output_type": "display_data"
    },
    {
     "name": "stdout",
     "output_type": "stream",
     "text": [
      "epoch      trn_loss   val_loss   exp_rmspe                  \n",
      "    0      0.19662    0.019299   0.149032  \n",
      "\n"
     ]
    },
    {
     "data": {
      "text/plain": [
       "[array([0.0193]), 0.149032054566995]"
      ]
     },
     "execution_count": 54,
     "metadata": {},
     "output_type": "execute_result"
    }
   ],
   "source": [
    "m.fit(lr, 1, metrics=[exp_rmspe])"
   ]
  },
  {
   "cell_type": "code",
   "execution_count": 55,
   "metadata": {
    "hidden": true
   },
   "outputs": [
    {
     "data": {
      "application/vnd.jupyter.widget-view+json": {
       "model_id": "898c0bc273754d5cabc733783fae9f92",
       "version_major": 2,
       "version_minor": 0
      },
      "text/plain": [
       "HBox(children=(IntProgress(value=0, description='Epoch', max=3), HTML(value='')))"
      ]
     },
     "metadata": {},
     "output_type": "display_data"
    },
    {
     "name": "stdout",
     "output_type": "stream",
     "text": [
      "epoch      trn_loss   val_loss   exp_rmspe                   \n",
      "    0      0.042307   0.010174   0.106129  \n",
      "    1      0.011402   0.002486   0.051128                    \n",
      "    2      0.005266   0.001765   0.042903                     \n",
      "\n"
     ]
    },
    {
     "data": {
      "text/plain": [
       "[array([0.00176]), 0.04290272641656013]"
      ]
     },
     "execution_count": 55,
     "metadata": {},
     "output_type": "execute_result"
    }
   ],
   "source": [
    "m.fit(lr, 3, metrics=[exp_rmspe])"
   ]
  },
  {
   "cell_type": "code",
   "execution_count": 56,
   "metadata": {
    "hidden": true
   },
   "outputs": [
    {
     "data": {
      "application/vnd.jupyter.widget-view+json": {
       "model_id": "dfab84f5970d433aa3c7f7b4585e8cb2",
       "version_major": 2,
       "version_minor": 0
      },
      "text/plain": [
       "HBox(children=(IntProgress(value=0, description='Epoch', max=3), HTML(value='')))"
      ]
     },
     "metadata": {},
     "output_type": "display_data"
    },
    {
     "name": "stdout",
     "output_type": "stream",
     "text": [
      "epoch      trn_loss   val_loss   exp_rmspe                   \n",
      "    0      0.00734    0.000776   0.028255  \n",
      "    1      0.003725   7.5e-05    0.008622                     \n",
      "    2      0.002546   0.000641   0.025003                     \n",
      "\n"
     ]
    },
    {
     "data": {
      "text/plain": [
       "[array([0.00064]), 0.02500261543607456]"
      ]
     },
     "execution_count": 56,
     "metadata": {},
     "output_type": "execute_result"
    }
   ],
   "source": [
    "m.fit(lr, 3, metrics=[exp_rmspe], cycle_len=1)"
   ]
  },
  {
   "cell_type": "markdown",
   "metadata": {
    "heading_collapsed": true
   },
   "source": [
    "### Test"
   ]
  },
  {
   "cell_type": "code",
   "execution_count": 57,
   "metadata": {
    "hidden": true
   },
   "outputs": [],
   "source": [
    "m = md.get_learner(emb_szs, len(df.columns)-len(cat_vars),\n",
    "                   0.04, 1, [1000,500], [0.001,0.01], y_range=y_range)\n",
    "lr = 1e-3"
   ]
  },
  {
   "cell_type": "code",
   "execution_count": 58,
   "metadata": {
    "hidden": true
   },
   "outputs": [
    {
     "data": {
      "application/vnd.jupyter.widget-view+json": {
       "model_id": "b0dcee18bc3b490ebc607d7e6512075b",
       "version_major": 2,
       "version_minor": 0
      },
      "text/plain": [
       "HBox(children=(IntProgress(value=0, description='Epoch', max=3), HTML(value='')))"
      ]
     },
     "metadata": {},
     "output_type": "display_data"
    },
    {
     "name": "stdout",
     "output_type": "stream",
     "text": [
      "epoch      trn_loss   val_loss   exp_rmspe                  \n",
      "    0      0.09549    0.009601   0.102948  \n",
      "    1      0.01792    0.007224   0.088709                    \n",
      "    2      0.005873   0.005047   0.073623                     \n",
      "\n"
     ]
    },
    {
     "data": {
      "text/plain": [
       "[array([0.00505]), 0.07362279229323138]"
      ]
     },
     "execution_count": 58,
     "metadata": {},
     "output_type": "execute_result"
    }
   ],
   "source": [
    "m.fit(lr, 3, metrics=[exp_rmspe])"
   ]
  },
  {
   "cell_type": "code",
   "execution_count": 59,
   "metadata": {
    "hidden": true
   },
   "outputs": [
    {
     "data": {
      "application/vnd.jupyter.widget-view+json": {
       "model_id": "34c0f13cf7c44f21be3d27ee6d9c967d",
       "version_major": 2,
       "version_minor": 0
      },
      "text/plain": [
       "HBox(children=(IntProgress(value=0, description='Epoch', max=3), HTML(value='')))"
      ]
     },
     "metadata": {},
     "output_type": "display_data"
    },
    {
     "name": "stdout",
     "output_type": "stream",
     "text": [
      "epoch      trn_loss   val_loss   exp_rmspe                    \n",
      "    0      0.00451    4.5e-05    0.006724  \n",
      "    1      0.002501   0.00017    0.012948                     \n",
      "    2      0.001871   0.000272   0.01637                      \n",
      "\n"
     ]
    },
    {
     "data": {
      "text/plain": [
       "[array([0.00027]), 0.016370196300632425]"
      ]
     },
     "execution_count": 59,
     "metadata": {},
     "output_type": "execute_result"
    }
   ],
   "source": [
    "m.fit(lr, 3, metrics=[exp_rmspe], cycle_len=1)"
   ]
  },
  {
   "cell_type": "code",
   "execution_count": 60,
   "metadata": {
    "hidden": true
   },
   "outputs": [],
   "source": [
    "m.save('val0')"
   ]
  },
  {
   "cell_type": "code",
   "execution_count": 61,
   "metadata": {
    "hidden": true
   },
   "outputs": [],
   "source": [
    "m.load('val0')"
   ]
  },
  {
   "cell_type": "code",
   "execution_count": 62,
   "metadata": {
    "hidden": true
   },
   "outputs": [],
   "source": [
    "x,y=m.predict_with_targs()"
   ]
  },
  {
   "cell_type": "code",
   "execution_count": 63,
   "metadata": {
    "hidden": true
   },
   "outputs": [
    {
     "data": {
      "text/plain": [
       "0.016370196300632425"
      ]
     },
     "execution_count": 63,
     "metadata": {},
     "output_type": "execute_result"
    }
   ],
   "source": [
    "exp_rmspe(x,y)"
   ]
  },
  {
   "cell_type": "code",
   "execution_count": 64,
   "metadata": {
    "hidden": true
   },
   "outputs": [],
   "source": [
    "#pred_test=m.predict(True)"
   ]
  },
  {
   "cell_type": "code",
   "execution_count": 65,
   "metadata": {
    "hidden": true
   },
   "outputs": [],
   "source": [
    "#pred_test = np.exp(pred_test)"
   ]
  },
  {
   "cell_type": "code",
   "execution_count": 67,
   "metadata": {
    "hidden": true
   },
   "outputs": [],
   "source": [
    "#joined_test['Sales']=pred_test"
   ]
  },
  {
   "cell_type": "code",
   "execution_count": 68,
   "metadata": {
    "hidden": true
   },
   "outputs": [],
   "source": [
    "csv_fn=f'{PATH}tmp/sub.csv'"
   ]
  },
  {
   "cell_type": "code",
   "execution_count": 70,
   "metadata": {
    "hidden": true
   },
   "outputs": [],
   "source": [
    "#joined_test[['Id','Sales']].to_csv(csv_fn, index=False)"
   ]
  },
  {
   "cell_type": "code",
   "execution_count": 72,
   "metadata": {
    "hidden": true
   },
   "outputs": [],
   "source": [
    "#FileLink(csv_fn)"
   ]
  },
  {
   "cell_type": "markdown",
   "metadata": {
    "heading_collapsed": true
   },
   "source": [
    "## RF"
   ]
  },
  {
   "cell_type": "code",
   "execution_count": 73,
   "metadata": {
    "hidden": true
   },
   "outputs": [],
   "source": [
    "from sklearn.ensemble import RandomForestRegressor"
   ]
  },
  {
   "cell_type": "code",
   "execution_count": 74,
   "metadata": {
    "hidden": true
   },
   "outputs": [],
   "source": [
    "((val,trn), (y_val,y_trn)) = split_by_idx(val_idx, df.values, yl)"
   ]
  },
  {
   "cell_type": "code",
   "execution_count": 75,
   "metadata": {
    "hidden": true
   },
   "outputs": [],
   "source": [
    "m = RandomForestRegressor(n_estimators=40, max_features=0.99, min_samples_leaf=2,\n",
    "                          n_jobs=-1, oob_score=True)\n",
    "m.fit(trn, y_trn);"
   ]
  },
  {
   "cell_type": "code",
   "execution_count": 76,
   "metadata": {
    "hidden": true
   },
   "outputs": [
    {
     "data": {
      "text/plain": [
       "(0.999968375637121, 0.0, 0.9998592257488945, 0.009215095806684434)"
      ]
     },
     "execution_count": 76,
     "metadata": {},
     "output_type": "execute_result"
    }
   ],
   "source": [
    "preds = m.predict(val)\n",
    "m.score(trn, y_trn), m.score(val, y_val), m.oob_score_, exp_rmspe(preds, y_val)"
   ]
  },
  {
   "cell_type": "code",
   "execution_count": null,
   "metadata": {},
   "outputs": [],
   "source": []
  },
  {
   "cell_type": "code",
   "execution_count": null,
   "metadata": {},
   "outputs": [],
   "source": []
  }
 ],
 "metadata": {
  "anaconda-cloud": {},
  "kernelspec": {
   "display_name": "Python 3",
   "language": "python",
   "name": "python3"
  },
  "language_info": {
   "codemirror_mode": {
    "name": "ipython",
    "version": 3
   },
   "file_extension": ".py",
   "mimetype": "text/x-python",
   "name": "python",
   "nbconvert_exporter": "python",
   "pygments_lexer": "ipython3",
   "version": "3.6.5"
  },
  "toc": {
   "colors": {
    "hover_highlight": "#DAA520",
    "navigate_num": "#000000",
    "navigate_text": "#333333",
    "running_highlight": "#FF0000",
    "selected_highlight": "#FFD700",
    "sidebar_border": "#EEEEEE",
    "wrapper_background": "#FFFFFF"
   },
   "moveMenuLeft": true,
   "nav_menu": {
    "height": "173px",
    "width": "251px"
   },
   "navigate_menu": true,
   "number_sections": true,
   "sideBar": true,
   "threshold": 4,
   "toc_cell": false,
   "toc_section_display": "block",
   "toc_window_display": false,
   "widenNotebook": false
  }
 },
 "nbformat": 4,
 "nbformat_minor": 2
}
