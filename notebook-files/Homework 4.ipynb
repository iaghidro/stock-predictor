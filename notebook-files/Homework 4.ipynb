{
 "cells": [
  {
   "cell_type": "code",
   "execution_count": 1,
   "metadata": {},
   "outputs": [],
   "source": [
    "# !apt update -y\n",
    "# !pip3 install gym\n",
    "# !apt-get install software-properties-common -y\n",
    "# !add-apt-repository universe -y\n",
    "# !apt install freeglut3-dev -y\n",
    "# !apt-get install python-opengl -y\n",
    "# !apt-get install ffmpeg -y\n",
    "# !pip install gym[toy_text]"
   ]
  },
  {
   "cell_type": "code",
   "execution_count": 2,
   "metadata": {},
   "outputs": [],
   "source": [
    "def choose_action(state):\n",
    "    action=0\n",
    "    if np.random.uniform(low=0, high=1) < epsilon:\n",
    "        action = np.random.randint(env.action_space.n)\n",
    "    else:\n",
    "        action = np.argmax(Q[state, :])\n",
    "    return action\n",
    "\n",
    "def learn(state, state2, reward, action):\n",
    "    predict = Q[state, action]\n",
    "    target = reward + gamma * np.max(Q[state2, :])\n",
    "    Q[state, action] = Q[state, action] + alpha * (target - predict)\n",
    "\n",
    "def walk_env():\n",
    "    for episode in range(n_episodes):\n",
    "        t = 0\n",
    "        state = env.reset()\n",
    "        while t < max_steps:\n",
    "#             env.render()\n",
    "            action = choose_action(state)\n",
    "            state2, reward, done, info = env.step(action)\n",
    "            learn(state, state2, reward, action)\n",
    "            state = state2\n",
    "            t += 1\n",
    "            if done:\n",
    "                break\n",
    "\n",
    "def create_env():\n",
    "    env = gym.envs.toy_text.taxi.TaxiEnv().unwrapped\n",
    "    return env\n",
    "\n",
    "def create_Q():\n",
    "    return np.zeros((env.observation_space.n, env.action_space.n))"
   ]
  },
  {
   "cell_type": "code",
   "execution_count": 3,
   "metadata": {},
   "outputs": [],
   "source": [
    "import gym\n",
    "import gym.envs.toy_text;\n",
    "import numpy as np\n",
    "import time, pickle, os"
   ]
  },
  {
   "cell_type": "code",
   "execution_count": 4,
   "metadata": {},
   "outputs": [
    {
     "name": "stdout",
     "output_type": "stream",
     "text": [
      "[[ 0.          0.          0.          0.          0.          0.        ]\n",
      " [ 1.62261467  2.9140163   1.62261467  2.9140163   4.348907   -6.0859837 ]\n",
      " [ 4.348907    5.94323     4.348907    5.94323     7.7147     -3.05677   ]\n",
      " ...\n",
      " [ 7.7147      9.683       7.7147      5.94323    -1.2853     -1.2853    ]\n",
      " [ 1.62261467  2.9140163   1.62261467  2.9140163  -7.37738533 -7.37738533]\n",
      " [14.3        11.87       14.3        17.          5.3         5.3       ]]\n"
     ]
    }
   ],
   "source": [
    "max_steps = 100\n",
    "gamma=0.9\n",
    "alpha=0.25\n",
    "epsilon=0.9\n",
    "n_episodes=15000\n",
    "\n",
    "env = create_env()\n",
    "Q = create_Q()\n",
    "walk_env()\n",
    "print(Q)"
   ]
  },
  {
   "cell_type": "code",
   "execution_count": 5,
   "metadata": {},
   "outputs": [
    {
     "name": "stdout",
     "output_type": "stream",
     "text": [
      "-11.37440251501301\n",
      "4.348906999999988\n",
      "-0.5856821173000089\n",
      "9.682999999999986\n",
      "-12.82326603716054\n"
     ]
    }
   ],
   "source": [
    "print(Q[462, 4])\n",
    "print(Q[398, 3])\n",
    "print(Q[253, 0])\n",
    "print(Q[377, 1])\n",
    "print(Q[83, 5])"
   ]
  },
  {
   "cell_type": "code",
   "execution_count": 6,
   "metadata": {},
   "outputs": [],
   "source": [
    "# hw examples for optimal Q values:\n",
    "# Q(462, 4) = -11.374402515\n",
    "# Q(398, 3) = 4.348907\n",
    "# Q(253, 0) = -0.5856821173\n",
    "# Q(377, 1) = 9.683\n",
    "# Q(83, 5) = -12.8232660372"
   ]
  },
  {
   "cell_type": "code",
   "execution_count": 7,
   "metadata": {},
   "outputs": [
    {
     "name": "stdout",
     "output_type": "stream",
     "text": [
      "5.943229999999987\n",
      "-1.5271139055700083\n",
      "-2.374402515013008\n",
      "5.943229999999987\n",
      "-10.527113905570012\n",
      "-1.5271139055700083\n",
      "-4.440939433444486\n",
      "-5.497160941090037\n",
      "-8.539646797000014\n",
      "5.943229999999987\n"
     ]
    }
   ],
   "source": [
    "# hw graded examples\n",
    "print(Q[439,1])\n",
    "print(Q[211,1])\n",
    "print(Q[288,1])\n",
    "print(Q[376,1])\n",
    "print(Q[241,5])\n",
    "print(Q[274,1])\n",
    "print(Q[6,3])\n",
    "print(Q[389,0])\n",
    "print(Q[387,5])\n",
    "print(Q[99,1])"
   ]
  },
  {
   "cell_type": "code",
   "execution_count": null,
   "metadata": {},
   "outputs": [],
   "source": []
  }
 ],
 "metadata": {
  "kernelspec": {
   "display_name": "Python 3",
   "language": "python",
   "name": "python3"
  },
  "language_info": {
   "codemirror_mode": {
    "name": "ipython",
    "version": 3
   },
   "file_extension": ".py",
   "mimetype": "text/x-python",
   "name": "python",
   "nbconvert_exporter": "python",
   "pygments_lexer": "ipython3",
   "version": "3.5.2"
  }
 },
 "nbformat": 4,
 "nbformat_minor": 2
}
