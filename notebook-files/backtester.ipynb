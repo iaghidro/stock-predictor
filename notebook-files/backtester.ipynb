{
 "cells": [
  {
   "cell_type": "markdown",
   "metadata": {},
   "source": [
    "# Backtester"
   ]
  },
  {
   "cell_type": "code",
   "execution_count": 1,
   "metadata": {},
   "outputs": [],
   "source": [
    "%matplotlib inline\n",
    "%reload_ext autoreload\n",
    "%autoreload 2"
   ]
  },
  {
   "cell_type": "markdown",
   "metadata": {
    "collapsed": true,
    "heading_collapsed": true,
    "scrolled": false
   },
   "source": [
    "## Stock Predictor Lib\n"
   ]
  },
  {
   "cell_type": "code",
   "execution_count": 2,
   "metadata": {},
   "outputs": [],
   "source": [
    "import json as js\n",
    "import numpy as np\n",
    "import pandas as pd\n",
    "from ta import *\n",
    "#from fastai.structured import *\n",
    "#from fastai.column_data import *\n",
    "\n",
    "\n",
    "class StockPredictor:\n",
    "\n",
    "    def __init__(self, df, index):\n",
    "        self.df = df\n",
    "        self.index = index\n",
    "\n",
    "    # ///////////////////////////////\n",
    "    # /////// DATA CLEANING /////////\n",
    "    # ///////////////////////////////\n",
    "\n",
    "    def sample_train(self, sampleSize):\n",
    "        self.train = self.df.tail(sampleSize)\n",
    "        print('Train size: ' + str(len(self.train)) +\n",
    "              ' Original size: ' + str(len(self.df)))\n",
    "\n",
    "    def set_date_as_index(self):\n",
    "        self.train[self.index] = pd.to_datetime(self.train[self.index])\n",
    "\n",
    "    def set_date_as_index_unix(self):\n",
    "        self.train[self.index] = pd.to_datetime(\n",
    "            self.train[self.index], unit='s')\n",
    "\n",
    "    def split_train_validation(self, testRecordsCount, trainRecordsCount):\n",
    "        self.test = self.train.tail(testRecordsCount)\n",
    "        self.train = self.train.head(trainRecordsCount)\n",
    "#        self.test.reset_index(inplace=True)\n",
    "#        self.train.reset_index(inplace=True)\n",
    "        print('Train size: ' + str(len(self.train)) +\n",
    "              ' Test size: ' + str(len(self.test)))\n",
    "\n",
    "    def normalize_train(self, volume, open, high, low, close):\n",
    "        self.train = pd.DataFrame({\n",
    "            'Timestamp': self.train[self.index],\n",
    "            'Volume': self.train[volume],\n",
    "            'Open': self.train[open],\n",
    "            'High': self.train[high],\n",
    "            'Low': self.train[low],\n",
    "            'Close': self.train[close]\n",
    "        })[['Timestamp', 'Volume', 'Open', 'High', 'Low', 'Close']]\n",
    "\n",
    "    def clean_train(self):\n",
    "        #     df = df.dropna()\n",
    "        #     df = df.replace(np.nan,df.mean())\n",
    "        self.train = self.train.replace([np.inf, -np.inf], np.nan)\n",
    "        self.train = self.train.fillna(method='bfill')\n",
    "        print('Train size: ' + str(len(self.train)))\n",
    "\n",
    "    # ///////////////////////////////\n",
    "    # //// FEATURE ENGINEERING //////\n",
    "    # ///////////////////////////////\n",
    "\n",
    "    def get_max_lookback(self, target, lookback):\n",
    "        return self.train[target].rolling(\n",
    "            window=lookback, min_periods=1).max()\n",
    "\n",
    "    def add_ta(self):\n",
    "        self.train = add_all_ta_features(\n",
    "            self.train, \"Open\", \"High\", \"Low\", \"Close\", \"Volume\", fillna=True)\n",
    "        self.train['max5'] = self.get_max_lookback(\"Close\", 5)\n",
    "        self.train['max15'] = self.get_max_lookback(\"Close\", 15)\n",
    "        self.train['max30'] = self.get_max_lookback(\"Close\", 30)\n",
    "        self.train['max60'] = self.get_max_lookback(\"Close\", 60)\n",
    "        self.train['max90'] = self.get_max_lookback(\"Close\", 90)\n",
    "\n",
    "    \"\"\" Set the target (dependent variable) by looking ahead in a certain time window and percent increase\n",
    "        to determine if the action should be a BUY or a SELL. BUY is true/1 SELL is false/0\"\"\"\n",
    "\n",
    "    def set_target(self, target, lookahead, percentIncrease):\n",
    "        #        ,win_type='boxcar'\n",
    "        max_in_lookahead_timeframe = self.train[target] \\\n",
    "            .iloc[::-1] \\\n",
    "            .rolling(window=lookahead, min_periods=1) \\\n",
    "            .max() \\\n",
    "            .iloc[::-1]\n",
    "        self.train['action'] = max_in_lookahead_timeframe > (\n",
    "            percentIncrease * self.train['Close'])\n",
    "#        self.train['max'] =max_in_lookahead_timeframe\n",
    "        self.train.action = self.train.action.astype(int)\n",
    "        buy_count = str(len(self.train[self.train.action == 1]))\n",
    "        sell_count = str(len(self.train[self.train.action == 0]))\n",
    "        print('Buy count: ' + buy_count + ' Sell count: ' + sell_count)\n",
    "\n",
    "    def set_target_historical(self, target, lookback, percentIncrease):\n",
    "        max_in_lookback_timeframe = self.get_max_lookback(target, lookback)\n",
    "        self.train['action'] = max_in_lookback_timeframe > (\n",
    "            percentIncrease * self.train['Close'])\n",
    "        self.train.action = self.train.action.astype(int)\n",
    "        buy_count = str(len(self.train[self.train.action == 1]))\n",
    "        sell_count = str(len(self.train[self.train.action == 0]))\n",
    "        print('Buy count: ' + buy_count + ' Sell count: ' + sell_count)\n",
    "\n",
    "    def set_target_historical_hold(self, target, lookback, percentIncrease):\n",
    "        self.train['action'] = 0\n",
    "        max_lookback = self.get_max_lookback(target, lookback)\n",
    "        self.train.loc[max_lookback > self.train['Close'], 'action'] = 1\n",
    "\n",
    "        self.train.loc[max_lookback > percentIncrease *\n",
    "                       self.train['Close'], 'action'] = 2\n",
    "\n",
    "        self.train.action = self.train.action.astype(int)\n",
    "        sell_count = str(len(self.train[self.train.action == 0]))\n",
    "        hold_count = str(len(self.train[self.train.action == 1]))\n",
    "        buy_count = str(len(self.train[self.train.action == 2]))\n",
    "        print('Buy count: ' + buy_count + ' Sell count: ' +\n",
    "              sell_count + ' Hold count: ' + hold_count)\n",
    "\n",
    "    def add_date_values(self):\n",
    "        add_datepart(self.train, 'Timestamp', drop=False)\n",
    "        self.train['hour'] = self.train['Timestamp'].dt.hour\n",
    "        self.train['minute'] = self.train['Timestamp'].dt.minute\n",
    "\n",
    "    # ///////////////////////////////\n",
    "    # ///////// EVALUATION //////////\n",
    "    # ///////////////////////////////\n",
    "\n",
    "    def generate_net_profit_result(self, df, startAmount, totalBuys, totalSells):\n",
    "        startClose = df.Close.iloc[0]\n",
    "        endClose = df.Close.iloc[-1]\n",
    "        endBuyAmount = df.buyAmount.iloc[-1]\n",
    "        endSellAmount = df.sellAmount.iloc[-1]\n",
    "        endAmount = endBuyAmount if (\n",
    "            endBuyAmount > 0) else (endSellAmount * endClose)\n",
    "        buyAndHoldPercentIncrease = ((endClose - startClose)/startClose) * 100\n",
    "        percentIncrease = ((endAmount - startAmount)/startAmount) * 100\n",
    "        percentDifference = percentIncrease - buyAndHoldPercentIncrease\n",
    "\n",
    "        result = {\n",
    "            'startClose': startClose,\n",
    "            'endClose': endClose,\n",
    "            'startAmount': startAmount,\n",
    "            'endAmount': endAmount,\n",
    "            'buyAndHoldPercentIncrease': round(buyAndHoldPercentIncrease, 3),\n",
    "            'percentIncrease': round(percentIncrease, 3),\n",
    "            'percentDifference': round(percentDifference, 3),\n",
    "            'totalTrades': totalBuys + totalSells\n",
    "        }\n",
    "        return result\n",
    "\n",
    "    def calculate_accuracy(self, df):\n",
    "        successful_predictions = df.loc[df.action == df.predicted]\n",
    "        total_accuracy = len(successful_predictions)/len(df)\n",
    "        total_buy_actions = df.loc[df.action == 1]\n",
    "        total_sell_actions = df.loc[df.action == 0]\n",
    "        successful_buy_predictions = successful_predictions.loc[successful_predictions.action == 1]\n",
    "        successful_sell_predictions = successful_predictions.loc[successful_predictions.action == 0]\n",
    "        buy_accuracy = len(successful_buy_predictions)/len(total_buy_actions)\n",
    "        sell_accuracy = (len(successful_sell_predictions) /\n",
    "                         len(total_sell_actions))\n",
    "        f1Score = (buy_accuracy + sell_accuracy)/2\n",
    "        result = {\n",
    "            'F1Score': round(f1Score, 3),\n",
    "            'totalAccuracy': round(total_accuracy, 3),\n",
    "            'buyAccuracy': round(buy_accuracy, 3),\n",
    "            'sellAccuracy': round(sell_accuracy, 3),\n",
    "            'totalBuyActions': len(total_buy_actions),\n",
    "            'successfulBuyPredictions': len(successful_buy_predictions)\n",
    "        }\n",
    "        return result\n",
    "\n",
    "    def calculate_net_profit(self, inputDf, startAmount, fee):\n",
    "        df = inputDf\n",
    "        df['buyAmount'] = 0\n",
    "        df['sellAmount'] = 0\n",
    "        totalBuys = 0\n",
    "        totalSells = 0\n",
    "        for index, row in df.iterrows():\n",
    "            prevBuyAmount = df.buyAmount.get(index - 1, np.nan)\n",
    "            prevSellAmount = df.sellAmount.get(index - 1, np.nan)\n",
    "            predicted = row.predicted\n",
    "            if index == df.index[0]:\n",
    "                df.loc[index, 'buyAmount'] = startAmount\n",
    "            elif predicted == 1 and prevBuyAmount > 0:\n",
    "                # BUY\n",
    "                base_sell = prevBuyAmount/row.Close\n",
    "                df.loc[index, 'sellAmount'] = base_sell - (base_sell * fee)\n",
    "                totalBuys += 1\n",
    "            elif predicted == 1 and prevBuyAmount == 0:\n",
    "                df.loc[index, 'sellAmount'] = prevSellAmount\n",
    "            elif predicted == 0 and prevSellAmount > 0:\n",
    "                # SELL\n",
    "                base_buy = prevSellAmount*row.Close\n",
    "                df.loc[index, 'buyAmount'] = base_buy - (base_buy*fee)\n",
    "                totalSells += 1\n",
    "            elif predicted == 0 and prevSellAmount == 0:\n",
    "                df.loc[index, 'buyAmount'] = prevBuyAmount\n",
    "            else:\n",
    "                raise ValueError(\n",
    "                    'This is weird, invalid predicted value: ' + str(predicted) + ' prevSellAmount: ' +\n",
    "                    str(prevSellAmount) + ' prevBuyAmount: ' + str(prevBuyAmount))\n",
    "        result = self.generate_net_profit_result(\n",
    "            df, startAmount, totalBuys, totalSells)\n",
    "        self.net_profit_df = df\n",
    "        self.result = result\n",
    "        print(js.dumps(result, sort_keys=False, indent=4, separators=(',', ': ')))\n",
    "\n",
    "    def calculate_net_profit_hold(self, inputDf, startAmount, fee):\n",
    "        df = inputDf\n",
    "        df['buyAmount'] = 0\n",
    "        df['sellAmount'] = 0\n",
    "        totalBuys = 0\n",
    "        totalSells = 0\n",
    "        for index, row in df.iterrows():\n",
    "            prevBuyAmount = df.buyAmount.get(index - 1, np.nan)\n",
    "            prevSellAmount = df.sellAmount.get(index - 1, np.nan)\n",
    "            predicted = row.predicted\n",
    "            if index == df.index[0]:\n",
    "                df.loc[index, 'buyAmount'] = startAmount\n",
    "            elif predicted == 2 and prevBuyAmount > 0:\n",
    "                # BUY\n",
    "                base_sell = prevBuyAmount / row.Close\n",
    "                df.loc[index, 'sellAmount'] = base_sell - (base_sell * fee)\n",
    "                totalBuys += 1\n",
    "            elif predicted == 2 and prevBuyAmount == 0:\n",
    "                df.loc[index, 'sellAmount'] = prevSellAmount\n",
    "            elif predicted == 0 and prevSellAmount > 0:\n",
    "                # SELL\n",
    "                base_buy = prevSellAmount * row.Close\n",
    "                df.loc[index, 'buyAmount'] = base_buy - (base_buy*fee)\n",
    "                totalSells += 1\n",
    "            elif predicted == 0 and prevSellAmount == 0:\n",
    "                df.loc[index, 'buyAmount'] = prevBuyAmount\n",
    "            elif predicted == 1:\n",
    "                # HOLD\n",
    "                df.loc[index, 'buyAmount'] = prevBuyAmount\n",
    "                df.loc[index, 'sellAmount'] = prevSellAmount\n",
    "            else:\n",
    "                raise ValueError(\n",
    "                    'This is weird, invalid predicted value: ' + str(predicted))\n",
    "\n",
    "        result = self.generate_net_profit_result(\n",
    "            df, startAmount, totalBuys, totalSells)\n",
    "        self.net_profit_df = df\n",
    "        self.result = result\n",
    "        print(js.dumps(result, sort_keys=False, indent=4, separators=(',', ': ')))\n",
    "\n",
    "    # ///////////////////////////////\n",
    "    # /////////// UTIL //////////////\n",
    "    # ///////////////////////////////\n",
    "\n",
    "    def save_to_feather(self):\n",
    "        self.train.reset_index(inplace=True)\n",
    "        self.train.to_feather(f'{PATH}train')\n",
    "\n",
    "    def read_from_feather(self):\n",
    "        self.train = pd.read_feather(f'{PATH}train')\n",
    "        # train.drop(self.index,1,inplace=True)\n",
    "\n",
    "    \"\"\" usage conflateTimeFrame(df, '5T') \"\"\"\n",
    "\n",
    "    def conflate_time_frame(self, df, timeFrame):\n",
    "        ohlc_dict = {\n",
    "            'Open': 'first',\n",
    "            'High': 'max',\n",
    "            'Low': 'min',\n",
    "            'Close': 'last',\n",
    "            'Volume': 'sum'\n",
    "        }\n",
    "        return df.resample(timeFrame).agg(ohlc_dict)\n",
    "\n",
    "    def plot_profit(self, df):\n",
    "        df.plot(\n",
    "            x='Timestamp',\n",
    "            y=['Close', 'buyAmount'],\n",
    "            style='o',\n",
    "            figsize=(10, 5),\n",
    "            grid=True)\n"
   ]
  },
  {
   "cell_type": "code",
   "execution_count": 3,
   "metadata": {},
   "outputs": [],
   "source": [
    "def join_df(left, right, left_on, right_on=None, suffix='_y'):\n",
    "        if right_on is None:\n",
    "            right_on = left_on\n",
    "        return left.merge(right, how='left', left_on=left_on, right_on=right_on,\n",
    "                          suffixes=(\"\", suffix))"
   ]
  },
  {
   "cell_type": "markdown",
   "metadata": {
    "collapsed": true,
    "heading_collapsed": true,
    "scrolled": false
   },
   "source": [
    "## Config\n"
   ]
  },
  {
   "cell_type": "code",
   "execution_count": 4,
   "metadata": {},
   "outputs": [],
   "source": [
    "np.set_printoptions(threshold=50, edgeitems=20)\n",
    "pd.set_option('display.max_columns', 300)\n",
    "pd.set_option('display.max_rows', 300)\n",
    "from IPython.display import HTML"
   ]
  },
  {
   "cell_type": "code",
   "execution_count": 5,
   "metadata": {
    "hidden": true
   },
   "outputs": [],
   "source": [
    "lookahead = 10\n",
    "sample_size=100000\n",
    "percentIncrease = 1.002\n",
    "# index='Timestamp'\n",
    "index='time_period_start'\n",
    "dep = 'action'\n",
    "PATH='data/stock/'"
   ]
  },
  {
   "cell_type": "markdown",
   "metadata": {
    "collapsed": true,
    "heading_collapsed": true,
    "scrolled": false
   },
   "source": [
    "## Create datasets"
   ]
  },
  {
   "cell_type": "code",
   "execution_count": 6,
   "metadata": {
    "hidden": true
   },
   "outputs": [],
   "source": [
    "table_names = [\n",
    "#         'btc-bitstamp-2012-01-01_to_2018-01-08'\n",
    "#     'BTC_COINBASE_2018-07-25_09-06'\n",
    "#     'ETH_COINBASE_07-21_08-24'\n",
    "#     'COINBASE_BCH_2018-06-15_09-01'\n",
    "#     'COINBASE_BTC_2017-11-01_01-09'\n",
    "#     'bitstampUSD_1-min_data_2012-01-01_to_2018-06-27',\n",
    "#     'coinbaseUSD_1-min_data_2014-12-01_to_2018-06-27'\n",
    "    'bitstamp_07-09'\n",
    "]"
   ]
  },
  {
   "cell_type": "code",
   "execution_count": 7,
   "metadata": {
    "hidden": true
   },
   "outputs": [],
   "source": [
    "tables = [pd.read_csv(f'{PATH}{fname}.csv', low_memory=False) for fname in table_names]"
   ]
  },
  {
   "cell_type": "code",
   "execution_count": 8,
   "metadata": {
    "hidden": true
   },
   "outputs": [
    {
     "data": {
      "text/html": [
       "<div>\n",
       "<style scoped>\n",
       "    .dataframe tbody tr th:only-of-type {\n",
       "        vertical-align: middle;\n",
       "    }\n",
       "\n",
       "    .dataframe tbody tr th {\n",
       "        vertical-align: top;\n",
       "    }\n",
       "\n",
       "    .dataframe thead th {\n",
       "        text-align: right;\n",
       "    }\n",
       "</style>\n",
       "<table border=\"1\" class=\"dataframe\">\n",
       "  <thead>\n",
       "    <tr style=\"text-align: right;\">\n",
       "      <th></th>\n",
       "      <th>time_period_start</th>\n",
       "      <th>time_period_end</th>\n",
       "      <th>time_open</th>\n",
       "      <th>time_close</th>\n",
       "      <th>price_open</th>\n",
       "      <th>price_high</th>\n",
       "      <th>price_low</th>\n",
       "      <th>price_close</th>\n",
       "      <th>volume_traded</th>\n",
       "      <th>trades_count</th>\n",
       "    </tr>\n",
       "  </thead>\n",
       "  <tbody>\n",
       "    <tr>\n",
       "      <th>0</th>\n",
       "      <td>2018-07-01T00:00:00.000Z</td>\n",
       "      <td>2018-07-01T00:01:00.000Z</td>\n",
       "      <td>2018-07-01T00:00:08.000Z</td>\n",
       "      <td>2018-07-01T00:00:59.000Z</td>\n",
       "      <td>6385.75</td>\n",
       "      <td>6396.08</td>\n",
       "      <td>6385.70</td>\n",
       "      <td>6392.09</td>\n",
       "      <td>2.891739</td>\n",
       "      <td>19</td>\n",
       "    </tr>\n",
       "    <tr>\n",
       "      <th>1</th>\n",
       "      <td>2018-07-01T00:01:00.000Z</td>\n",
       "      <td>2018-07-01T00:02:00.000Z</td>\n",
       "      <td>2018-07-01T00:01:15.000Z</td>\n",
       "      <td>2018-07-01T00:01:59.000Z</td>\n",
       "      <td>6387.16</td>\n",
       "      <td>6398.99</td>\n",
       "      <td>6385.09</td>\n",
       "      <td>6398.99</td>\n",
       "      <td>2.689349</td>\n",
       "      <td>13</td>\n",
       "    </tr>\n",
       "    <tr>\n",
       "      <th>2</th>\n",
       "      <td>2018-07-01T00:02:00.000Z</td>\n",
       "      <td>2018-07-01T00:03:00.000Z</td>\n",
       "      <td>2018-07-01T00:02:00.000Z</td>\n",
       "      <td>2018-07-01T00:02:46.000Z</td>\n",
       "      <td>6398.99</td>\n",
       "      <td>6420.57</td>\n",
       "      <td>6391.87</td>\n",
       "      <td>6408.14</td>\n",
       "      <td>29.993216</td>\n",
       "      <td>62</td>\n",
       "    </tr>\n",
       "    <tr>\n",
       "      <th>3</th>\n",
       "      <td>2018-07-01T00:03:00.000Z</td>\n",
       "      <td>2018-07-01T00:04:00.000Z</td>\n",
       "      <td>2018-07-01T00:03:02.000Z</td>\n",
       "      <td>2018-07-01T00:03:49.000Z</td>\n",
       "      <td>6414.99</td>\n",
       "      <td>6416.04</td>\n",
       "      <td>6397.12</td>\n",
       "      <td>6404.96</td>\n",
       "      <td>3.580496</td>\n",
       "      <td>18</td>\n",
       "    </tr>\n",
       "    <tr>\n",
       "      <th>4</th>\n",
       "      <td>2018-07-01T00:04:00.000Z</td>\n",
       "      <td>2018-07-01T00:05:00.000Z</td>\n",
       "      <td>2018-07-01T00:04:00.000Z</td>\n",
       "      <td>2018-07-01T00:04:59.000Z</td>\n",
       "      <td>6404.95</td>\n",
       "      <td>6411.84</td>\n",
       "      <td>6403.88</td>\n",
       "      <td>6408.03</td>\n",
       "      <td>2.502174</td>\n",
       "      <td>17</td>\n",
       "    </tr>\n",
       "  </tbody>\n",
       "</table>\n",
       "</div>"
      ],
      "text/plain": [
       "          time_period_start           time_period_end  \\\n",
       "0  2018-07-01T00:00:00.000Z  2018-07-01T00:01:00.000Z   \n",
       "1  2018-07-01T00:01:00.000Z  2018-07-01T00:02:00.000Z   \n",
       "2  2018-07-01T00:02:00.000Z  2018-07-01T00:03:00.000Z   \n",
       "3  2018-07-01T00:03:00.000Z  2018-07-01T00:04:00.000Z   \n",
       "4  2018-07-01T00:04:00.000Z  2018-07-01T00:05:00.000Z   \n",
       "\n",
       "                  time_open                time_close  price_open  price_high  \\\n",
       "0  2018-07-01T00:00:08.000Z  2018-07-01T00:00:59.000Z     6385.75     6396.08   \n",
       "1  2018-07-01T00:01:15.000Z  2018-07-01T00:01:59.000Z     6387.16     6398.99   \n",
       "2  2018-07-01T00:02:00.000Z  2018-07-01T00:02:46.000Z     6398.99     6420.57   \n",
       "3  2018-07-01T00:03:02.000Z  2018-07-01T00:03:49.000Z     6414.99     6416.04   \n",
       "4  2018-07-01T00:04:00.000Z  2018-07-01T00:04:59.000Z     6404.95     6411.84   \n",
       "\n",
       "   price_low  price_close  volume_traded  trades_count  \n",
       "0    6385.70      6392.09       2.891739            19  \n",
       "1    6385.09      6398.99       2.689349            13  \n",
       "2    6391.87      6408.14      29.993216            62  \n",
       "3    6397.12      6404.96       3.580496            18  \n",
       "4    6403.88      6408.03       2.502174            17  "
      ]
     },
     "metadata": {},
     "output_type": "display_data"
    }
   ],
   "source": [
    "for t in tables: display(t.head())"
   ]
  },
  {
   "cell_type": "code",
   "execution_count": 9,
   "metadata": {},
   "outputs": [],
   "source": [
    "train= tables[0]"
   ]
  },
  {
   "cell_type": "code",
   "execution_count": 10,
   "metadata": {},
   "outputs": [
    {
     "name": "stdout",
     "output_type": "stream",
     "text": [
      "Train size: 100000 Original size: 100000\n"
     ]
    }
   ],
   "source": [
    "p = StockPredictor(train, index)\n",
    "p.sample_train(sample_size)\n",
    "# p.train = p.train.head(100000)"
   ]
  },
  {
   "cell_type": "code",
   "execution_count": 11,
   "metadata": {},
   "outputs": [],
   "source": [
    "p.save_to_feather()"
   ]
  },
  {
   "cell_type": "markdown",
   "metadata": {},
   "source": [
    "## Data Cleaning"
   ]
  },
  {
   "cell_type": "code",
   "execution_count": 12,
   "metadata": {
    "hidden": true
   },
   "outputs": [],
   "source": [
    "p.read_from_feather()\n",
    "p.set_date_as_index()\n",
    "# p.set_date_as_index_unix()"
   ]
  },
  {
   "cell_type": "code",
   "execution_count": 13,
   "metadata": {},
   "outputs": [],
   "source": [
    "# p.normalize_train('Volume_(BTC)','Open','High','Low','Close')\n",
    "p.normalize_train('volume_traded','price_open','price_high','price_low','price_close')"
   ]
  },
  {
   "cell_type": "markdown",
   "metadata": {},
   "source": [
    "## Conflate Time"
   ]
  },
  {
   "cell_type": "code",
   "execution_count": 14,
   "metadata": {},
   "outputs": [],
   "source": [
    "# train = train.set_index(pd.DatetimeIndex(train[index]))\n",
    "# p.train = p.conflate_time_frame(p.train, '5T')\n",
    "# len(train)"
   ]
  },
  {
   "cell_type": "markdown",
   "metadata": {},
   "source": [
    "## Set Target"
   ]
  },
  {
   "cell_type": "code",
   "execution_count": 15,
   "metadata": {},
   "outputs": [
    {
     "name": "stdout",
     "output_type": "stream",
     "text": [
      "Buy count: 19667 Sell count: 80333\n"
     ]
    }
   ],
   "source": [
    "p.set_target_historical('Close',lookahead, percentIncrease)\n",
    "# p.set_target_historical_hold('Close',lookahead, percentIncrease)"
   ]
  },
  {
   "cell_type": "code",
   "execution_count": 16,
   "metadata": {},
   "outputs": [],
   "source": [
    "# p.train.head(10)"
   ]
  },
  {
   "cell_type": "code",
   "execution_count": 17,
   "metadata": {},
   "outputs": [],
   "source": [
    "# p.train.tail(10)"
   ]
  },
  {
   "cell_type": "markdown",
   "metadata": {},
   "source": [
    "## Validation"
   ]
  },
  {
   "cell_type": "code",
   "execution_count": 18,
   "metadata": {},
   "outputs": [],
   "source": [
    "valpred = pd.DataFrame({\n",
    "    'Timestamp':p.train.Timestamp,\n",
    "    'Close':p.train.Close,\n",
    "    'action':p.train.action,\n",
    "    'predicted':p.train.action\n",
    "})[['Timestamp', 'Close', 'action', 'predicted']] "
   ]
  },
  {
   "cell_type": "code",
   "execution_count": 19,
   "metadata": {},
   "outputs": [],
   "source": [
    "# coinbaseDf= tables[1].tail(sample_size)\n",
    "# coinbaseDf[index] = pd.to_datetime(coinbaseDf[index], unit='s')\n",
    "# coinbaseExtract = pd.DataFrame({\n",
    "#     'CoinbaseTimestamp':coinbaseDf.Timestamp,\n",
    "#     'Close':coinbaseDf.Close,\n",
    "# })[['CoinbaseTimestamp', 'Close']] \n",
    "# # valpred = bitstampExtract.join(coinbaseExtract)\n",
    "# valpred = valpred.reset_index(drop=True)\n",
    "# coinbaseExtract = coinbaseExtract.reset_index(drop=True)\n",
    "# valpred = pd.concat([bitstampExtract, coinbaseExtract], axis=1)"
   ]
  },
  {
   "cell_type": "code",
   "execution_count": 20,
   "metadata": {},
   "outputs": [
    {
     "name": "stdout",
     "output_type": "stream",
     "text": [
      "{\n",
      "    \"startClose\": 6392.09,\n",
      "    \"endClose\": 6248.48,\n",
      "    \"startAmount\": 1000,\n",
      "    \"endAmount\": 4619.679170121502,\n",
      "    \"buyAndHoldPercentIncrease\": -2.247,\n",
      "    \"percentIncrease\": 361.968,\n",
      "    \"percentDifference\": 364.215,\n",
      "    \"totalTrades\": 10628\n",
      "}\n"
     ]
    }
   ],
   "source": [
    "p.calculate_net_profit(valpred, 1000, 0)\n",
    "# p.calculate_net_profit_hold(valpred, 1000, 0)"
   ]
  },
  {
   "cell_type": "code",
   "execution_count": 21,
   "metadata": {},
   "outputs": [
    {
     "data": {
      "image/png": "[encoded data removed]",
      "text/plain": [
       "<Figure size 720x360 with 1 Axes>"
      ]
     },
     "metadata": {
      "needs_background": "light"
     },
     "output_type": "display_data"
    }
   ],
   "source": [
    "p.plot_profit(p.net_profit_df)\n",
    "# train.tail(100)"
   ]
  },
  {
   "cell_type": "code",
   "execution_count": 22,
   "metadata": {},
   "outputs": [],
   "source": [
    "# p.net_profit_df.head(10)"
   ]
  },
  {
   "cell_type": "code",
   "execution_count": 23,
   "metadata": {},
   "outputs": [],
   "source": [
    "# p.net_profit_df.tail(10)"
   ]
  }
 ],
 "metadata": {
  "anaconda-cloud": {},
  "kernelspec": {
   "display_name": "Python 3",
   "language": "python",
   "name": "python3"
  },
  "language_info": {
   "codemirror_mode": {
    "name": "ipython",
    "version": 3
   },
   "file_extension": ".py",
   "mimetype": "text/x-python",
   "name": "python",
   "nbconvert_exporter": "python",
   "pygments_lexer": "ipython3",
   "version": "3.6.6"
  },
  "toc": {
   "colors": {
    "hover_highlight": "#DAA520",
    "navigate_num": "#000000",
    "navigate_text": "#333333",
    "running_highlight": "#FF0000",
    "selected_highlight": "#FFD700",
    "sidebar_border": "#EEEEEE",
    "wrapper_background": "#FFFFFF"
   },
   "moveMenuLeft": true,
   "nav_menu": {
    "height": "173px",
    "width": "251px"
   },
   "navigate_menu": true,
   "number_sections": true,
   "sideBar": true,
   "threshold": 4,
   "toc_cell": false,
   "toc_section_display": "block",
   "toc_window_display": false,
   "widenNotebook": false
  }
 },
 "nbformat": 4,
 "nbformat_minor": 2
}
